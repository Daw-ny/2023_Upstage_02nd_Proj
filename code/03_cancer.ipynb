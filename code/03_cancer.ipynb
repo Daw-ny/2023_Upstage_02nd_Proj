{
 "cells": [
  {
   "cell_type": "markdown",
   "metadata": {},
   "source": [
    "# Cancer data\n",
    "\n",
    "## 1. total data"
   ]
  },
  {
   "cell_type": "code",
   "execution_count": 22,
   "metadata": {},
   "outputs": [],
   "source": [
    "# load modules\n",
    "# basic\n",
    "import numpy as np\n",
    "import pandas as pd\n",
    "from tqdm import tqdm\n",
    "import itertools\n",
    "\n",
    "## graph\n",
    "import matplotlib.pyplot as plt\n",
    "import seaborn as sns\n",
    "import plotly.express as px\n",
    "import plotly.graph_objects as go\n",
    "from plotly.subplots import make_subplots\n",
    "import kaleido\n",
    "\n",
    "## sklearn\n",
    "from sklearn.metrics import confusion_matrix\n",
    "from sklearn.preprocessing import LabelEncoder\n",
    "\n",
    "## statistics\n",
    "from scipy.stats import pearsonr\n",
    "from scipy import stats\n",
    "import statsmodels.api as sm\n",
    "from statsmodels.stats.multicomp import pairwise_tukeyhsd\n",
    "from scipy.stats import bartlett\n",
    "from scipy.stats import levene"
   ]
  },
  {
   "cell_type": "code",
   "execution_count": 23,
   "metadata": {},
   "outputs": [],
   "source": [
    "# load data\n",
    "data = pd.read_csv('../data/Cancer/total-cancer-deaths-by-type.csv', encoding='utf-8')\n",
    "population = pd.read_csv('../data/world_population.csv', encoding='utf-8')"
   ]
  },
  {
   "cell_type": "code",
   "execution_count": 24,
   "metadata": {},
   "outputs": [
    {
     "data": {
      "text/plain": [
       "Entity                                                                                     0\n",
       "Code                                                                                     690\n",
       "Year                                                                                       0\n",
       "Deaths - Liver cancer - Sex: Both - Age: All Ages (Number)                                 0\n",
       "Deaths - Kidney cancer - Sex: Both - Age: All Ages (Number)                                0\n",
       "Deaths - Lip and oral cavity cancer - Sex: Both - Age: All Ages (Number)                   0\n",
       "Deaths - Tracheal, bronchus, and lung cancer - Sex: Both - Age: All Ages (Number)          0\n",
       "Deaths - Larynx cancer - Sex: Both - Age: All Ages (Number)                                0\n",
       "Deaths - Gallbladder and biliary tract cancer - Sex: Both - Age: All Ages (Number)         0\n",
       "Deaths - Malignant skin melanoma - Sex: Both - Age: All Ages (Number)                      0\n",
       "Deaths - Leukemia - Sex: Both - Age: All Ages (Number)                                     0\n",
       "Deaths - Hodgkin lymphoma - Sex: Both - Age: All Ages (Number)                             0\n",
       "Deaths - Multiple myeloma - Sex: Both - Age: All Ages (Number)                             0\n",
       "Deaths - Other neoplasms - Sex: Both - Age: All Ages (Number)                              0\n",
       "Deaths - Breast cancer - Sex: Both - Age: All Ages (Number)                                0\n",
       "Deaths - Prostate cancer - Sex: Both - Age: All Ages (Number)                              0\n",
       "Deaths - Thyroid cancer - Sex: Both - Age: All Ages (Number)                               0\n",
       "Deaths - Stomach cancer - Sex: Both - Age: All Ages (Number)                               0\n",
       "Deaths - Bladder cancer - Sex: Both - Age: All Ages (Number)                               0\n",
       "Deaths - Uterine cancer - Sex: Both - Age: All Ages (Number)                               0\n",
       "Deaths - Ovarian cancer - Sex: Both - Age: All Ages (Number)                               0\n",
       "Deaths - Cervical cancer - Sex: Both - Age: All Ages (Number)                              0\n",
       "Deaths - Brain and central nervous system cancer - Sex: Both - Age: All Ages (Number)      0\n",
       "Deaths - Non-Hodgkin lymphoma - Sex: Both - Age: All Ages (Number)                         0\n",
       "Deaths - Pancreatic cancer - Sex: Both - Age: All Ages (Number)                            0\n",
       "Deaths - Esophageal cancer - Sex: Both - Age: All Ages (Number)                            0\n",
       "Deaths - Testicular cancer - Sex: Both - Age: All Ages (Number)                            0\n",
       "Deaths - Nasopharynx cancer - Sex: Both - Age: All Ages (Number)                           0\n",
       "Deaths - Other pharynx cancer - Sex: Both - Age: All Ages (Number)                         0\n",
       "Deaths - Colon and rectum cancer - Sex: Both - Age: All Ages (Number)                      0\n",
       "Deaths - Non-melanoma skin cancer - Sex: Both - Age: All Ages (Number)                     0\n",
       "Deaths - Mesothelioma - Sex: Both - Age: All Ages (Number)                                 0\n",
       "dtype: int64"
      ]
     },
     "execution_count": 24,
     "metadata": {},
     "output_type": "execute_result"
    }
   ],
   "source": [
    "data.isna().sum()"
   ]
  },
  {
   "cell_type": "code",
   "execution_count": 25,
   "metadata": {},
   "outputs": [
    {
     "data": {
      "text/html": [
       "<div>\n",
       "<style scoped>\n",
       "    .dataframe tbody tr th:only-of-type {\n",
       "        vertical-align: middle;\n",
       "    }\n",
       "\n",
       "    .dataframe tbody tr th {\n",
       "        vertical-align: top;\n",
       "    }\n",
       "\n",
       "    .dataframe thead th {\n",
       "        text-align: right;\n",
       "    }\n",
       "</style>\n",
       "<table border=\"1\" class=\"dataframe\">\n",
       "  <thead>\n",
       "    <tr style=\"text-align: right;\">\n",
       "      <th></th>\n",
       "      <th>Entity</th>\n",
       "      <th>Code</th>\n",
       "      <th>Year</th>\n",
       "      <th>Deaths - Liver cancer - Sex: Both - Age: All Ages (Number)</th>\n",
       "      <th>Deaths - Kidney cancer - Sex: Both - Age: All Ages (Number)</th>\n",
       "      <th>Deaths - Lip and oral cavity cancer - Sex: Both - Age: All Ages (Number)</th>\n",
       "      <th>Deaths - Tracheal, bronchus, and lung cancer - Sex: Both - Age: All Ages (Number)</th>\n",
       "      <th>Deaths - Larynx cancer - Sex: Both - Age: All Ages (Number)</th>\n",
       "      <th>Deaths - Gallbladder and biliary tract cancer - Sex: Both - Age: All Ages (Number)</th>\n",
       "      <th>Deaths - Malignant skin melanoma - Sex: Both - Age: All Ages (Number)</th>\n",
       "      <th>...</th>\n",
       "      <th>Deaths - Brain and central nervous system cancer - Sex: Both - Age: All Ages (Number)</th>\n",
       "      <th>Deaths - Non-Hodgkin lymphoma - Sex: Both - Age: All Ages (Number)</th>\n",
       "      <th>Deaths - Pancreatic cancer - Sex: Both - Age: All Ages (Number)</th>\n",
       "      <th>Deaths - Esophageal cancer - Sex: Both - Age: All Ages (Number)</th>\n",
       "      <th>Deaths - Testicular cancer - Sex: Both - Age: All Ages (Number)</th>\n",
       "      <th>Deaths - Nasopharynx cancer - Sex: Both - Age: All Ages (Number)</th>\n",
       "      <th>Deaths - Other pharynx cancer - Sex: Both - Age: All Ages (Number)</th>\n",
       "      <th>Deaths - Colon and rectum cancer - Sex: Both - Age: All Ages (Number)</th>\n",
       "      <th>Deaths - Non-melanoma skin cancer - Sex: Both - Age: All Ages (Number)</th>\n",
       "      <th>Deaths - Mesothelioma - Sex: Both - Age: All Ages (Number)</th>\n",
       "    </tr>\n",
       "  </thead>\n",
       "  <tbody>\n",
       "    <tr>\n",
       "      <th>0</th>\n",
       "      <td>Afghanistan</td>\n",
       "      <td>AFG</td>\n",
       "      <td>1990</td>\n",
       "      <td>851</td>\n",
       "      <td>66</td>\n",
       "      <td>89</td>\n",
       "      <td>983</td>\n",
       "      <td>260</td>\n",
       "      <td>180</td>\n",
       "      <td>47</td>\n",
       "      <td>...</td>\n",
       "      <td>422</td>\n",
       "      <td>996</td>\n",
       "      <td>138</td>\n",
       "      <td>529</td>\n",
       "      <td>3</td>\n",
       "      <td>66</td>\n",
       "      <td>37</td>\n",
       "      <td>539</td>\n",
       "      <td>25</td>\n",
       "      <td>6</td>\n",
       "    </tr>\n",
       "    <tr>\n",
       "      <th>1</th>\n",
       "      <td>Afghanistan</td>\n",
       "      <td>AFG</td>\n",
       "      <td>1991</td>\n",
       "      <td>866</td>\n",
       "      <td>66</td>\n",
       "      <td>89</td>\n",
       "      <td>982</td>\n",
       "      <td>263</td>\n",
       "      <td>182</td>\n",
       "      <td>48</td>\n",
       "      <td>...</td>\n",
       "      <td>438</td>\n",
       "      <td>1010</td>\n",
       "      <td>137</td>\n",
       "      <td>535</td>\n",
       "      <td>4</td>\n",
       "      <td>67</td>\n",
       "      <td>37</td>\n",
       "      <td>542</td>\n",
       "      <td>26</td>\n",
       "      <td>7</td>\n",
       "    </tr>\n",
       "    <tr>\n",
       "      <th>2</th>\n",
       "      <td>Afghanistan</td>\n",
       "      <td>AFG</td>\n",
       "      <td>1992</td>\n",
       "      <td>890</td>\n",
       "      <td>68</td>\n",
       "      <td>91</td>\n",
       "      <td>989</td>\n",
       "      <td>268</td>\n",
       "      <td>185</td>\n",
       "      <td>51</td>\n",
       "      <td>...</td>\n",
       "      <td>472</td>\n",
       "      <td>1040</td>\n",
       "      <td>137</td>\n",
       "      <td>546</td>\n",
       "      <td>4</td>\n",
       "      <td>69</td>\n",
       "      <td>38</td>\n",
       "      <td>550</td>\n",
       "      <td>26</td>\n",
       "      <td>7</td>\n",
       "    </tr>\n",
       "    <tr>\n",
       "      <th>3</th>\n",
       "      <td>Afghanistan</td>\n",
       "      <td>AFG</td>\n",
       "      <td>1993</td>\n",
       "      <td>914</td>\n",
       "      <td>70</td>\n",
       "      <td>93</td>\n",
       "      <td>995</td>\n",
       "      <td>275</td>\n",
       "      <td>189</td>\n",
       "      <td>53</td>\n",
       "      <td>...</td>\n",
       "      <td>505</td>\n",
       "      <td>1062</td>\n",
       "      <td>139</td>\n",
       "      <td>560</td>\n",
       "      <td>5</td>\n",
       "      <td>72</td>\n",
       "      <td>39</td>\n",
       "      <td>555</td>\n",
       "      <td>27</td>\n",
       "      <td>7</td>\n",
       "    </tr>\n",
       "    <tr>\n",
       "      <th>4</th>\n",
       "      <td>Afghanistan</td>\n",
       "      <td>AFG</td>\n",
       "      <td>1994</td>\n",
       "      <td>933</td>\n",
       "      <td>71</td>\n",
       "      <td>94</td>\n",
       "      <td>996</td>\n",
       "      <td>282</td>\n",
       "      <td>193</td>\n",
       "      <td>54</td>\n",
       "      <td>...</td>\n",
       "      <td>526</td>\n",
       "      <td>1069</td>\n",
       "      <td>140</td>\n",
       "      <td>575</td>\n",
       "      <td>5</td>\n",
       "      <td>73</td>\n",
       "      <td>39</td>\n",
       "      <td>554</td>\n",
       "      <td>28</td>\n",
       "      <td>8</td>\n",
       "    </tr>\n",
       "    <tr>\n",
       "      <th>5</th>\n",
       "      <td>Afghanistan</td>\n",
       "      <td>AFG</td>\n",
       "      <td>1995</td>\n",
       "      <td>946</td>\n",
       "      <td>71</td>\n",
       "      <td>94</td>\n",
       "      <td>995</td>\n",
       "      <td>286</td>\n",
       "      <td>195</td>\n",
       "      <td>56</td>\n",
       "      <td>...</td>\n",
       "      <td>541</td>\n",
       "      <td>1074</td>\n",
       "      <td>139</td>\n",
       "      <td>584</td>\n",
       "      <td>6</td>\n",
       "      <td>74</td>\n",
       "      <td>39</td>\n",
       "      <td>552</td>\n",
       "      <td>28</td>\n",
       "      <td>8</td>\n",
       "    </tr>\n",
       "    <tr>\n",
       "      <th>6</th>\n",
       "      <td>Afghanistan</td>\n",
       "      <td>AFG</td>\n",
       "      <td>1996</td>\n",
       "      <td>962</td>\n",
       "      <td>72</td>\n",
       "      <td>95</td>\n",
       "      <td>994</td>\n",
       "      <td>291</td>\n",
       "      <td>198</td>\n",
       "      <td>57</td>\n",
       "      <td>...</td>\n",
       "      <td>559</td>\n",
       "      <td>1081</td>\n",
       "      <td>139</td>\n",
       "      <td>595</td>\n",
       "      <td>6</td>\n",
       "      <td>75</td>\n",
       "      <td>39</td>\n",
       "      <td>550</td>\n",
       "      <td>28</td>\n",
       "      <td>8</td>\n",
       "    </tr>\n",
       "    <tr>\n",
       "      <th>7</th>\n",
       "      <td>Afghanistan</td>\n",
       "      <td>AFG</td>\n",
       "      <td>1997</td>\n",
       "      <td>976</td>\n",
       "      <td>73</td>\n",
       "      <td>95</td>\n",
       "      <td>993</td>\n",
       "      <td>295</td>\n",
       "      <td>201</td>\n",
       "      <td>58</td>\n",
       "      <td>...</td>\n",
       "      <td>580</td>\n",
       "      <td>1090</td>\n",
       "      <td>139</td>\n",
       "      <td>606</td>\n",
       "      <td>6</td>\n",
       "      <td>75</td>\n",
       "      <td>39</td>\n",
       "      <td>550</td>\n",
       "      <td>29</td>\n",
       "      <td>8</td>\n",
       "    </tr>\n",
       "    <tr>\n",
       "      <th>8</th>\n",
       "      <td>Afghanistan</td>\n",
       "      <td>AFG</td>\n",
       "      <td>1998</td>\n",
       "      <td>985</td>\n",
       "      <td>73</td>\n",
       "      <td>96</td>\n",
       "      <td>990</td>\n",
       "      <td>299</td>\n",
       "      <td>203</td>\n",
       "      <td>59</td>\n",
       "      <td>...</td>\n",
       "      <td>588</td>\n",
       "      <td>1094</td>\n",
       "      <td>140</td>\n",
       "      <td>615</td>\n",
       "      <td>6</td>\n",
       "      <td>76</td>\n",
       "      <td>39</td>\n",
       "      <td>549</td>\n",
       "      <td>29</td>\n",
       "      <td>9</td>\n",
       "    </tr>\n",
       "    <tr>\n",
       "      <th>9</th>\n",
       "      <td>Afghanistan</td>\n",
       "      <td>AFG</td>\n",
       "      <td>1999</td>\n",
       "      <td>994</td>\n",
       "      <td>73</td>\n",
       "      <td>96</td>\n",
       "      <td>987</td>\n",
       "      <td>302</td>\n",
       "      <td>206</td>\n",
       "      <td>60</td>\n",
       "      <td>...</td>\n",
       "      <td>591</td>\n",
       "      <td>1098</td>\n",
       "      <td>141</td>\n",
       "      <td>626</td>\n",
       "      <td>6</td>\n",
       "      <td>76</td>\n",
       "      <td>39</td>\n",
       "      <td>548</td>\n",
       "      <td>29</td>\n",
       "      <td>9</td>\n",
       "    </tr>\n",
       "  </tbody>\n",
       "</table>\n",
       "<p>10 rows × 32 columns</p>\n",
       "</div>"
      ],
      "text/plain": [
       "        Entity Code  Year  \\\n",
       "0  Afghanistan  AFG  1990   \n",
       "1  Afghanistan  AFG  1991   \n",
       "2  Afghanistan  AFG  1992   \n",
       "3  Afghanistan  AFG  1993   \n",
       "4  Afghanistan  AFG  1994   \n",
       "5  Afghanistan  AFG  1995   \n",
       "6  Afghanistan  AFG  1996   \n",
       "7  Afghanistan  AFG  1997   \n",
       "8  Afghanistan  AFG  1998   \n",
       "9  Afghanistan  AFG  1999   \n",
       "\n",
       "   Deaths - Liver cancer - Sex: Both - Age: All Ages (Number)  \\\n",
       "0                                                851            \n",
       "1                                                866            \n",
       "2                                                890            \n",
       "3                                                914            \n",
       "4                                                933            \n",
       "5                                                946            \n",
       "6                                                962            \n",
       "7                                                976            \n",
       "8                                                985            \n",
       "9                                                994            \n",
       "\n",
       "   Deaths - Kidney cancer - Sex: Both - Age: All Ages (Number)  \\\n",
       "0                                                 66             \n",
       "1                                                 66             \n",
       "2                                                 68             \n",
       "3                                                 70             \n",
       "4                                                 71             \n",
       "5                                                 71             \n",
       "6                                                 72             \n",
       "7                                                 73             \n",
       "8                                                 73             \n",
       "9                                                 73             \n",
       "\n",
       "   Deaths - Lip and oral cavity cancer - Sex: Both - Age: All Ages (Number)  \\\n",
       "0                                                 89                          \n",
       "1                                                 89                          \n",
       "2                                                 91                          \n",
       "3                                                 93                          \n",
       "4                                                 94                          \n",
       "5                                                 94                          \n",
       "6                                                 95                          \n",
       "7                                                 95                          \n",
       "8                                                 96                          \n",
       "9                                                 96                          \n",
       "\n",
       "   Deaths - Tracheal, bronchus, and lung cancer - Sex: Both - Age: All Ages (Number)  \\\n",
       "0                                                983                                   \n",
       "1                                                982                                   \n",
       "2                                                989                                   \n",
       "3                                                995                                   \n",
       "4                                                996                                   \n",
       "5                                                995                                   \n",
       "6                                                994                                   \n",
       "7                                                993                                   \n",
       "8                                                990                                   \n",
       "9                                                987                                   \n",
       "\n",
       "   Deaths - Larynx cancer - Sex: Both - Age: All Ages (Number)  \\\n",
       "0                                                260             \n",
       "1                                                263             \n",
       "2                                                268             \n",
       "3                                                275             \n",
       "4                                                282             \n",
       "5                                                286             \n",
       "6                                                291             \n",
       "7                                                295             \n",
       "8                                                299             \n",
       "9                                                302             \n",
       "\n",
       "   Deaths - Gallbladder and biliary tract cancer - Sex: Both - Age: All Ages (Number)  \\\n",
       "0                                                180                                    \n",
       "1                                                182                                    \n",
       "2                                                185                                    \n",
       "3                                                189                                    \n",
       "4                                                193                                    \n",
       "5                                                195                                    \n",
       "6                                                198                                    \n",
       "7                                                201                                    \n",
       "8                                                203                                    \n",
       "9                                                206                                    \n",
       "\n",
       "   Deaths - Malignant skin melanoma - Sex: Both - Age: All Ages (Number)  ...  \\\n",
       "0                                                 47                      ...   \n",
       "1                                                 48                      ...   \n",
       "2                                                 51                      ...   \n",
       "3                                                 53                      ...   \n",
       "4                                                 54                      ...   \n",
       "5                                                 56                      ...   \n",
       "6                                                 57                      ...   \n",
       "7                                                 58                      ...   \n",
       "8                                                 59                      ...   \n",
       "9                                                 60                      ...   \n",
       "\n",
       "   Deaths - Brain and central nervous system cancer - Sex: Both - Age: All Ages (Number)  \\\n",
       "0                                                422                                       \n",
       "1                                                438                                       \n",
       "2                                                472                                       \n",
       "3                                                505                                       \n",
       "4                                                526                                       \n",
       "5                                                541                                       \n",
       "6                                                559                                       \n",
       "7                                                580                                       \n",
       "8                                                588                                       \n",
       "9                                                591                                       \n",
       "\n",
       "   Deaths - Non-Hodgkin lymphoma - Sex: Both - Age: All Ages (Number)  \\\n",
       "0                                                996                    \n",
       "1                                               1010                    \n",
       "2                                               1040                    \n",
       "3                                               1062                    \n",
       "4                                               1069                    \n",
       "5                                               1074                    \n",
       "6                                               1081                    \n",
       "7                                               1090                    \n",
       "8                                               1094                    \n",
       "9                                               1098                    \n",
       "\n",
       "   Deaths - Pancreatic cancer - Sex: Both - Age: All Ages (Number)  \\\n",
       "0                                                138                 \n",
       "1                                                137                 \n",
       "2                                                137                 \n",
       "3                                                139                 \n",
       "4                                                140                 \n",
       "5                                                139                 \n",
       "6                                                139                 \n",
       "7                                                139                 \n",
       "8                                                140                 \n",
       "9                                                141                 \n",
       "\n",
       "   Deaths - Esophageal cancer - Sex: Both - Age: All Ages (Number)  \\\n",
       "0                                                529                 \n",
       "1                                                535                 \n",
       "2                                                546                 \n",
       "3                                                560                 \n",
       "4                                                575                 \n",
       "5                                                584                 \n",
       "6                                                595                 \n",
       "7                                                606                 \n",
       "8                                                615                 \n",
       "9                                                626                 \n",
       "\n",
       "   Deaths - Testicular cancer - Sex: Both - Age: All Ages (Number)  \\\n",
       "0                                                  3                 \n",
       "1                                                  4                 \n",
       "2                                                  4                 \n",
       "3                                                  5                 \n",
       "4                                                  5                 \n",
       "5                                                  6                 \n",
       "6                                                  6                 \n",
       "7                                                  6                 \n",
       "8                                                  6                 \n",
       "9                                                  6                 \n",
       "\n",
       "   Deaths - Nasopharynx cancer - Sex: Both - Age: All Ages (Number)  \\\n",
       "0                                                 66                  \n",
       "1                                                 67                  \n",
       "2                                                 69                  \n",
       "3                                                 72                  \n",
       "4                                                 73                  \n",
       "5                                                 74                  \n",
       "6                                                 75                  \n",
       "7                                                 75                  \n",
       "8                                                 76                  \n",
       "9                                                 76                  \n",
       "\n",
       "   Deaths - Other pharynx cancer - Sex: Both - Age: All Ages (Number)  \\\n",
       "0                                                 37                    \n",
       "1                                                 37                    \n",
       "2                                                 38                    \n",
       "3                                                 39                    \n",
       "4                                                 39                    \n",
       "5                                                 39                    \n",
       "6                                                 39                    \n",
       "7                                                 39                    \n",
       "8                                                 39                    \n",
       "9                                                 39                    \n",
       "\n",
       "   Deaths - Colon and rectum cancer - Sex: Both - Age: All Ages (Number)  \\\n",
       "0                                                539                       \n",
       "1                                                542                       \n",
       "2                                                550                       \n",
       "3                                                555                       \n",
       "4                                                554                       \n",
       "5                                                552                       \n",
       "6                                                550                       \n",
       "7                                                550                       \n",
       "8                                                549                       \n",
       "9                                                548                       \n",
       "\n",
       "   Deaths - Non-melanoma skin cancer - Sex: Both - Age: All Ages (Number)  \\\n",
       "0                                                 25                        \n",
       "1                                                 26                        \n",
       "2                                                 26                        \n",
       "3                                                 27                        \n",
       "4                                                 28                        \n",
       "5                                                 28                        \n",
       "6                                                 28                        \n",
       "7                                                 29                        \n",
       "8                                                 29                        \n",
       "9                                                 29                        \n",
       "\n",
       "   Deaths - Mesothelioma - Sex: Both - Age: All Ages (Number)  \n",
       "0                                                  6           \n",
       "1                                                  7           \n",
       "2                                                  7           \n",
       "3                                                  7           \n",
       "4                                                  8           \n",
       "5                                                  8           \n",
       "6                                                  8           \n",
       "7                                                  8           \n",
       "8                                                  9           \n",
       "9                                                  9           \n",
       "\n",
       "[10 rows x 32 columns]"
      ]
     },
     "execution_count": 25,
     "metadata": {},
     "output_type": "execute_result"
    }
   ],
   "source": [
    "# checking the data\n",
    "data.head(10)"
   ]
  },
  {
   "cell_type": "code",
   "execution_count": 26,
   "metadata": {},
   "outputs": [],
   "source": [
    "# column name 바꾸기\n",
    "data.columns = data.columns.str.replace(\"Deaths - \", \"\").str.replace(\" - Sex: Both - Age: All Ages (Number)\", \"\")"
   ]
  },
  {
   "cell_type": "code",
   "execution_count": 27,
   "metadata": {},
   "outputs": [
    {
     "data": {
      "text/plain": [
       "Index(['Entity', 'Code', 'Year', 'Liver cancer', 'Kidney cancer',\n",
       "       'Lip and oral cavity cancer', 'Tracheal, bronchus, and lung cancer',\n",
       "       'Larynx cancer', 'Gallbladder and biliary tract cancer',\n",
       "       'Malignant skin melanoma', 'Leukemia', 'Hodgkin lymphoma',\n",
       "       'Multiple myeloma', 'Other neoplasms', 'Breast cancer',\n",
       "       'Prostate cancer', 'Thyroid cancer', 'Stomach cancer', 'Bladder cancer',\n",
       "       'Uterine cancer', 'Ovarian cancer', 'Cervical cancer',\n",
       "       'Brain and central nervous system cancer', 'Non-Hodgkin lymphoma',\n",
       "       'Pancreatic cancer', 'Esophageal cancer', 'Testicular cancer',\n",
       "       'Nasopharynx cancer', 'Other pharynx cancer', 'Colon and rectum cancer',\n",
       "       'Non-melanoma skin cancer', 'Mesothelioma'],\n",
       "      dtype='object')"
      ]
     },
     "execution_count": 27,
     "metadata": {},
     "output_type": "execute_result"
    }
   ],
   "source": [
    "data.columns"
   ]
  },
  {
   "cell_type": "code",
   "execution_count": 28,
   "metadata": {},
   "outputs": [
    {
     "name": "stderr",
     "output_type": "stream",
     "text": [
      "C:\\Users\\abc\\AppData\\Local\\Temp\\ipykernel_12688\\2201590237.py:2: SettingWithCopyWarning:\n",
      "\n",
      "\n",
      "A value is trying to be set on a copy of a slice from a DataFrame\n",
      "\n",
      "See the caveats in the documentation: https://pandas.pydata.org/pandas-docs/stable/user_guide/indexing.html#returning-a-view-versus-a-copy\n",
      "\n"
     ]
    }
   ],
   "source": [
    "# world code = nan, england code = eld, wales code = wls, scotland code = sct,Northland code = nld, Scotland code = sct, Northern Irel\n",
    "data['Code'][data['Code'] == 'OWID_WRL'] = np.nan\n",
    "#data['Code'][data['Entity'] == 'Wales'] = 'WLS'\n",
    "#data['Code'][data['Entity'] == 'England'] = 'ELD'\n",
    "#data['Code'][data['Entity'] == 'Scotland'] = 'SLD'\n",
    "#data['Code'][data['Entity'] == 'Northern Ireland'] = 'NIR'"
   ]
  },
  {
   "cell_type": "markdown",
   "metadata": {},
   "source": [
    "### (1) 국가별 확인하기"
   ]
  },
  {
   "cell_type": "code",
   "execution_count": 29,
   "metadata": {},
   "outputs": [],
   "source": [
    "# 국가 번호 없는 값 제외\n",
    "country = data[~data['Code'].isna()][['Entity', 'Code', 'Year', 'Liver cancer']]"
   ]
  },
  {
   "cell_type": "code",
   "execution_count": 30,
   "metadata": {},
   "outputs": [],
   "source": [
    "# 1990 ~ 2019년도 국가별 총 사망자 수\n",
    "sum_expire = country.groupby(['Entity', 'Code']).sum('Liver cancer').reset_index()"
   ]
  },
  {
   "cell_type": "code",
   "execution_count": 31,
   "metadata": {},
   "outputs": [
    {
     "data": {
      "text/html": [
       "<div>\n",
       "<style scoped>\n",
       "    .dataframe tbody tr th:only-of-type {\n",
       "        vertical-align: middle;\n",
       "    }\n",
       "\n",
       "    .dataframe tbody tr th {\n",
       "        vertical-align: top;\n",
       "    }\n",
       "\n",
       "    .dataframe thead th {\n",
       "        text-align: right;\n",
       "    }\n",
       "</style>\n",
       "<table border=\"1\" class=\"dataframe\">\n",
       "  <thead>\n",
       "    <tr style=\"text-align: right;\">\n",
       "      <th></th>\n",
       "      <th>Entity</th>\n",
       "      <th>Code</th>\n",
       "      <th>Year</th>\n",
       "      <th>Liver cancer</th>\n",
       "    </tr>\n",
       "  </thead>\n",
       "  <tbody>\n",
       "    <tr>\n",
       "      <th>37</th>\n",
       "      <td>China</td>\n",
       "      <td>CHN</td>\n",
       "      <td>60135</td>\n",
       "      <td>6140780</td>\n",
       "    </tr>\n",
       "    <tr>\n",
       "      <th>89</th>\n",
       "      <td>Japan</td>\n",
       "      <td>JPN</td>\n",
       "      <td>60135</td>\n",
       "      <td>978747</td>\n",
       "    </tr>\n",
       "    <tr>\n",
       "      <th>81</th>\n",
       "      <td>India</td>\n",
       "      <td>IND</td>\n",
       "      <td>60135</td>\n",
       "      <td>606386</td>\n",
       "    </tr>\n",
       "    <tr>\n",
       "      <th>180</th>\n",
       "      <td>Thailand</td>\n",
       "      <td>THA</td>\n",
       "      <td>60135</td>\n",
       "      <td>449990</td>\n",
       "    </tr>\n",
       "    <tr>\n",
       "      <th>194</th>\n",
       "      <td>United States</td>\n",
       "      <td>USA</td>\n",
       "      <td>60135</td>\n",
       "      <td>413991</td>\n",
       "    </tr>\n",
       "    <tr>\n",
       "      <th>168</th>\n",
       "      <td>South Korea</td>\n",
       "      <td>KOR</td>\n",
       "      <td>60135</td>\n",
       "      <td>289401</td>\n",
       "    </tr>\n",
       "    <tr>\n",
       "      <th>54</th>\n",
       "      <td>Egypt</td>\n",
       "      <td>EGY</td>\n",
       "      <td>60135</td>\n",
       "      <td>270270</td>\n",
       "    </tr>\n",
       "    <tr>\n",
       "      <th>87</th>\n",
       "      <td>Italy</td>\n",
       "      <td>ITA</td>\n",
       "      <td>60135</td>\n",
       "      <td>194128</td>\n",
       "    </tr>\n",
       "    <tr>\n",
       "      <th>63</th>\n",
       "      <td>France</td>\n",
       "      <td>FRA</td>\n",
       "      <td>60135</td>\n",
       "      <td>191056</td>\n",
       "    </tr>\n",
       "    <tr>\n",
       "      <th>67</th>\n",
       "      <td>Germany</td>\n",
       "      <td>DEU</td>\n",
       "      <td>60135</td>\n",
       "      <td>170726</td>\n",
       "    </tr>\n",
       "  </tbody>\n",
       "</table>\n",
       "</div>"
      ],
      "text/plain": [
       "            Entity Code   Year  Liver cancer\n",
       "37           China  CHN  60135       6140780\n",
       "89           Japan  JPN  60135        978747\n",
       "81           India  IND  60135        606386\n",
       "180       Thailand  THA  60135        449990\n",
       "194  United States  USA  60135        413991\n",
       "168    South Korea  KOR  60135        289401\n",
       "54           Egypt  EGY  60135        270270\n",
       "87           Italy  ITA  60135        194128\n",
       "63          France  FRA  60135        191056\n",
       "67         Germany  DEU  60135        170726"
      ]
     },
     "execution_count": 31,
     "metadata": {},
     "output_type": "execute_result"
    }
   ],
   "source": [
    "# 상위 10개국\n",
    "top_10_sum = sum_expire.sort_values(by='Liver cancer', ascending=False).head(10)\n",
    "top_10_sum"
   ]
  },
  {
   "cell_type": "code",
   "execution_count": 32,
   "metadata": {},
   "outputs": [
    {
     "data": {
      "text/html": [
       "<div>\n",
       "<style scoped>\n",
       "    .dataframe tbody tr th:only-of-type {\n",
       "        vertical-align: middle;\n",
       "    }\n",
       "\n",
       "    .dataframe tbody tr th {\n",
       "        vertical-align: top;\n",
       "    }\n",
       "\n",
       "    .dataframe thead th {\n",
       "        text-align: right;\n",
       "    }\n",
       "</style>\n",
       "<table border=\"1\" class=\"dataframe\">\n",
       "  <thead>\n",
       "    <tr style=\"text-align: right;\">\n",
       "      <th></th>\n",
       "      <th>Entity</th>\n",
       "      <th>Code</th>\n",
       "      <th>Year</th>\n",
       "      <th>Liver cancer</th>\n",
       "    </tr>\n",
       "  </thead>\n",
       "  <tbody>\n",
       "    <tr>\n",
       "      <th>130</th>\n",
       "      <td>Niue</td>\n",
       "      <td>NIU</td>\n",
       "      <td>60135</td>\n",
       "      <td>0</td>\n",
       "    </tr>\n",
       "    <tr>\n",
       "      <th>183</th>\n",
       "      <td>Tokelau</td>\n",
       "      <td>TKL</td>\n",
       "      <td>60135</td>\n",
       "      <td>0</td>\n",
       "    </tr>\n",
       "    <tr>\n",
       "      <th>123</th>\n",
       "      <td>Nauru</td>\n",
       "      <td>NRU</td>\n",
       "      <td>60135</td>\n",
       "      <td>0</td>\n",
       "    </tr>\n",
       "    <tr>\n",
       "      <th>189</th>\n",
       "      <td>Tuvalu</td>\n",
       "      <td>TUV</td>\n",
       "      <td>60135</td>\n",
       "      <td>30</td>\n",
       "    </tr>\n",
       "    <tr>\n",
       "      <th>155</th>\n",
       "      <td>San Marino</td>\n",
       "      <td>SMR</td>\n",
       "      <td>60135</td>\n",
       "      <td>38</td>\n",
       "    </tr>\n",
       "    <tr>\n",
       "      <th>137</th>\n",
       "      <td>Palau</td>\n",
       "      <td>PLW</td>\n",
       "      <td>60135</td>\n",
       "      <td>50</td>\n",
       "    </tr>\n",
       "    <tr>\n",
       "      <th>41</th>\n",
       "      <td>Cook Islands</td>\n",
       "      <td>COK</td>\n",
       "      <td>60135</td>\n",
       "      <td>64</td>\n",
       "    </tr>\n",
       "    <tr>\n",
       "      <th>156</th>\n",
       "      <td>Sao Tome and Principe</td>\n",
       "      <td>STP</td>\n",
       "      <td>60135</td>\n",
       "      <td>66</td>\n",
       "    </tr>\n",
       "    <tr>\n",
       "      <th>151</th>\n",
       "      <td>Saint Kitts and Nevis</td>\n",
       "      <td>KNA</td>\n",
       "      <td>60135</td>\n",
       "      <td>67</td>\n",
       "    </tr>\n",
       "    <tr>\n",
       "      <th>3</th>\n",
       "      <td>American Samoa</td>\n",
       "      <td>ASM</td>\n",
       "      <td>60135</td>\n",
       "      <td>71</td>\n",
       "    </tr>\n",
       "  </tbody>\n",
       "</table>\n",
       "</div>"
      ],
      "text/plain": [
       "                    Entity Code   Year  Liver cancer\n",
       "130                   Niue  NIU  60135             0\n",
       "183                Tokelau  TKL  60135             0\n",
       "123                  Nauru  NRU  60135             0\n",
       "189                 Tuvalu  TUV  60135            30\n",
       "155             San Marino  SMR  60135            38\n",
       "137                  Palau  PLW  60135            50\n",
       "41            Cook Islands  COK  60135            64\n",
       "156  Sao Tome and Principe  STP  60135            66\n",
       "151  Saint Kitts and Nevis  KNA  60135            67\n",
       "3           American Samoa  ASM  60135            71"
      ]
     },
     "execution_count": 32,
     "metadata": {},
     "output_type": "execute_result"
    }
   ],
   "source": [
    "# 하위 10개국\n",
    "sum_expire.sort_values(by='Liver cancer').head(10)"
   ]
  },
  {
   "cell_type": "markdown",
   "metadata": {},
   "source": [
    "- 상위 10개국 확인 결과 주로 아시아권 나라들이 차지했으며, 인구수가 가장 많은 중국과 인도가 1, 2위를 차지함\n",
    "- 인구에 따른 비율로 확인해볼 필요도 있어 보임\n",
    "- 2019년도 기준 누적 인구수 비율을 확인\n",
    "\n",
    "### (2) 인구 비율"
   ]
  },
  {
   "cell_type": "code",
   "execution_count": 33,
   "metadata": {},
   "outputs": [
    {
     "data": {
      "text/html": [
       "<div>\n",
       "<style scoped>\n",
       "    .dataframe tbody tr th:only-of-type {\n",
       "        vertical-align: middle;\n",
       "    }\n",
       "\n",
       "    .dataframe tbody tr th {\n",
       "        vertical-align: top;\n",
       "    }\n",
       "\n",
       "    .dataframe thead th {\n",
       "        text-align: right;\n",
       "    }\n",
       "</style>\n",
       "<table border=\"1\" class=\"dataframe\">\n",
       "  <thead>\n",
       "    <tr style=\"text-align: right;\">\n",
       "      <th></th>\n",
       "      <th>Entity_x</th>\n",
       "      <th>Code</th>\n",
       "      <th>Liver cancer</th>\n",
       "      <th>Year_y</th>\n",
       "      <th>Population</th>\n",
       "    </tr>\n",
       "  </thead>\n",
       "  <tbody>\n",
       "    <tr>\n",
       "      <th>0</th>\n",
       "      <td>Afghanistan</td>\n",
       "      <td>AFG</td>\n",
       "      <td>32122</td>\n",
       "      <td>2019</td>\n",
       "      <td>37212970</td>\n",
       "    </tr>\n",
       "    <tr>\n",
       "      <th>1</th>\n",
       "      <td>Albania</td>\n",
       "      <td>ALB</td>\n",
       "      <td>7838</td>\n",
       "      <td>2019</td>\n",
       "      <td>2875637</td>\n",
       "    </tr>\n",
       "    <tr>\n",
       "      <th>2</th>\n",
       "      <td>Algeria</td>\n",
       "      <td>DZA</td>\n",
       "      <td>12664</td>\n",
       "      <td>2019</td>\n",
       "      <td>42319750</td>\n",
       "    </tr>\n",
       "    <tr>\n",
       "      <th>3</th>\n",
       "      <td>American Samoa</td>\n",
       "      <td>ASM</td>\n",
       "      <td>71</td>\n",
       "      <td>2019</td>\n",
       "      <td>47887</td>\n",
       "    </tr>\n",
       "    <tr>\n",
       "      <th>4</th>\n",
       "      <td>Andorra</td>\n",
       "      <td>AND</td>\n",
       "      <td>268</td>\n",
       "      <td>2019</td>\n",
       "      <td>75666</td>\n",
       "    </tr>\n",
       "    <tr>\n",
       "      <th>5</th>\n",
       "      <td>Angola</td>\n",
       "      <td>AGO</td>\n",
       "      <td>5745</td>\n",
       "      <td>2019</td>\n",
       "      <td>31808179</td>\n",
       "    </tr>\n",
       "    <tr>\n",
       "      <th>6</th>\n",
       "      <td>Antigua and Barbuda</td>\n",
       "      <td>ATG</td>\n",
       "      <td>78</td>\n",
       "      <td>2019</td>\n",
       "      <td>91856</td>\n",
       "    </tr>\n",
       "    <tr>\n",
       "      <th>7</th>\n",
       "      <td>Argentina</td>\n",
       "      <td>ARG</td>\n",
       "      <td>22790</td>\n",
       "      <td>2019</td>\n",
       "      <td>44582599</td>\n",
       "    </tr>\n",
       "    <tr>\n",
       "      <th>8</th>\n",
       "      <td>Armenia</td>\n",
       "      <td>ARM</td>\n",
       "      <td>5348</td>\n",
       "      <td>2019</td>\n",
       "      <td>2828707</td>\n",
       "    </tr>\n",
       "    <tr>\n",
       "      <th>9</th>\n",
       "      <td>Australia</td>\n",
       "      <td>AUS</td>\n",
       "      <td>30253</td>\n",
       "      <td>2019</td>\n",
       "      <td>25170161</td>\n",
       "    </tr>\n",
       "  </tbody>\n",
       "</table>\n",
       "</div>"
      ],
      "text/plain": [
       "              Entity_x Code  Liver cancer  Year_y  Population\n",
       "0          Afghanistan  AFG         32122    2019    37212970\n",
       "1              Albania  ALB          7838    2019     2875637\n",
       "2              Algeria  DZA         12664    2019    42319750\n",
       "3       American Samoa  ASM            71    2019       47887\n",
       "4              Andorra  AND           268    2019       75666\n",
       "5               Angola  AGO          5745    2019    31808179\n",
       "6  Antigua and Barbuda  ATG            78    2019       91856\n",
       "7            Argentina  ARG         22790    2019    44582599\n",
       "8              Armenia  ARM          5348    2019     2828707\n",
       "9            Australia  AUS         30253    2019    25170161"
      ]
     },
     "execution_count": 33,
     "metadata": {},
     "output_type": "execute_result"
    }
   ],
   "source": [
    "# 총 인구와 사망 인원수 결합\n",
    "mergedata = pd.merge(sum_expire, population[population['Year'] == 2019], left_on=['Code'], right_on=['Code'], how='left')\n",
    "mergedata2 = mergedata.drop(['Entity_y', 'Location code', 'Code-2', 'Index', 'Year_x'], axis=1)\n",
    "mergedata2.head(10)"
   ]
  },
  {
   "cell_type": "code",
   "execution_count": 34,
   "metadata": {},
   "outputs": [],
   "source": [
    "# 사망 비율 확인 (사망인구/전체인구 * 10000)\n",
    "mergedata2['death_per_population'] = round(mergedata2['Liver cancer']/(mergedata2['Population'])*10000, 2)"
   ]
  },
  {
   "cell_type": "code",
   "execution_count": 35,
   "metadata": {},
   "outputs": [
    {
     "data": {
      "text/html": [
       "<div>\n",
       "<style scoped>\n",
       "    .dataframe tbody tr th:only-of-type {\n",
       "        vertical-align: middle;\n",
       "    }\n",
       "\n",
       "    .dataframe tbody tr th {\n",
       "        vertical-align: top;\n",
       "    }\n",
       "\n",
       "    .dataframe thead th {\n",
       "        text-align: right;\n",
       "    }\n",
       "</style>\n",
       "<table border=\"1\" class=\"dataframe\">\n",
       "  <thead>\n",
       "    <tr style=\"text-align: right;\">\n",
       "      <th></th>\n",
       "      <th>Entity_x</th>\n",
       "      <th>Code</th>\n",
       "      <th>Liver cancer</th>\n",
       "      <th>Year_y</th>\n",
       "      <th>Population</th>\n",
       "      <th>death_per_population</th>\n",
       "    </tr>\n",
       "  </thead>\n",
       "  <tbody>\n",
       "    <tr>\n",
       "      <th>117</th>\n",
       "      <td>Mongolia</td>\n",
       "      <td>MNG</td>\n",
       "      <td>41187</td>\n",
       "      <td>2019</td>\n",
       "      <td>3198396</td>\n",
       "      <td>128.77</td>\n",
       "    </tr>\n",
       "    <tr>\n",
       "      <th>89</th>\n",
       "      <td>Japan</td>\n",
       "      <td>JPN</td>\n",
       "      <td>978747</td>\n",
       "      <td>2019</td>\n",
       "      <td>126040583</td>\n",
       "      <td>77.65</td>\n",
       "    </tr>\n",
       "    <tr>\n",
       "      <th>180</th>\n",
       "      <td>Thailand</td>\n",
       "      <td>THA</td>\n",
       "      <td>449990</td>\n",
       "      <td>2019</td>\n",
       "      <td>71226152</td>\n",
       "      <td>63.18</td>\n",
       "    </tr>\n",
       "    <tr>\n",
       "      <th>168</th>\n",
       "      <td>South Korea</td>\n",
       "      <td>KOR</td>\n",
       "      <td>289401</td>\n",
       "      <td>2019</td>\n",
       "      <td>51749531</td>\n",
       "      <td>55.92</td>\n",
       "    </tr>\n",
       "    <tr>\n",
       "      <th>184</th>\n",
       "      <td>Tonga</td>\n",
       "      <td>TON</td>\n",
       "      <td>525</td>\n",
       "      <td>2019</td>\n",
       "      <td>105028</td>\n",
       "      <td>49.99</td>\n",
       "    </tr>\n",
       "    <tr>\n",
       "      <th>116</th>\n",
       "      <td>Monaco</td>\n",
       "      <td>MCO</td>\n",
       "      <td>161</td>\n",
       "      <td>2019</td>\n",
       "      <td>37035</td>\n",
       "      <td>43.47</td>\n",
       "    </tr>\n",
       "    <tr>\n",
       "      <th>37</th>\n",
       "      <td>China</td>\n",
       "      <td>CHN</td>\n",
       "      <td>6140780</td>\n",
       "      <td>2019</td>\n",
       "      <td>1419730043</td>\n",
       "      <td>43.25</td>\n",
       "    </tr>\n",
       "    <tr>\n",
       "      <th>41</th>\n",
       "      <td>Cook Islands</td>\n",
       "      <td>COK</td>\n",
       "      <td>64</td>\n",
       "      <td>2019</td>\n",
       "      <td>17179</td>\n",
       "      <td>37.25</td>\n",
       "    </tr>\n",
       "    <tr>\n",
       "      <th>74</th>\n",
       "      <td>Guinea</td>\n",
       "      <td>GIN</td>\n",
       "      <td>47159</td>\n",
       "      <td>2019</td>\n",
       "      <td>12713491</td>\n",
       "      <td>37.09</td>\n",
       "    </tr>\n",
       "    <tr>\n",
       "      <th>177</th>\n",
       "      <td>Taiwan</td>\n",
       "      <td>TWN</td>\n",
       "      <td>86625</td>\n",
       "      <td>2019</td>\n",
       "      <td>23754579</td>\n",
       "      <td>36.47</td>\n",
       "    </tr>\n",
       "  </tbody>\n",
       "</table>\n",
       "</div>"
      ],
      "text/plain": [
       "         Entity_x Code  Liver cancer  Year_y  Population  death_per_population\n",
       "117      Mongolia  MNG         41187    2019     3198396                128.77\n",
       "89          Japan  JPN        978747    2019   126040583                 77.65\n",
       "180      Thailand  THA        449990    2019    71226152                 63.18\n",
       "168   South Korea  KOR        289401    2019    51749531                 55.92\n",
       "184         Tonga  TON           525    2019      105028                 49.99\n",
       "116        Monaco  MCO           161    2019       37035                 43.47\n",
       "37          China  CHN       6140780    2019  1419730043                 43.25\n",
       "41   Cook Islands  COK            64    2019       17179                 37.25\n",
       "74         Guinea  GIN         47159    2019    12713491                 37.09\n",
       "177        Taiwan  TWN         86625    2019    23754579                 36.47"
      ]
     },
     "execution_count": 35,
     "metadata": {},
     "output_type": "execute_result"
    }
   ],
   "source": [
    "# 상위 10개국\n",
    "top_10_perc = mergedata2.sort_values(by='death_per_population', ascending=False).head(10)\n",
    "top_10_perc"
   ]
  },
  {
   "cell_type": "markdown",
   "metadata": {},
   "source": [
    "### (3) 그래프 생성하기"
   ]
  },
  {
   "cell_type": "code",
   "execution_count": 36,
   "metadata": {},
   "outputs": [
    {
     "data": {
      "application/vnd.plotly.v1+json": {
       "config": {
        "plotlyServerURL": "https://plot.ly"
       },
       "data": [
        {
         "marker": {
          "color": [
           "lightslategray",
           "lightslategray",
           "lightslategray",
           "lightslategray",
           "lightslategray",
           "red",
           "lightslategray",
           "lightslategray",
           "lightslategray",
           "lightslategray"
          ],
          "opacity": 0.4
         },
         "opacity": 1,
         "type": "bar",
         "x": [
          "China",
          "Japan",
          "India",
          "Thailand",
          "United States",
          "South Korea",
          "Egypt",
          "Italy",
          "France",
          "Germany"
         ],
         "y": [
          6140780,
          978747,
          606386,
          449990,
          413991,
          289401,
          270270,
          194128,
          191056,
          170726
         ]
        }
       ],
       "layout": {
        "plot_bgcolor": "#ffffff",
        "template": {
         "data": {
          "bar": [
           {
            "error_x": {
             "color": "#2a3f5f"
            },
            "error_y": {
             "color": "#2a3f5f"
            },
            "marker": {
             "line": {
              "color": "#E5ECF6",
              "width": 0.5
             },
             "pattern": {
              "fillmode": "overlay",
              "size": 10,
              "solidity": 0.2
             }
            },
            "type": "bar"
           }
          ],
          "barpolar": [
           {
            "marker": {
             "line": {
              "color": "#E5ECF6",
              "width": 0.5
             },
             "pattern": {
              "fillmode": "overlay",
              "size": 10,
              "solidity": 0.2
             }
            },
            "type": "barpolar"
           }
          ],
          "carpet": [
           {
            "aaxis": {
             "endlinecolor": "#2a3f5f",
             "gridcolor": "white",
             "linecolor": "white",
             "minorgridcolor": "white",
             "startlinecolor": "#2a3f5f"
            },
            "baxis": {
             "endlinecolor": "#2a3f5f",
             "gridcolor": "white",
             "linecolor": "white",
             "minorgridcolor": "white",
             "startlinecolor": "#2a3f5f"
            },
            "type": "carpet"
           }
          ],
          "choropleth": [
           {
            "colorbar": {
             "outlinewidth": 0,
             "ticks": ""
            },
            "type": "choropleth"
           }
          ],
          "contour": [
           {
            "colorbar": {
             "outlinewidth": 0,
             "ticks": ""
            },
            "colorscale": [
             [
              0,
              "#0d0887"
             ],
             [
              0.1111111111111111,
              "#46039f"
             ],
             [
              0.2222222222222222,
              "#7201a8"
             ],
             [
              0.3333333333333333,
              "#9c179e"
             ],
             [
              0.4444444444444444,
              "#bd3786"
             ],
             [
              0.5555555555555556,
              "#d8576b"
             ],
             [
              0.6666666666666666,
              "#ed7953"
             ],
             [
              0.7777777777777778,
              "#fb9f3a"
             ],
             [
              0.8888888888888888,
              "#fdca26"
             ],
             [
              1,
              "#f0f921"
             ]
            ],
            "type": "contour"
           }
          ],
          "contourcarpet": [
           {
            "colorbar": {
             "outlinewidth": 0,
             "ticks": ""
            },
            "type": "contourcarpet"
           }
          ],
          "heatmap": [
           {
            "colorbar": {
             "outlinewidth": 0,
             "ticks": ""
            },
            "colorscale": [
             [
              0,
              "#0d0887"
             ],
             [
              0.1111111111111111,
              "#46039f"
             ],
             [
              0.2222222222222222,
              "#7201a8"
             ],
             [
              0.3333333333333333,
              "#9c179e"
             ],
             [
              0.4444444444444444,
              "#bd3786"
             ],
             [
              0.5555555555555556,
              "#d8576b"
             ],
             [
              0.6666666666666666,
              "#ed7953"
             ],
             [
              0.7777777777777778,
              "#fb9f3a"
             ],
             [
              0.8888888888888888,
              "#fdca26"
             ],
             [
              1,
              "#f0f921"
             ]
            ],
            "type": "heatmap"
           }
          ],
          "heatmapgl": [
           {
            "colorbar": {
             "outlinewidth": 0,
             "ticks": ""
            },
            "colorscale": [
             [
              0,
              "#0d0887"
             ],
             [
              0.1111111111111111,
              "#46039f"
             ],
             [
              0.2222222222222222,
              "#7201a8"
             ],
             [
              0.3333333333333333,
              "#9c179e"
             ],
             [
              0.4444444444444444,
              "#bd3786"
             ],
             [
              0.5555555555555556,
              "#d8576b"
             ],
             [
              0.6666666666666666,
              "#ed7953"
             ],
             [
              0.7777777777777778,
              "#fb9f3a"
             ],
             [
              0.8888888888888888,
              "#fdca26"
             ],
             [
              1,
              "#f0f921"
             ]
            ],
            "type": "heatmapgl"
           }
          ],
          "histogram": [
           {
            "marker": {
             "pattern": {
              "fillmode": "overlay",
              "size": 10,
              "solidity": 0.2
             }
            },
            "type": "histogram"
           }
          ],
          "histogram2d": [
           {
            "colorbar": {
             "outlinewidth": 0,
             "ticks": ""
            },
            "colorscale": [
             [
              0,
              "#0d0887"
             ],
             [
              0.1111111111111111,
              "#46039f"
             ],
             [
              0.2222222222222222,
              "#7201a8"
             ],
             [
              0.3333333333333333,
              "#9c179e"
             ],
             [
              0.4444444444444444,
              "#bd3786"
             ],
             [
              0.5555555555555556,
              "#d8576b"
             ],
             [
              0.6666666666666666,
              "#ed7953"
             ],
             [
              0.7777777777777778,
              "#fb9f3a"
             ],
             [
              0.8888888888888888,
              "#fdca26"
             ],
             [
              1,
              "#f0f921"
             ]
            ],
            "type": "histogram2d"
           }
          ],
          "histogram2dcontour": [
           {
            "colorbar": {
             "outlinewidth": 0,
             "ticks": ""
            },
            "colorscale": [
             [
              0,
              "#0d0887"
             ],
             [
              0.1111111111111111,
              "#46039f"
             ],
             [
              0.2222222222222222,
              "#7201a8"
             ],
             [
              0.3333333333333333,
              "#9c179e"
             ],
             [
              0.4444444444444444,
              "#bd3786"
             ],
             [
              0.5555555555555556,
              "#d8576b"
             ],
             [
              0.6666666666666666,
              "#ed7953"
             ],
             [
              0.7777777777777778,
              "#fb9f3a"
             ],
             [
              0.8888888888888888,
              "#fdca26"
             ],
             [
              1,
              "#f0f921"
             ]
            ],
            "type": "histogram2dcontour"
           }
          ],
          "mesh3d": [
           {
            "colorbar": {
             "outlinewidth": 0,
             "ticks": ""
            },
            "type": "mesh3d"
           }
          ],
          "parcoords": [
           {
            "line": {
             "colorbar": {
              "outlinewidth": 0,
              "ticks": ""
             }
            },
            "type": "parcoords"
           }
          ],
          "pie": [
           {
            "automargin": true,
            "type": "pie"
           }
          ],
          "scatter": [
           {
            "fillpattern": {
             "fillmode": "overlay",
             "size": 10,
             "solidity": 0.2
            },
            "type": "scatter"
           }
          ],
          "scatter3d": [
           {
            "line": {
             "colorbar": {
              "outlinewidth": 0,
              "ticks": ""
             }
            },
            "marker": {
             "colorbar": {
              "outlinewidth": 0,
              "ticks": ""
             }
            },
            "type": "scatter3d"
           }
          ],
          "scattercarpet": [
           {
            "marker": {
             "colorbar": {
              "outlinewidth": 0,
              "ticks": ""
             }
            },
            "type": "scattercarpet"
           }
          ],
          "scattergeo": [
           {
            "marker": {
             "colorbar": {
              "outlinewidth": 0,
              "ticks": ""
             }
            },
            "type": "scattergeo"
           }
          ],
          "scattergl": [
           {
            "marker": {
             "colorbar": {
              "outlinewidth": 0,
              "ticks": ""
             }
            },
            "type": "scattergl"
           }
          ],
          "scattermapbox": [
           {
            "marker": {
             "colorbar": {
              "outlinewidth": 0,
              "ticks": ""
             }
            },
            "type": "scattermapbox"
           }
          ],
          "scatterpolar": [
           {
            "marker": {
             "colorbar": {
              "outlinewidth": 0,
              "ticks": ""
             }
            },
            "type": "scatterpolar"
           }
          ],
          "scatterpolargl": [
           {
            "marker": {
             "colorbar": {
              "outlinewidth": 0,
              "ticks": ""
             }
            },
            "type": "scatterpolargl"
           }
          ],
          "scatterternary": [
           {
            "marker": {
             "colorbar": {
              "outlinewidth": 0,
              "ticks": ""
             }
            },
            "type": "scatterternary"
           }
          ],
          "surface": [
           {
            "colorbar": {
             "outlinewidth": 0,
             "ticks": ""
            },
            "colorscale": [
             [
              0,
              "#0d0887"
             ],
             [
              0.1111111111111111,
              "#46039f"
             ],
             [
              0.2222222222222222,
              "#7201a8"
             ],
             [
              0.3333333333333333,
              "#9c179e"
             ],
             [
              0.4444444444444444,
              "#bd3786"
             ],
             [
              0.5555555555555556,
              "#d8576b"
             ],
             [
              0.6666666666666666,
              "#ed7953"
             ],
             [
              0.7777777777777778,
              "#fb9f3a"
             ],
             [
              0.8888888888888888,
              "#fdca26"
             ],
             [
              1,
              "#f0f921"
             ]
            ],
            "type": "surface"
           }
          ],
          "table": [
           {
            "cells": {
             "fill": {
              "color": "#EBF0F8"
             },
             "line": {
              "color": "white"
             }
            },
            "header": {
             "fill": {
              "color": "#C8D4E3"
             },
             "line": {
              "color": "white"
             }
            },
            "type": "table"
           }
          ]
         },
         "layout": {
          "annotationdefaults": {
           "arrowcolor": "#2a3f5f",
           "arrowhead": 0,
           "arrowwidth": 1
          },
          "autotypenumbers": "strict",
          "coloraxis": {
           "colorbar": {
            "outlinewidth": 0,
            "ticks": ""
           }
          },
          "colorscale": {
           "diverging": [
            [
             0,
             "#8e0152"
            ],
            [
             0.1,
             "#c51b7d"
            ],
            [
             0.2,
             "#de77ae"
            ],
            [
             0.3,
             "#f1b6da"
            ],
            [
             0.4,
             "#fde0ef"
            ],
            [
             0.5,
             "#f7f7f7"
            ],
            [
             0.6,
             "#e6f5d0"
            ],
            [
             0.7,
             "#b8e186"
            ],
            [
             0.8,
             "#7fbc41"
            ],
            [
             0.9,
             "#4d9221"
            ],
            [
             1,
             "#276419"
            ]
           ],
           "sequential": [
            [
             0,
             "#0d0887"
            ],
            [
             0.1111111111111111,
             "#46039f"
            ],
            [
             0.2222222222222222,
             "#7201a8"
            ],
            [
             0.3333333333333333,
             "#9c179e"
            ],
            [
             0.4444444444444444,
             "#bd3786"
            ],
            [
             0.5555555555555556,
             "#d8576b"
            ],
            [
             0.6666666666666666,
             "#ed7953"
            ],
            [
             0.7777777777777778,
             "#fb9f3a"
            ],
            [
             0.8888888888888888,
             "#fdca26"
            ],
            [
             1,
             "#f0f921"
            ]
           ],
           "sequentialminus": [
            [
             0,
             "#0d0887"
            ],
            [
             0.1111111111111111,
             "#46039f"
            ],
            [
             0.2222222222222222,
             "#7201a8"
            ],
            [
             0.3333333333333333,
             "#9c179e"
            ],
            [
             0.4444444444444444,
             "#bd3786"
            ],
            [
             0.5555555555555556,
             "#d8576b"
            ],
            [
             0.6666666666666666,
             "#ed7953"
            ],
            [
             0.7777777777777778,
             "#fb9f3a"
            ],
            [
             0.8888888888888888,
             "#fdca26"
            ],
            [
             1,
             "#f0f921"
            ]
           ]
          },
          "colorway": [
           "#636efa",
           "#EF553B",
           "#00cc96",
           "#ab63fa",
           "#FFA15A",
           "#19d3f3",
           "#FF6692",
           "#B6E880",
           "#FF97FF",
           "#FECB52"
          ],
          "font": {
           "color": "#2a3f5f"
          },
          "geo": {
           "bgcolor": "white",
           "lakecolor": "white",
           "landcolor": "#E5ECF6",
           "showlakes": true,
           "showland": true,
           "subunitcolor": "white"
          },
          "hoverlabel": {
           "align": "left"
          },
          "hovermode": "closest",
          "mapbox": {
           "style": "light"
          },
          "paper_bgcolor": "white",
          "plot_bgcolor": "#E5ECF6",
          "polar": {
           "angularaxis": {
            "gridcolor": "white",
            "linecolor": "white",
            "ticks": ""
           },
           "bgcolor": "#E5ECF6",
           "radialaxis": {
            "gridcolor": "white",
            "linecolor": "white",
            "ticks": ""
           }
          },
          "scene": {
           "xaxis": {
            "backgroundcolor": "#E5ECF6",
            "gridcolor": "white",
            "gridwidth": 2,
            "linecolor": "white",
            "showbackground": true,
            "ticks": "",
            "zerolinecolor": "white"
           },
           "yaxis": {
            "backgroundcolor": "#E5ECF6",
            "gridcolor": "white",
            "gridwidth": 2,
            "linecolor": "white",
            "showbackground": true,
            "ticks": "",
            "zerolinecolor": "white"
           },
           "zaxis": {
            "backgroundcolor": "#E5ECF6",
            "gridcolor": "white",
            "gridwidth": 2,
            "linecolor": "white",
            "showbackground": true,
            "ticks": "",
            "zerolinecolor": "white"
           }
          },
          "shapedefaults": {
           "line": {
            "color": "#2a3f5f"
           }
          },
          "ternary": {
           "aaxis": {
            "gridcolor": "white",
            "linecolor": "white",
            "ticks": ""
           },
           "baxis": {
            "gridcolor": "white",
            "linecolor": "white",
            "ticks": ""
           },
           "bgcolor": "#E5ECF6",
           "caxis": {
            "gridcolor": "white",
            "linecolor": "white",
            "ticks": ""
           }
          },
          "title": {
           "x": 0.05
          },
          "xaxis": {
           "automargin": true,
           "gridcolor": "white",
           "linecolor": "white",
           "ticks": "",
           "title": {
            "standoff": 15
           },
           "zerolinecolor": "white",
           "zerolinewidth": 2
          },
          "yaxis": {
           "automargin": true,
           "gridcolor": "white",
           "linecolor": "white",
           "ticks": "",
           "title": {
            "standoff": 15
           },
           "zerolinecolor": "white",
           "zerolinewidth": 2
          }
         }
        },
        "title": {
         "font": {
          "color": "black",
          "family": "NanumSquare",
          "size": 25
         },
         "text": "1990년 ~ 2019년 간암 사망자 누적 인원수",
         "x": 0.5,
         "xanchor": "center"
        },
        "xaxis": {
         "title": {
          "text": "Country"
         }
        },
        "yaxis": {
         "title": {
          "text": "Count(명)"
         }
        }
       }
      }
     },
     "metadata": {},
     "output_type": "display_data"
    }
   ],
   "source": [
    "# top 10 graphs\n",
    "fig = go.Figure()\n",
    "\n",
    "colors = ['lightslategray','lightslategray','lightslategray',\n",
    "          'lightslategray','lightslategray','red',\n",
    "          'lightslategray','lightslategray','lightslategray',\n",
    "          'lightslategray']\n",
    "\n",
    "fig.add_trace(go.Bar(x = top_10_sum['Entity'],\n",
    "                     y = top_10_sum['Liver cancer'],\n",
    "                     marker_color=colors,\n",
    "                     opacity=1))\n",
    "\n",
    "fig.update_layout(title_text=\"1990년 ~ 2019년 간암 사망자 누적 인원수\",\n",
    "                  title_x = 0.5,\n",
    "                  title_xanchor = 'center',\n",
    "                  title_font_size = 25,\n",
    "                  title_font_color = 'black',\n",
    "                  title_font_family = 'NanumSquare',\n",
    "                  plot_bgcolor='#ffffff',\n",
    "                  xaxis=dict(title='Country'),\n",
    "                  yaxis=dict(title='Count(명)'))\n",
    "\n",
    "fig.update_traces(#marker_color= 히스토그램 색, \n",
    "                 #marker_line_width=히스토그램 테두리 두깨,                            \n",
    "                 #marker_line_color=히스토그램 테두리 색,\n",
    "                 marker_opacity = 0.4,\n",
    "                 )\n",
    "fig.show()\n",
    "\n",
    "# 저장\n",
    "fig.write_html(\"../figure/cancer_death_count.html\")"
   ]
  },
  {
   "cell_type": "code",
   "execution_count": null,
   "metadata": {},
   "outputs": [],
   "source": []
  },
  {
   "cell_type": "code",
   "execution_count": 37,
   "metadata": {},
   "outputs": [
    {
     "data": {
      "application/vnd.plotly.v1+json": {
       "config": {
        "plotlyServerURL": "https://plot.ly"
       },
       "data": [
        {
         "marker": {
          "color": [
           "lightslategray",
           "lightslategray",
           "lightslategray",
           "red",
           "lightslategray",
           "lightslategray",
           "lightslategray",
           "lightslategray",
           "lightslategray",
           "lightslategray"
          ],
          "opacity": 0.4
         },
         "opacity": 0.8,
         "type": "bar",
         "x": [
          "Mongolia",
          "Japan",
          "Thailand",
          "South Korea",
          "Tonga",
          "Monaco",
          "China",
          "Cook Islands",
          "Guinea",
          "Taiwan"
         ],
         "y": [
          128.77,
          77.65,
          63.18,
          55.92,
          49.99,
          43.47,
          43.25,
          37.25,
          37.09,
          36.47
         ]
        }
       ],
       "layout": {
        "plot_bgcolor": "#ffffff",
        "template": {
         "data": {
          "bar": [
           {
            "error_x": {
             "color": "#2a3f5f"
            },
            "error_y": {
             "color": "#2a3f5f"
            },
            "marker": {
             "line": {
              "color": "#E5ECF6",
              "width": 0.5
             },
             "pattern": {
              "fillmode": "overlay",
              "size": 10,
              "solidity": 0.2
             }
            },
            "type": "bar"
           }
          ],
          "barpolar": [
           {
            "marker": {
             "line": {
              "color": "#E5ECF6",
              "width": 0.5
             },
             "pattern": {
              "fillmode": "overlay",
              "size": 10,
              "solidity": 0.2
             }
            },
            "type": "barpolar"
           }
          ],
          "carpet": [
           {
            "aaxis": {
             "endlinecolor": "#2a3f5f",
             "gridcolor": "white",
             "linecolor": "white",
             "minorgridcolor": "white",
             "startlinecolor": "#2a3f5f"
            },
            "baxis": {
             "endlinecolor": "#2a3f5f",
             "gridcolor": "white",
             "linecolor": "white",
             "minorgridcolor": "white",
             "startlinecolor": "#2a3f5f"
            },
            "type": "carpet"
           }
          ],
          "choropleth": [
           {
            "colorbar": {
             "outlinewidth": 0,
             "ticks": ""
            },
            "type": "choropleth"
           }
          ],
          "contour": [
           {
            "colorbar": {
             "outlinewidth": 0,
             "ticks": ""
            },
            "colorscale": [
             [
              0,
              "#0d0887"
             ],
             [
              0.1111111111111111,
              "#46039f"
             ],
             [
              0.2222222222222222,
              "#7201a8"
             ],
             [
              0.3333333333333333,
              "#9c179e"
             ],
             [
              0.4444444444444444,
              "#bd3786"
             ],
             [
              0.5555555555555556,
              "#d8576b"
             ],
             [
              0.6666666666666666,
              "#ed7953"
             ],
             [
              0.7777777777777778,
              "#fb9f3a"
             ],
             [
              0.8888888888888888,
              "#fdca26"
             ],
             [
              1,
              "#f0f921"
             ]
            ],
            "type": "contour"
           }
          ],
          "contourcarpet": [
           {
            "colorbar": {
             "outlinewidth": 0,
             "ticks": ""
            },
            "type": "contourcarpet"
           }
          ],
          "heatmap": [
           {
            "colorbar": {
             "outlinewidth": 0,
             "ticks": ""
            },
            "colorscale": [
             [
              0,
              "#0d0887"
             ],
             [
              0.1111111111111111,
              "#46039f"
             ],
             [
              0.2222222222222222,
              "#7201a8"
             ],
             [
              0.3333333333333333,
              "#9c179e"
             ],
             [
              0.4444444444444444,
              "#bd3786"
             ],
             [
              0.5555555555555556,
              "#d8576b"
             ],
             [
              0.6666666666666666,
              "#ed7953"
             ],
             [
              0.7777777777777778,
              "#fb9f3a"
             ],
             [
              0.8888888888888888,
              "#fdca26"
             ],
             [
              1,
              "#f0f921"
             ]
            ],
            "type": "heatmap"
           }
          ],
          "heatmapgl": [
           {
            "colorbar": {
             "outlinewidth": 0,
             "ticks": ""
            },
            "colorscale": [
             [
              0,
              "#0d0887"
             ],
             [
              0.1111111111111111,
              "#46039f"
             ],
             [
              0.2222222222222222,
              "#7201a8"
             ],
             [
              0.3333333333333333,
              "#9c179e"
             ],
             [
              0.4444444444444444,
              "#bd3786"
             ],
             [
              0.5555555555555556,
              "#d8576b"
             ],
             [
              0.6666666666666666,
              "#ed7953"
             ],
             [
              0.7777777777777778,
              "#fb9f3a"
             ],
             [
              0.8888888888888888,
              "#fdca26"
             ],
             [
              1,
              "#f0f921"
             ]
            ],
            "type": "heatmapgl"
           }
          ],
          "histogram": [
           {
            "marker": {
             "pattern": {
              "fillmode": "overlay",
              "size": 10,
              "solidity": 0.2
             }
            },
            "type": "histogram"
           }
          ],
          "histogram2d": [
           {
            "colorbar": {
             "outlinewidth": 0,
             "ticks": ""
            },
            "colorscale": [
             [
              0,
              "#0d0887"
             ],
             [
              0.1111111111111111,
              "#46039f"
             ],
             [
              0.2222222222222222,
              "#7201a8"
             ],
             [
              0.3333333333333333,
              "#9c179e"
             ],
             [
              0.4444444444444444,
              "#bd3786"
             ],
             [
              0.5555555555555556,
              "#d8576b"
             ],
             [
              0.6666666666666666,
              "#ed7953"
             ],
             [
              0.7777777777777778,
              "#fb9f3a"
             ],
             [
              0.8888888888888888,
              "#fdca26"
             ],
             [
              1,
              "#f0f921"
             ]
            ],
            "type": "histogram2d"
           }
          ],
          "histogram2dcontour": [
           {
            "colorbar": {
             "outlinewidth": 0,
             "ticks": ""
            },
            "colorscale": [
             [
              0,
              "#0d0887"
             ],
             [
              0.1111111111111111,
              "#46039f"
             ],
             [
              0.2222222222222222,
              "#7201a8"
             ],
             [
              0.3333333333333333,
              "#9c179e"
             ],
             [
              0.4444444444444444,
              "#bd3786"
             ],
             [
              0.5555555555555556,
              "#d8576b"
             ],
             [
              0.6666666666666666,
              "#ed7953"
             ],
             [
              0.7777777777777778,
              "#fb9f3a"
             ],
             [
              0.8888888888888888,
              "#fdca26"
             ],
             [
              1,
              "#f0f921"
             ]
            ],
            "type": "histogram2dcontour"
           }
          ],
          "mesh3d": [
           {
            "colorbar": {
             "outlinewidth": 0,
             "ticks": ""
            },
            "type": "mesh3d"
           }
          ],
          "parcoords": [
           {
            "line": {
             "colorbar": {
              "outlinewidth": 0,
              "ticks": ""
             }
            },
            "type": "parcoords"
           }
          ],
          "pie": [
           {
            "automargin": true,
            "type": "pie"
           }
          ],
          "scatter": [
           {
            "fillpattern": {
             "fillmode": "overlay",
             "size": 10,
             "solidity": 0.2
            },
            "type": "scatter"
           }
          ],
          "scatter3d": [
           {
            "line": {
             "colorbar": {
              "outlinewidth": 0,
              "ticks": ""
             }
            },
            "marker": {
             "colorbar": {
              "outlinewidth": 0,
              "ticks": ""
             }
            },
            "type": "scatter3d"
           }
          ],
          "scattercarpet": [
           {
            "marker": {
             "colorbar": {
              "outlinewidth": 0,
              "ticks": ""
             }
            },
            "type": "scattercarpet"
           }
          ],
          "scattergeo": [
           {
            "marker": {
             "colorbar": {
              "outlinewidth": 0,
              "ticks": ""
             }
            },
            "type": "scattergeo"
           }
          ],
          "scattergl": [
           {
            "marker": {
             "colorbar": {
              "outlinewidth": 0,
              "ticks": ""
             }
            },
            "type": "scattergl"
           }
          ],
          "scattermapbox": [
           {
            "marker": {
             "colorbar": {
              "outlinewidth": 0,
              "ticks": ""
             }
            },
            "type": "scattermapbox"
           }
          ],
          "scatterpolar": [
           {
            "marker": {
             "colorbar": {
              "outlinewidth": 0,
              "ticks": ""
             }
            },
            "type": "scatterpolar"
           }
          ],
          "scatterpolargl": [
           {
            "marker": {
             "colorbar": {
              "outlinewidth": 0,
              "ticks": ""
             }
            },
            "type": "scatterpolargl"
           }
          ],
          "scatterternary": [
           {
            "marker": {
             "colorbar": {
              "outlinewidth": 0,
              "ticks": ""
             }
            },
            "type": "scatterternary"
           }
          ],
          "surface": [
           {
            "colorbar": {
             "outlinewidth": 0,
             "ticks": ""
            },
            "colorscale": [
             [
              0,
              "#0d0887"
             ],
             [
              0.1111111111111111,
              "#46039f"
             ],
             [
              0.2222222222222222,
              "#7201a8"
             ],
             [
              0.3333333333333333,
              "#9c179e"
             ],
             [
              0.4444444444444444,
              "#bd3786"
             ],
             [
              0.5555555555555556,
              "#d8576b"
             ],
             [
              0.6666666666666666,
              "#ed7953"
             ],
             [
              0.7777777777777778,
              "#fb9f3a"
             ],
             [
              0.8888888888888888,
              "#fdca26"
             ],
             [
              1,
              "#f0f921"
             ]
            ],
            "type": "surface"
           }
          ],
          "table": [
           {
            "cells": {
             "fill": {
              "color": "#EBF0F8"
             },
             "line": {
              "color": "white"
             }
            },
            "header": {
             "fill": {
              "color": "#C8D4E3"
             },
             "line": {
              "color": "white"
             }
            },
            "type": "table"
           }
          ]
         },
         "layout": {
          "annotationdefaults": {
           "arrowcolor": "#2a3f5f",
           "arrowhead": 0,
           "arrowwidth": 1
          },
          "autotypenumbers": "strict",
          "coloraxis": {
           "colorbar": {
            "outlinewidth": 0,
            "ticks": ""
           }
          },
          "colorscale": {
           "diverging": [
            [
             0,
             "#8e0152"
            ],
            [
             0.1,
             "#c51b7d"
            ],
            [
             0.2,
             "#de77ae"
            ],
            [
             0.3,
             "#f1b6da"
            ],
            [
             0.4,
             "#fde0ef"
            ],
            [
             0.5,
             "#f7f7f7"
            ],
            [
             0.6,
             "#e6f5d0"
            ],
            [
             0.7,
             "#b8e186"
            ],
            [
             0.8,
             "#7fbc41"
            ],
            [
             0.9,
             "#4d9221"
            ],
            [
             1,
             "#276419"
            ]
           ],
           "sequential": [
            [
             0,
             "#0d0887"
            ],
            [
             0.1111111111111111,
             "#46039f"
            ],
            [
             0.2222222222222222,
             "#7201a8"
            ],
            [
             0.3333333333333333,
             "#9c179e"
            ],
            [
             0.4444444444444444,
             "#bd3786"
            ],
            [
             0.5555555555555556,
             "#d8576b"
            ],
            [
             0.6666666666666666,
             "#ed7953"
            ],
            [
             0.7777777777777778,
             "#fb9f3a"
            ],
            [
             0.8888888888888888,
             "#fdca26"
            ],
            [
             1,
             "#f0f921"
            ]
           ],
           "sequentialminus": [
            [
             0,
             "#0d0887"
            ],
            [
             0.1111111111111111,
             "#46039f"
            ],
            [
             0.2222222222222222,
             "#7201a8"
            ],
            [
             0.3333333333333333,
             "#9c179e"
            ],
            [
             0.4444444444444444,
             "#bd3786"
            ],
            [
             0.5555555555555556,
             "#d8576b"
            ],
            [
             0.6666666666666666,
             "#ed7953"
            ],
            [
             0.7777777777777778,
             "#fb9f3a"
            ],
            [
             0.8888888888888888,
             "#fdca26"
            ],
            [
             1,
             "#f0f921"
            ]
           ]
          },
          "colorway": [
           "#636efa",
           "#EF553B",
           "#00cc96",
           "#ab63fa",
           "#FFA15A",
           "#19d3f3",
           "#FF6692",
           "#B6E880",
           "#FF97FF",
           "#FECB52"
          ],
          "font": {
           "color": "#2a3f5f"
          },
          "geo": {
           "bgcolor": "white",
           "lakecolor": "white",
           "landcolor": "#E5ECF6",
           "showlakes": true,
           "showland": true,
           "subunitcolor": "white"
          },
          "hoverlabel": {
           "align": "left"
          },
          "hovermode": "closest",
          "mapbox": {
           "style": "light"
          },
          "paper_bgcolor": "white",
          "plot_bgcolor": "#E5ECF6",
          "polar": {
           "angularaxis": {
            "gridcolor": "white",
            "linecolor": "white",
            "ticks": ""
           },
           "bgcolor": "#E5ECF6",
           "radialaxis": {
            "gridcolor": "white",
            "linecolor": "white",
            "ticks": ""
           }
          },
          "scene": {
           "xaxis": {
            "backgroundcolor": "#E5ECF6",
            "gridcolor": "white",
            "gridwidth": 2,
            "linecolor": "white",
            "showbackground": true,
            "ticks": "",
            "zerolinecolor": "white"
           },
           "yaxis": {
            "backgroundcolor": "#E5ECF6",
            "gridcolor": "white",
            "gridwidth": 2,
            "linecolor": "white",
            "showbackground": true,
            "ticks": "",
            "zerolinecolor": "white"
           },
           "zaxis": {
            "backgroundcolor": "#E5ECF6",
            "gridcolor": "white",
            "gridwidth": 2,
            "linecolor": "white",
            "showbackground": true,
            "ticks": "",
            "zerolinecolor": "white"
           }
          },
          "shapedefaults": {
           "line": {
            "color": "#2a3f5f"
           }
          },
          "ternary": {
           "aaxis": {
            "gridcolor": "white",
            "linecolor": "white",
            "ticks": ""
           },
           "baxis": {
            "gridcolor": "white",
            "linecolor": "white",
            "ticks": ""
           },
           "bgcolor": "#E5ECF6",
           "caxis": {
            "gridcolor": "white",
            "linecolor": "white",
            "ticks": ""
           }
          },
          "title": {
           "x": 0.05
          },
          "xaxis": {
           "automargin": true,
           "gridcolor": "white",
           "linecolor": "white",
           "ticks": "",
           "title": {
            "standoff": 15
           },
           "zerolinecolor": "white",
           "zerolinewidth": 2
          },
          "yaxis": {
           "automargin": true,
           "gridcolor": "white",
           "linecolor": "white",
           "ticks": "",
           "title": {
            "standoff": 15
           },
           "zerolinecolor": "white",
           "zerolinewidth": 2
          }
         }
        },
        "title": {
         "font": {
          "color": "black",
          "family": "NanumSquare",
          "size": 25
         },
         "text": "2019년 간암 사망자 비율",
         "x": 0.5,
         "xanchor": "center"
        },
        "xaxis": {
         "title": {
          "text": "Country"
         }
        },
        "yaxis": {
         "title": {
          "text": "Count(10000명당 명수)"
         }
        }
       }
      }
     },
     "metadata": {},
     "output_type": "display_data"
    }
   ],
   "source": [
    "# top 10 percentage graphs\n",
    "fig = go.Figure()\n",
    "\n",
    "colors = ['lightslategray','lightslategray','lightslategray',\n",
    "          'red','lightslategray','lightslategray',\n",
    "          'lightslategray','lightslategray','lightslategray',\n",
    "          'lightslategray']\n",
    "\n",
    "fig.add_trace(go.Bar(x = top_10_perc['Entity_x'],\n",
    "                     y = top_10_perc['death_per_population'],\n",
    "                     marker_color=colors,\n",
    "                     opacity=0.8))\n",
    "\n",
    "fig.update_layout(title_text=\"2019년 간암 사망자 비율\",\n",
    "                  title_x = 0.5,\n",
    "                  title_xanchor = 'center',\n",
    "                  title_font_size = 25,\n",
    "                  title_font_color = 'black',\n",
    "                  title_font_family = 'NanumSquare',\n",
    "                  plot_bgcolor='#ffffff',\n",
    "                  xaxis=dict(title='Country'),\n",
    "                  yaxis=dict(title='Count(10000명당 명수)'))\n",
    "\n",
    "fig.update_traces(#marker_color= 히스토그램 색, \n",
    "                 #marker_line_width=히스토그램 테두리 두깨,                            \n",
    "                 #marker_line_color=히스토그램 테두리 색,\n",
    "                 marker_opacity = 0.4,\n",
    "                 )\n",
    "\n",
    "fig.show()\n",
    "\n",
    "# 저장\n",
    "fig.write_image(\"../figure/cancer_death_count_perc.png\")"
   ]
  },
  {
   "cell_type": "markdown",
   "metadata": {},
   "source": [
    "- 두 그래프를 확인했을 때 한국인의 간암 사망 인원 비율이 높은 것을 확인할 수 있었음\n",
    "- 간에 관한 질병에 대해 탐색할 수 있는 발판이 될 수 있는 자료"
   ]
  },
  {
   "cell_type": "markdown",
   "metadata": {},
   "source": [
    "### (4) 애니메이션 그래프 생성하기"
   ]
  },
  {
   "cell_type": "code",
   "execution_count": 38,
   "metadata": {},
   "outputs": [],
   "source": [
    "# top10 국가 이름 뽑기\n",
    "top10 = list(top_10_sum['Entity'])"
   ]
  },
  {
   "cell_type": "code",
   "execution_count": 39,
   "metadata": {},
   "outputs": [
    {
     "data": {
      "text/html": [
       "<div>\n",
       "<style scoped>\n",
       "    .dataframe tbody tr th:only-of-type {\n",
       "        vertical-align: middle;\n",
       "    }\n",
       "\n",
       "    .dataframe tbody tr th {\n",
       "        vertical-align: top;\n",
       "    }\n",
       "\n",
       "    .dataframe thead th {\n",
       "        text-align: right;\n",
       "    }\n",
       "</style>\n",
       "<table border=\"1\" class=\"dataframe\">\n",
       "  <thead>\n",
       "    <tr style=\"text-align: right;\">\n",
       "      <th></th>\n",
       "      <th>Entity</th>\n",
       "      <th>Code</th>\n",
       "      <th>Year</th>\n",
       "      <th>Liver cancer</th>\n",
       "    </tr>\n",
       "  </thead>\n",
       "  <tbody>\n",
       "    <tr>\n",
       "      <th>1140</th>\n",
       "      <td>China</td>\n",
       "      <td>CHN</td>\n",
       "      <td>1990</td>\n",
       "      <td>232449</td>\n",
       "    </tr>\n",
       "    <tr>\n",
       "      <th>1141</th>\n",
       "      <td>China</td>\n",
       "      <td>CHN</td>\n",
       "      <td>1991</td>\n",
       "      <td>244908</td>\n",
       "    </tr>\n",
       "    <tr>\n",
       "      <th>1142</th>\n",
       "      <td>China</td>\n",
       "      <td>CHN</td>\n",
       "      <td>1992</td>\n",
       "      <td>256415</td>\n",
       "    </tr>\n",
       "    <tr>\n",
       "      <th>1143</th>\n",
       "      <td>China</td>\n",
       "      <td>CHN</td>\n",
       "      <td>1993</td>\n",
       "      <td>268173</td>\n",
       "    </tr>\n",
       "    <tr>\n",
       "      <th>1144</th>\n",
       "      <td>China</td>\n",
       "      <td>CHN</td>\n",
       "      <td>1994</td>\n",
       "      <td>279913</td>\n",
       "    </tr>\n",
       "    <tr>\n",
       "      <th>...</th>\n",
       "      <td>...</td>\n",
       "      <td>...</td>\n",
       "      <td>...</td>\n",
       "      <td>...</td>\n",
       "    </tr>\n",
       "    <tr>\n",
       "      <th>6355</th>\n",
       "      <td>United States</td>\n",
       "      <td>USA</td>\n",
       "      <td>2015</td>\n",
       "      <td>20428</td>\n",
       "    </tr>\n",
       "    <tr>\n",
       "      <th>6356</th>\n",
       "      <td>United States</td>\n",
       "      <td>USA</td>\n",
       "      <td>2016</td>\n",
       "      <td>21382</td>\n",
       "    </tr>\n",
       "    <tr>\n",
       "      <th>6357</th>\n",
       "      <td>United States</td>\n",
       "      <td>USA</td>\n",
       "      <td>2017</td>\n",
       "      <td>21981</td>\n",
       "    </tr>\n",
       "    <tr>\n",
       "      <th>6358</th>\n",
       "      <td>United States</td>\n",
       "      <td>USA</td>\n",
       "      <td>2018</td>\n",
       "      <td>22833</td>\n",
       "    </tr>\n",
       "    <tr>\n",
       "      <th>6359</th>\n",
       "      <td>United States</td>\n",
       "      <td>USA</td>\n",
       "      <td>2019</td>\n",
       "      <td>23807</td>\n",
       "    </tr>\n",
       "  </tbody>\n",
       "</table>\n",
       "<p>300 rows × 4 columns</p>\n",
       "</div>"
      ],
      "text/plain": [
       "             Entity Code  Year  Liver cancer\n",
       "1140          China  CHN  1990        232449\n",
       "1141          China  CHN  1991        244908\n",
       "1142          China  CHN  1992        256415\n",
       "1143          China  CHN  1993        268173\n",
       "1144          China  CHN  1994        279913\n",
       "...             ...  ...   ...           ...\n",
       "6355  United States  USA  2015         20428\n",
       "6356  United States  USA  2016         21382\n",
       "6357  United States  USA  2017         21981\n",
       "6358  United States  USA  2018         22833\n",
       "6359  United States  USA  2019         23807\n",
       "\n",
       "[300 rows x 4 columns]"
      ]
     },
     "execution_count": 39,
     "metadata": {},
     "output_type": "execute_result"
    }
   ],
   "source": [
    "# top10 데이터 가져오기\n",
    "top10_liver = country[country['Entity'].apply(lambda x: x in top10)]\n",
    "top10_liver"
   ]
  },
  {
   "cell_type": "code",
   "execution_count": 40,
   "metadata": {},
   "outputs": [
    {
     "data": {
      "text/html": [
       "<div>\n",
       "<style scoped>\n",
       "    .dataframe tbody tr th:only-of-type {\n",
       "        vertical-align: middle;\n",
       "    }\n",
       "\n",
       "    .dataframe tbody tr th {\n",
       "        vertical-align: top;\n",
       "    }\n",
       "\n",
       "    .dataframe thead th {\n",
       "        text-align: right;\n",
       "    }\n",
       "</style>\n",
       "<table border=\"1\" class=\"dataframe\">\n",
       "  <thead>\n",
       "    <tr style=\"text-align: right;\">\n",
       "      <th></th>\n",
       "      <th>Entity</th>\n",
       "      <th>Code</th>\n",
       "      <th>Y1990</th>\n",
       "      <th>Y1991</th>\n",
       "      <th>Y1992</th>\n",
       "      <th>Y1993</th>\n",
       "      <th>Y1994</th>\n",
       "      <th>Y1995</th>\n",
       "      <th>Y1996</th>\n",
       "      <th>Y1997</th>\n",
       "      <th>...</th>\n",
       "      <th>Y2010</th>\n",
       "      <th>Y2011</th>\n",
       "      <th>Y2012</th>\n",
       "      <th>Y2013</th>\n",
       "      <th>Y2014</th>\n",
       "      <th>Y2015</th>\n",
       "      <th>Y2016</th>\n",
       "      <th>Y2017</th>\n",
       "      <th>Y2018</th>\n",
       "      <th>Y2019</th>\n",
       "    </tr>\n",
       "  </thead>\n",
       "  <tbody>\n",
       "    <tr>\n",
       "      <th>0</th>\n",
       "      <td>China</td>\n",
       "      <td>CHN</td>\n",
       "      <td>232449</td>\n",
       "      <td>244908</td>\n",
       "      <td>256415</td>\n",
       "      <td>268173</td>\n",
       "      <td>279913</td>\n",
       "      <td>289004</td>\n",
       "      <td>295270</td>\n",
       "      <td>296720</td>\n",
       "      <td>...</td>\n",
       "      <td>141707</td>\n",
       "      <td>140688</td>\n",
       "      <td>142470</td>\n",
       "      <td>148066</td>\n",
       "      <td>156909</td>\n",
       "      <td>164943</td>\n",
       "      <td>172587</td>\n",
       "      <td>178251</td>\n",
       "      <td>182139</td>\n",
       "      <td>187700</td>\n",
       "    </tr>\n",
       "    <tr>\n",
       "      <th>6</th>\n",
       "      <td>Japan</td>\n",
       "      <td>JPN</td>\n",
       "      <td>19987</td>\n",
       "      <td>21213</td>\n",
       "      <td>22768</td>\n",
       "      <td>24566</td>\n",
       "      <td>26455</td>\n",
       "      <td>29563</td>\n",
       "      <td>31603</td>\n",
       "      <td>33379</td>\n",
       "      <td>...</td>\n",
       "      <td>34720</td>\n",
       "      <td>34350</td>\n",
       "      <td>33877</td>\n",
       "      <td>33343</td>\n",
       "      <td>32818</td>\n",
       "      <td>32511</td>\n",
       "      <td>32467</td>\n",
       "      <td>32622</td>\n",
       "      <td>33708</td>\n",
       "      <td>34515</td>\n",
       "    </tr>\n",
       "    <tr>\n",
       "      <th>4</th>\n",
       "      <td>India</td>\n",
       "      <td>IND</td>\n",
       "      <td>11859</td>\n",
       "      <td>12225</td>\n",
       "      <td>12563</td>\n",
       "      <td>13085</td>\n",
       "      <td>13524</td>\n",
       "      <td>13875</td>\n",
       "      <td>14560</td>\n",
       "      <td>15496</td>\n",
       "      <td>...</td>\n",
       "      <td>23700</td>\n",
       "      <td>24806</td>\n",
       "      <td>25115</td>\n",
       "      <td>25939</td>\n",
       "      <td>26136</td>\n",
       "      <td>27431</td>\n",
       "      <td>28189</td>\n",
       "      <td>28930</td>\n",
       "      <td>29844</td>\n",
       "      <td>30709</td>\n",
       "    </tr>\n",
       "    <tr>\n",
       "      <th>8</th>\n",
       "      <td>Thailand</td>\n",
       "      <td>THA</td>\n",
       "      <td>7883</td>\n",
       "      <td>8361</td>\n",
       "      <td>8766</td>\n",
       "      <td>9070</td>\n",
       "      <td>9431</td>\n",
       "      <td>9781</td>\n",
       "      <td>10135</td>\n",
       "      <td>9941</td>\n",
       "      <td>...</td>\n",
       "      <td>18545</td>\n",
       "      <td>19431</td>\n",
       "      <td>20036</td>\n",
       "      <td>20334</td>\n",
       "      <td>20798</td>\n",
       "      <td>21338</td>\n",
       "      <td>22204</td>\n",
       "      <td>23015</td>\n",
       "      <td>23759</td>\n",
       "      <td>24527</td>\n",
       "    </tr>\n",
       "    <tr>\n",
       "      <th>9</th>\n",
       "      <td>United States</td>\n",
       "      <td>USA</td>\n",
       "      <td>6454</td>\n",
       "      <td>6729</td>\n",
       "      <td>7085</td>\n",
       "      <td>7499</td>\n",
       "      <td>7897</td>\n",
       "      <td>8329</td>\n",
       "      <td>8712</td>\n",
       "      <td>9120</td>\n",
       "      <td>...</td>\n",
       "      <td>16713</td>\n",
       "      <td>17462</td>\n",
       "      <td>18108</td>\n",
       "      <td>18761</td>\n",
       "      <td>19541</td>\n",
       "      <td>20428</td>\n",
       "      <td>21382</td>\n",
       "      <td>21981</td>\n",
       "      <td>22833</td>\n",
       "      <td>23807</td>\n",
       "    </tr>\n",
       "    <tr>\n",
       "      <th>7</th>\n",
       "      <td>South Korea</td>\n",
       "      <td>KOR</td>\n",
       "      <td>3413</td>\n",
       "      <td>3289</td>\n",
       "      <td>3171</td>\n",
       "      <td>3092</td>\n",
       "      <td>3099</td>\n",
       "      <td>3088</td>\n",
       "      <td>3699</td>\n",
       "      <td>4999</td>\n",
       "      <td>...</td>\n",
       "      <td>12264</td>\n",
       "      <td>12308</td>\n",
       "      <td>12421</td>\n",
       "      <td>12477</td>\n",
       "      <td>12580</td>\n",
       "      <td>12734</td>\n",
       "      <td>12956</td>\n",
       "      <td>13489</td>\n",
       "      <td>13910</td>\n",
       "      <td>14477</td>\n",
       "    </tr>\n",
       "    <tr>\n",
       "      <th>1</th>\n",
       "      <td>Egypt</td>\n",
       "      <td>EGY</td>\n",
       "      <td>5198</td>\n",
       "      <td>5292</td>\n",
       "      <td>5202</td>\n",
       "      <td>5325</td>\n",
       "      <td>5464</td>\n",
       "      <td>5529</td>\n",
       "      <td>5651</td>\n",
       "      <td>5792</td>\n",
       "      <td>...</td>\n",
       "      <td>11979</td>\n",
       "      <td>12295</td>\n",
       "      <td>12521</td>\n",
       "      <td>12541</td>\n",
       "      <td>12784</td>\n",
       "      <td>13133</td>\n",
       "      <td>13304</td>\n",
       "      <td>13337</td>\n",
       "      <td>13451</td>\n",
       "      <td>13590</td>\n",
       "    </tr>\n",
       "    <tr>\n",
       "      <th>2</th>\n",
       "      <td>France</td>\n",
       "      <td>FRA</td>\n",
       "      <td>4009</td>\n",
       "      <td>4253</td>\n",
       "      <td>4502</td>\n",
       "      <td>4781</td>\n",
       "      <td>5120</td>\n",
       "      <td>5342</td>\n",
       "      <td>5594</td>\n",
       "      <td>5773</td>\n",
       "      <td>...</td>\n",
       "      <td>7206</td>\n",
       "      <td>7343</td>\n",
       "      <td>7474</td>\n",
       "      <td>7545</td>\n",
       "      <td>7563</td>\n",
       "      <td>7713</td>\n",
       "      <td>7644</td>\n",
       "      <td>7732</td>\n",
       "      <td>7718</td>\n",
       "      <td>7792</td>\n",
       "    </tr>\n",
       "    <tr>\n",
       "      <th>3</th>\n",
       "      <td>Germany</td>\n",
       "      <td>DEU</td>\n",
       "      <td>3082</td>\n",
       "      <td>3146</td>\n",
       "      <td>3217</td>\n",
       "      <td>3334</td>\n",
       "      <td>3472</td>\n",
       "      <td>3571</td>\n",
       "      <td>3733</td>\n",
       "      <td>3908</td>\n",
       "      <td>...</td>\n",
       "      <td>7049</td>\n",
       "      <td>7040</td>\n",
       "      <td>7077</td>\n",
       "      <td>7125</td>\n",
       "      <td>7204</td>\n",
       "      <td>7395</td>\n",
       "      <td>7522</td>\n",
       "      <td>7565</td>\n",
       "      <td>7643</td>\n",
       "      <td>7743</td>\n",
       "    </tr>\n",
       "    <tr>\n",
       "      <th>5</th>\n",
       "      <td>Italy</td>\n",
       "      <td>ITA</td>\n",
       "      <td>5829</td>\n",
       "      <td>6095</td>\n",
       "      <td>6317</td>\n",
       "      <td>6603</td>\n",
       "      <td>6777</td>\n",
       "      <td>6711</td>\n",
       "      <td>6767</td>\n",
       "      <td>6750</td>\n",
       "      <td>...</td>\n",
       "      <td>6398</td>\n",
       "      <td>6630</td>\n",
       "      <td>6829</td>\n",
       "      <td>6831</td>\n",
       "      <td>6824</td>\n",
       "      <td>6787</td>\n",
       "      <td>6402</td>\n",
       "      <td>6647</td>\n",
       "      <td>6790</td>\n",
       "      <td>6919</td>\n",
       "    </tr>\n",
       "  </tbody>\n",
       "</table>\n",
       "<p>10 rows × 32 columns</p>\n",
       "</div>"
      ],
      "text/plain": [
       "          Entity Code   Y1990   Y1991   Y1992   Y1993   Y1994   Y1995   Y1996  \\\n",
       "0          China  CHN  232449  244908  256415  268173  279913  289004  295270   \n",
       "6          Japan  JPN   19987   21213   22768   24566   26455   29563   31603   \n",
       "4          India  IND   11859   12225   12563   13085   13524   13875   14560   \n",
       "8       Thailand  THA    7883    8361    8766    9070    9431    9781   10135   \n",
       "9  United States  USA    6454    6729    7085    7499    7897    8329    8712   \n",
       "7    South Korea  KOR    3413    3289    3171    3092    3099    3088    3699   \n",
       "1          Egypt  EGY    5198    5292    5202    5325    5464    5529    5651   \n",
       "2         France  FRA    4009    4253    4502    4781    5120    5342    5594   \n",
       "3        Germany  DEU    3082    3146    3217    3334    3472    3571    3733   \n",
       "5          Italy  ITA    5829    6095    6317    6603    6777    6711    6767   \n",
       "\n",
       "    Y1997  ...   Y2010   Y2011   Y2012   Y2013   Y2014   Y2015   Y2016  \\\n",
       "0  296720  ...  141707  140688  142470  148066  156909  164943  172587   \n",
       "6   33379  ...   34720   34350   33877   33343   32818   32511   32467   \n",
       "4   15496  ...   23700   24806   25115   25939   26136   27431   28189   \n",
       "8    9941  ...   18545   19431   20036   20334   20798   21338   22204   \n",
       "9    9120  ...   16713   17462   18108   18761   19541   20428   21382   \n",
       "7    4999  ...   12264   12308   12421   12477   12580   12734   12956   \n",
       "1    5792  ...   11979   12295   12521   12541   12784   13133   13304   \n",
       "2    5773  ...    7206    7343    7474    7545    7563    7713    7644   \n",
       "3    3908  ...    7049    7040    7077    7125    7204    7395    7522   \n",
       "5    6750  ...    6398    6630    6829    6831    6824    6787    6402   \n",
       "\n",
       "    Y2017   Y2018   Y2019  \n",
       "0  178251  182139  187700  \n",
       "6   32622   33708   34515  \n",
       "4   28930   29844   30709  \n",
       "8   23015   23759   24527  \n",
       "9   21981   22833   23807  \n",
       "7   13489   13910   14477  \n",
       "1   13337   13451   13590  \n",
       "2    7732    7718    7792  \n",
       "3    7565    7643    7743  \n",
       "5    6647    6790    6919  \n",
       "\n",
       "[10 rows x 32 columns]"
      ]
     },
     "execution_count": 40,
     "metadata": {},
     "output_type": "execute_result"
    }
   ],
   "source": [
    "# pivot table\n",
    "top10_years = pd.pivot_table(top10_liver, values='Liver cancer',\n",
    "                index = ['Entity', 'Code'],\n",
    "                columns = ['Year'],\n",
    "                    aggfunc=np.sum,\n",
    "                    fill_value = 0).reset_index()\n",
    "top10_years.columns = list(top10_years.columns[:2]) + ['Y' + str(value) for value in top10_years.columns[2:]]\n",
    "top10_years = top10_years.sort_values(by='Y2019', ascending=False)\n",
    "top10_years"
   ]
  },
  {
   "cell_type": "code",
   "execution_count": 41,
   "metadata": {},
   "outputs": [
    {
     "data": {
      "application/vnd.plotly.v1+json": {
       "config": {
        "plotlyServerURL": "https://plot.ly"
       },
       "data": [
        {
         "marker": {
          "color": [
           "lightslategray",
           "lightslategray",
           "lightslategray",
           "lightslategray",
           "lightslategray",
           "red",
           "lightslategray",
           "lightslategray",
           "lightslategray",
           "lightslategray"
          ],
          "opacity": 0.4
         },
         "name": "Y1990",
         "type": "bar",
         "x": [
          "China",
          "Japan",
          "India",
          "Thailand",
          "United States",
          "South Korea",
          "Egypt",
          "France",
          "Germany",
          "Italy"
         ],
         "y": [
          232449,
          19987,
          11859,
          7883,
          6454,
          3413,
          5198,
          4009,
          3082,
          5829
         ]
        },
        {
         "marker": {
          "opacity": 0.4
         },
         "type": "bar",
         "visible": false,
         "x": [
          "China",
          "Japan",
          "India",
          "Thailand",
          "United States",
          "South Korea",
          "Egypt",
          "France",
          "Germany",
          "Italy"
         ],
         "y": [
          244908,
          21213,
          12225,
          8361,
          6729,
          3289,
          5292,
          4253,
          3146,
          6095
         ]
        },
        {
         "marker": {
          "opacity": 0.4
         },
         "type": "bar",
         "visible": false,
         "x": [
          "China",
          "Japan",
          "India",
          "Thailand",
          "United States",
          "South Korea",
          "Egypt",
          "France",
          "Germany",
          "Italy"
         ],
         "y": [
          256415,
          22768,
          12563,
          8766,
          7085,
          3171,
          5202,
          4502,
          3217,
          6317
         ]
        },
        {
         "marker": {
          "opacity": 0.4
         },
         "type": "bar",
         "visible": false,
         "x": [
          "China",
          "Japan",
          "India",
          "Thailand",
          "United States",
          "South Korea",
          "Egypt",
          "France",
          "Germany",
          "Italy"
         ],
         "y": [
          268173,
          24566,
          13085,
          9070,
          7499,
          3092,
          5325,
          4781,
          3334,
          6603
         ]
        },
        {
         "marker": {
          "opacity": 0.4
         },
         "type": "bar",
         "visible": false,
         "x": [
          "China",
          "Japan",
          "India",
          "Thailand",
          "United States",
          "South Korea",
          "Egypt",
          "France",
          "Germany",
          "Italy"
         ],
         "y": [
          279913,
          26455,
          13524,
          9431,
          7897,
          3099,
          5464,
          5120,
          3472,
          6777
         ]
        },
        {
         "marker": {
          "opacity": 0.4
         },
         "type": "bar",
         "visible": false,
         "x": [
          "China",
          "Japan",
          "India",
          "Thailand",
          "United States",
          "South Korea",
          "Egypt",
          "France",
          "Germany",
          "Italy"
         ],
         "y": [
          289004,
          29563,
          13875,
          9781,
          8329,
          3088,
          5529,
          5342,
          3571,
          6711
         ]
        },
        {
         "marker": {
          "opacity": 0.4
         },
         "type": "bar",
         "visible": false,
         "x": [
          "China",
          "Japan",
          "India",
          "Thailand",
          "United States",
          "South Korea",
          "Egypt",
          "France",
          "Germany",
          "Italy"
         ],
         "y": [
          295270,
          31603,
          14560,
          10135,
          8712,
          3699,
          5651,
          5594,
          3733,
          6767
         ]
        },
        {
         "marker": {
          "opacity": 0.4
         },
         "type": "bar",
         "visible": false,
         "x": [
          "China",
          "Japan",
          "India",
          "Thailand",
          "United States",
          "South Korea",
          "Egypt",
          "France",
          "Germany",
          "Italy"
         ],
         "y": [
          296720,
          33379,
          15496,
          9941,
          9120,
          4999,
          5792,
          5773,
          3908,
          6750
         ]
        },
        {
         "marker": {
          "opacity": 0.4
         },
         "type": "bar",
         "visible": false,
         "x": [
          "China",
          "Japan",
          "India",
          "Thailand",
          "United States",
          "South Korea",
          "Egypt",
          "France",
          "Germany",
          "Italy"
         ],
         "y": [
          296303,
          35228,
          15941,
          10471,
          9614,
          6877,
          5902,
          5980,
          4131,
          6752
         ]
        },
        {
         "marker": {
          "opacity": 0.4
         },
         "type": "bar",
         "visible": false,
         "x": [
          "China",
          "Japan",
          "India",
          "Thailand",
          "United States",
          "South Korea",
          "Egypt",
          "France",
          "Germany",
          "Italy"
         ],
         "y": [
          293251,
          36364,
          16131,
          11333,
          10124,
          8683,
          6057,
          6121,
          4464,
          6915
         ]
        },
        {
         "marker": {
          "opacity": 0.4
         },
         "type": "bar",
         "visible": false,
         "x": [
          "China",
          "Japan",
          "India",
          "Thailand",
          "United States",
          "South Korea",
          "Egypt",
          "France",
          "Germany",
          "Italy"
         ],
         "y": [
          278157,
          36610,
          16653,
          11623,
          10611,
          10228,
          6156,
          6046,
          4974,
          6846
         ]
        },
        {
         "marker": {
          "opacity": 0.4
         },
         "type": "bar",
         "visible": false,
         "x": [
          "China",
          "Japan",
          "India",
          "Thailand",
          "United States",
          "South Korea",
          "Egypt",
          "France",
          "Germany",
          "Italy"
         ],
         "y": [
          248727,
          36487,
          17335,
          11464,
          11034,
          11100,
          6760,
          6072,
          5263,
          6678
         ]
        },
        {
         "marker": {
          "opacity": 0.4
         },
         "type": "bar",
         "visible": false,
         "x": [
          "China",
          "Japan",
          "India",
          "Thailand",
          "United States",
          "South Korea",
          "Egypt",
          "France",
          "Germany",
          "Italy"
         ],
         "y": [
          209304,
          36396,
          17974,
          12058,
          11534,
          11647,
          7267,
          6142,
          5567,
          6485
         ]
        },
        {
         "marker": {
          "opacity": 0.4
         },
         "type": "bar",
         "visible": false,
         "x": [
          "China",
          "Japan",
          "India",
          "Thailand",
          "United States",
          "South Korea",
          "Egypt",
          "France",
          "Germany",
          "Italy"
         ],
         "y": [
          176241,
          36647,
          18393,
          12596,
          12072,
          11883,
          7801,
          6217,
          5822,
          6132
         ]
        },
        {
         "marker": {
          "opacity": 0.4
         },
         "type": "bar",
         "visible": false,
         "x": [
          "China",
          "Japan",
          "India",
          "Thailand",
          "United States",
          "South Korea",
          "Egypt",
          "France",
          "Germany",
          "Italy"
         ],
         "y": [
          152815,
          36626,
          18712,
          13431,
          12597,
          11890,
          8212,
          6212,
          6096,
          5959
         ]
        },
        {
         "marker": {
          "opacity": 0.4
         },
         "type": "bar",
         "visible": false,
         "x": [
          "China",
          "Japan",
          "India",
          "Thailand",
          "United States",
          "South Korea",
          "Egypt",
          "France",
          "Germany",
          "Italy"
         ],
         "y": [
          142981,
          36623,
          19771,
          14275,
          13339,
          11728,
          8555,
          6306,
          6327,
          5803
         ]
        },
        {
         "marker": {
          "opacity": 0.4
         },
         "type": "bar",
         "visible": false,
         "x": [
          "China",
          "Japan",
          "India",
          "Thailand",
          "United States",
          "South Korea",
          "Egypt",
          "France",
          "Germany",
          "Italy"
         ],
         "y": [
          139761,
          36358,
          20732,
          15177,
          14039,
          11792,
          9203,
          6415,
          6525,
          5779
         ]
        },
        {
         "marker": {
          "opacity": 0.4
         },
         "type": "bar",
         "visible": false,
         "x": [
          "China",
          "Japan",
          "India",
          "Thailand",
          "United States",
          "South Korea",
          "Egypt",
          "France",
          "Germany",
          "Italy"
         ],
         "y": [
          139125,
          36129,
          21627,
          15982,
          14730,
          11920,
          9779,
          6602,
          6742,
          5794
         ]
        },
        {
         "marker": {
          "opacity": 0.4
         },
         "type": "bar",
         "visible": false,
         "x": [
          "China",
          "Japan",
          "India",
          "Thailand",
          "United States",
          "South Korea",
          "Egypt",
          "France",
          "Germany",
          "Italy"
         ],
         "y": [
          143232,
          35720,
          22432,
          16734,
          15408,
          12035,
          10416,
          6839,
          6925,
          5939
         ]
        },
        {
         "marker": {
          "opacity": 0.4
         },
         "type": "bar",
         "visible": false,
         "x": [
          "China",
          "Japan",
          "India",
          "Thailand",
          "United States",
          "South Korea",
          "Egypt",
          "France",
          "Germany",
          "Italy"
         ],
         "y": [
          142571,
          35094,
          22699,
          17491,
          16048,
          12152,
          11774,
          7000,
          7064,
          6140
         ]
        },
        {
         "marker": {
          "opacity": 0.4
         },
         "type": "bar",
         "visible": false,
         "x": [
          "China",
          "Japan",
          "India",
          "Thailand",
          "United States",
          "South Korea",
          "Egypt",
          "France",
          "Germany",
          "Italy"
         ],
         "y": [
          141707,
          34720,
          23700,
          18545,
          16713,
          12264,
          11979,
          7206,
          7049,
          6398
         ]
        },
        {
         "marker": {
          "opacity": 0.4
         },
         "type": "bar",
         "visible": false,
         "x": [
          "China",
          "Japan",
          "India",
          "Thailand",
          "United States",
          "South Korea",
          "Egypt",
          "France",
          "Germany",
          "Italy"
         ],
         "y": [
          140688,
          34350,
          24806,
          19431,
          17462,
          12308,
          12295,
          7343,
          7040,
          6630
         ]
        },
        {
         "marker": {
          "opacity": 0.4
         },
         "type": "bar",
         "visible": false,
         "x": [
          "China",
          "Japan",
          "India",
          "Thailand",
          "United States",
          "South Korea",
          "Egypt",
          "France",
          "Germany",
          "Italy"
         ],
         "y": [
          142470,
          33877,
          25115,
          20036,
          18108,
          12421,
          12521,
          7474,
          7077,
          6829
         ]
        },
        {
         "marker": {
          "opacity": 0.4
         },
         "type": "bar",
         "visible": false,
         "x": [
          "China",
          "Japan",
          "India",
          "Thailand",
          "United States",
          "South Korea",
          "Egypt",
          "France",
          "Germany",
          "Italy"
         ],
         "y": [
          148066,
          33343,
          25939,
          20334,
          18761,
          12477,
          12541,
          7545,
          7125,
          6831
         ]
        },
        {
         "marker": {
          "opacity": 0.4
         },
         "type": "bar",
         "visible": false,
         "x": [
          "China",
          "Japan",
          "India",
          "Thailand",
          "United States",
          "South Korea",
          "Egypt",
          "France",
          "Germany",
          "Italy"
         ],
         "y": [
          156909,
          32818,
          26136,
          20798,
          19541,
          12580,
          12784,
          7563,
          7204,
          6824
         ]
        },
        {
         "marker": {
          "opacity": 0.4
         },
         "type": "bar",
         "visible": false,
         "x": [
          "China",
          "Japan",
          "India",
          "Thailand",
          "United States",
          "South Korea",
          "Egypt",
          "France",
          "Germany",
          "Italy"
         ],
         "y": [
          164943,
          32511,
          27431,
          21338,
          20428,
          12734,
          13133,
          7713,
          7395,
          6787
         ]
        },
        {
         "marker": {
          "opacity": 0.4
         },
         "type": "bar",
         "visible": false,
         "x": [
          "China",
          "Japan",
          "India",
          "Thailand",
          "United States",
          "South Korea",
          "Egypt",
          "France",
          "Germany",
          "Italy"
         ],
         "y": [
          172587,
          32467,
          28189,
          22204,
          21382,
          12956,
          13304,
          7644,
          7522,
          6402
         ]
        },
        {
         "marker": {
          "opacity": 0.4
         },
         "type": "bar",
         "visible": false,
         "x": [
          "China",
          "Japan",
          "India",
          "Thailand",
          "United States",
          "South Korea",
          "Egypt",
          "France",
          "Germany",
          "Italy"
         ],
         "y": [
          178251,
          32622,
          28930,
          23015,
          21981,
          13489,
          13337,
          7732,
          7565,
          6647
         ]
        },
        {
         "marker": {
          "opacity": 0.4
         },
         "type": "bar",
         "visible": false,
         "x": [
          "China",
          "Japan",
          "India",
          "Thailand",
          "United States",
          "South Korea",
          "Egypt",
          "France",
          "Germany",
          "Italy"
         ],
         "y": [
          182139,
          33708,
          29844,
          23759,
          22833,
          13910,
          13451,
          7718,
          7643,
          6790
         ]
        },
        {
         "marker": {
          "opacity": 0.4
         },
         "type": "bar",
         "visible": false,
         "x": [
          "China",
          "Japan",
          "India",
          "Thailand",
          "United States",
          "South Korea",
          "Egypt",
          "France",
          "Germany",
          "Italy"
         ],
         "y": [
          187700,
          34515,
          30709,
          24527,
          23807,
          14477,
          13590,
          7792,
          7743,
          6919
         ]
        }
       ],
       "frames": [
        {
         "data": [
          {
           "name": "Y1991",
           "type": "bar",
           "x": [
            "China",
            "Japan",
            "India",
            "Thailand",
            "United States",
            "South Korea",
            "Egypt",
            "France",
            "Germany",
            "Italy"
           ],
           "y": [
            244908,
            21213,
            12225,
            8361,
            6729,
            3289,
            5292,
            4253,
            3146,
            6095
           ]
          }
         ]
        },
        {
         "data": [
          {
           "name": "Y1992",
           "type": "bar",
           "x": [
            "China",
            "Japan",
            "India",
            "Thailand",
            "United States",
            "South Korea",
            "Egypt",
            "France",
            "Germany",
            "Italy"
           ],
           "y": [
            256415,
            22768,
            12563,
            8766,
            7085,
            3171,
            5202,
            4502,
            3217,
            6317
           ]
          }
         ]
        },
        {
         "data": [
          {
           "name": "Y1993",
           "type": "bar",
           "x": [
            "China",
            "Japan",
            "India",
            "Thailand",
            "United States",
            "South Korea",
            "Egypt",
            "France",
            "Germany",
            "Italy"
           ],
           "y": [
            268173,
            24566,
            13085,
            9070,
            7499,
            3092,
            5325,
            4781,
            3334,
            6603
           ]
          }
         ]
        },
        {
         "data": [
          {
           "name": "Y1994",
           "type": "bar",
           "x": [
            "China",
            "Japan",
            "India",
            "Thailand",
            "United States",
            "South Korea",
            "Egypt",
            "France",
            "Germany",
            "Italy"
           ],
           "y": [
            279913,
            26455,
            13524,
            9431,
            7897,
            3099,
            5464,
            5120,
            3472,
            6777
           ]
          }
         ]
        },
        {
         "data": [
          {
           "name": "Y1995",
           "type": "bar",
           "x": [
            "China",
            "Japan",
            "India",
            "Thailand",
            "United States",
            "South Korea",
            "Egypt",
            "France",
            "Germany",
            "Italy"
           ],
           "y": [
            289004,
            29563,
            13875,
            9781,
            8329,
            3088,
            5529,
            5342,
            3571,
            6711
           ]
          }
         ]
        },
        {
         "data": [
          {
           "name": "Y1996",
           "type": "bar",
           "x": [
            "China",
            "Japan",
            "India",
            "Thailand",
            "United States",
            "South Korea",
            "Egypt",
            "France",
            "Germany",
            "Italy"
           ],
           "y": [
            295270,
            31603,
            14560,
            10135,
            8712,
            3699,
            5651,
            5594,
            3733,
            6767
           ]
          }
         ]
        },
        {
         "data": [
          {
           "name": "Y1997",
           "type": "bar",
           "x": [
            "China",
            "Japan",
            "India",
            "Thailand",
            "United States",
            "South Korea",
            "Egypt",
            "France",
            "Germany",
            "Italy"
           ],
           "y": [
            296720,
            33379,
            15496,
            9941,
            9120,
            4999,
            5792,
            5773,
            3908,
            6750
           ]
          }
         ]
        },
        {
         "data": [
          {
           "name": "Y1998",
           "type": "bar",
           "x": [
            "China",
            "Japan",
            "India",
            "Thailand",
            "United States",
            "South Korea",
            "Egypt",
            "France",
            "Germany",
            "Italy"
           ],
           "y": [
            296303,
            35228,
            15941,
            10471,
            9614,
            6877,
            5902,
            5980,
            4131,
            6752
           ]
          }
         ]
        },
        {
         "data": [
          {
           "name": "Y1999",
           "type": "bar",
           "x": [
            "China",
            "Japan",
            "India",
            "Thailand",
            "United States",
            "South Korea",
            "Egypt",
            "France",
            "Germany",
            "Italy"
           ],
           "y": [
            293251,
            36364,
            16131,
            11333,
            10124,
            8683,
            6057,
            6121,
            4464,
            6915
           ]
          }
         ]
        },
        {
         "data": [
          {
           "name": "Y2000",
           "type": "bar",
           "x": [
            "China",
            "Japan",
            "India",
            "Thailand",
            "United States",
            "South Korea",
            "Egypt",
            "France",
            "Germany",
            "Italy"
           ],
           "y": [
            278157,
            36610,
            16653,
            11623,
            10611,
            10228,
            6156,
            6046,
            4974,
            6846
           ]
          }
         ]
        },
        {
         "data": [
          {
           "name": "Y2001",
           "type": "bar",
           "x": [
            "China",
            "Japan",
            "India",
            "Thailand",
            "United States",
            "South Korea",
            "Egypt",
            "France",
            "Germany",
            "Italy"
           ],
           "y": [
            248727,
            36487,
            17335,
            11464,
            11034,
            11100,
            6760,
            6072,
            5263,
            6678
           ]
          }
         ]
        },
        {
         "data": [
          {
           "name": "Y2002",
           "type": "bar",
           "x": [
            "China",
            "Japan",
            "India",
            "Thailand",
            "United States",
            "South Korea",
            "Egypt",
            "France",
            "Germany",
            "Italy"
           ],
           "y": [
            209304,
            36396,
            17974,
            12058,
            11534,
            11647,
            7267,
            6142,
            5567,
            6485
           ]
          }
         ]
        },
        {
         "data": [
          {
           "name": "Y2003",
           "type": "bar",
           "x": [
            "China",
            "Japan",
            "India",
            "Thailand",
            "United States",
            "South Korea",
            "Egypt",
            "France",
            "Germany",
            "Italy"
           ],
           "y": [
            176241,
            36647,
            18393,
            12596,
            12072,
            11883,
            7801,
            6217,
            5822,
            6132
           ]
          }
         ]
        },
        {
         "data": [
          {
           "name": "Y2004",
           "type": "bar",
           "x": [
            "China",
            "Japan",
            "India",
            "Thailand",
            "United States",
            "South Korea",
            "Egypt",
            "France",
            "Germany",
            "Italy"
           ],
           "y": [
            152815,
            36626,
            18712,
            13431,
            12597,
            11890,
            8212,
            6212,
            6096,
            5959
           ]
          }
         ]
        },
        {
         "data": [
          {
           "name": "Y2005",
           "type": "bar",
           "x": [
            "China",
            "Japan",
            "India",
            "Thailand",
            "United States",
            "South Korea",
            "Egypt",
            "France",
            "Germany",
            "Italy"
           ],
           "y": [
            142981,
            36623,
            19771,
            14275,
            13339,
            11728,
            8555,
            6306,
            6327,
            5803
           ]
          }
         ]
        },
        {
         "data": [
          {
           "name": "Y2006",
           "type": "bar",
           "x": [
            "China",
            "Japan",
            "India",
            "Thailand",
            "United States",
            "South Korea",
            "Egypt",
            "France",
            "Germany",
            "Italy"
           ],
           "y": [
            139761,
            36358,
            20732,
            15177,
            14039,
            11792,
            9203,
            6415,
            6525,
            5779
           ]
          }
         ]
        },
        {
         "data": [
          {
           "name": "Y2007",
           "type": "bar",
           "x": [
            "China",
            "Japan",
            "India",
            "Thailand",
            "United States",
            "South Korea",
            "Egypt",
            "France",
            "Germany",
            "Italy"
           ],
           "y": [
            139125,
            36129,
            21627,
            15982,
            14730,
            11920,
            9779,
            6602,
            6742,
            5794
           ]
          }
         ]
        },
        {
         "data": [
          {
           "name": "Y2008",
           "type": "bar",
           "x": [
            "China",
            "Japan",
            "India",
            "Thailand",
            "United States",
            "South Korea",
            "Egypt",
            "France",
            "Germany",
            "Italy"
           ],
           "y": [
            143232,
            35720,
            22432,
            16734,
            15408,
            12035,
            10416,
            6839,
            6925,
            5939
           ]
          }
         ]
        },
        {
         "data": [
          {
           "name": "Y2009",
           "type": "bar",
           "x": [
            "China",
            "Japan",
            "India",
            "Thailand",
            "United States",
            "South Korea",
            "Egypt",
            "France",
            "Germany",
            "Italy"
           ],
           "y": [
            142571,
            35094,
            22699,
            17491,
            16048,
            12152,
            11774,
            7000,
            7064,
            6140
           ]
          }
         ]
        },
        {
         "data": [
          {
           "name": "Y2010",
           "type": "bar",
           "x": [
            "China",
            "Japan",
            "India",
            "Thailand",
            "United States",
            "South Korea",
            "Egypt",
            "France",
            "Germany",
            "Italy"
           ],
           "y": [
            141707,
            34720,
            23700,
            18545,
            16713,
            12264,
            11979,
            7206,
            7049,
            6398
           ]
          }
         ]
        },
        {
         "data": [
          {
           "name": "Y2011",
           "type": "bar",
           "x": [
            "China",
            "Japan",
            "India",
            "Thailand",
            "United States",
            "South Korea",
            "Egypt",
            "France",
            "Germany",
            "Italy"
           ],
           "y": [
            140688,
            34350,
            24806,
            19431,
            17462,
            12308,
            12295,
            7343,
            7040,
            6630
           ]
          }
         ]
        },
        {
         "data": [
          {
           "name": "Y2012",
           "type": "bar",
           "x": [
            "China",
            "Japan",
            "India",
            "Thailand",
            "United States",
            "South Korea",
            "Egypt",
            "France",
            "Germany",
            "Italy"
           ],
           "y": [
            142470,
            33877,
            25115,
            20036,
            18108,
            12421,
            12521,
            7474,
            7077,
            6829
           ]
          }
         ]
        },
        {
         "data": [
          {
           "name": "Y2013",
           "type": "bar",
           "x": [
            "China",
            "Japan",
            "India",
            "Thailand",
            "United States",
            "South Korea",
            "Egypt",
            "France",
            "Germany",
            "Italy"
           ],
           "y": [
            148066,
            33343,
            25939,
            20334,
            18761,
            12477,
            12541,
            7545,
            7125,
            6831
           ]
          }
         ]
        },
        {
         "data": [
          {
           "name": "Y2014",
           "type": "bar",
           "x": [
            "China",
            "Japan",
            "India",
            "Thailand",
            "United States",
            "South Korea",
            "Egypt",
            "France",
            "Germany",
            "Italy"
           ],
           "y": [
            156909,
            32818,
            26136,
            20798,
            19541,
            12580,
            12784,
            7563,
            7204,
            6824
           ]
          }
         ]
        },
        {
         "data": [
          {
           "name": "Y2015",
           "type": "bar",
           "x": [
            "China",
            "Japan",
            "India",
            "Thailand",
            "United States",
            "South Korea",
            "Egypt",
            "France",
            "Germany",
            "Italy"
           ],
           "y": [
            164943,
            32511,
            27431,
            21338,
            20428,
            12734,
            13133,
            7713,
            7395,
            6787
           ]
          }
         ]
        },
        {
         "data": [
          {
           "name": "Y2016",
           "type": "bar",
           "x": [
            "China",
            "Japan",
            "India",
            "Thailand",
            "United States",
            "South Korea",
            "Egypt",
            "France",
            "Germany",
            "Italy"
           ],
           "y": [
            172587,
            32467,
            28189,
            22204,
            21382,
            12956,
            13304,
            7644,
            7522,
            6402
           ]
          }
         ]
        },
        {
         "data": [
          {
           "name": "Y2017",
           "type": "bar",
           "x": [
            "China",
            "Japan",
            "India",
            "Thailand",
            "United States",
            "South Korea",
            "Egypt",
            "France",
            "Germany",
            "Italy"
           ],
           "y": [
            178251,
            32622,
            28930,
            23015,
            21981,
            13489,
            13337,
            7732,
            7565,
            6647
           ]
          }
         ]
        },
        {
         "data": [
          {
           "name": "Y2018",
           "type": "bar",
           "x": [
            "China",
            "Japan",
            "India",
            "Thailand",
            "United States",
            "South Korea",
            "Egypt",
            "France",
            "Germany",
            "Italy"
           ],
           "y": [
            182139,
            33708,
            29844,
            23759,
            22833,
            13910,
            13451,
            7718,
            7643,
            6790
           ]
          }
         ]
        },
        {
         "data": [
          {
           "name": "Y2019",
           "type": "bar",
           "x": [
            "China",
            "Japan",
            "India",
            "Thailand",
            "United States",
            "South Korea",
            "Egypt",
            "France",
            "Germany",
            "Italy"
           ],
           "y": [
            187700,
            34515,
            30709,
            24527,
            23807,
            14477,
            13590,
            7792,
            7743,
            6919
           ]
          }
         ]
        }
       ],
       "layout": {
        "plot_bgcolor": "#ffffff",
        "showlegend": true,
        "template": {
         "data": {
          "bar": [
           {
            "error_x": {
             "color": "#2a3f5f"
            },
            "error_y": {
             "color": "#2a3f5f"
            },
            "marker": {
             "line": {
              "color": "#E5ECF6",
              "width": 0.5
             },
             "pattern": {
              "fillmode": "overlay",
              "size": 10,
              "solidity": 0.2
             }
            },
            "type": "bar"
           }
          ],
          "barpolar": [
           {
            "marker": {
             "line": {
              "color": "#E5ECF6",
              "width": 0.5
             },
             "pattern": {
              "fillmode": "overlay",
              "size": 10,
              "solidity": 0.2
             }
            },
            "type": "barpolar"
           }
          ],
          "carpet": [
           {
            "aaxis": {
             "endlinecolor": "#2a3f5f",
             "gridcolor": "white",
             "linecolor": "white",
             "minorgridcolor": "white",
             "startlinecolor": "#2a3f5f"
            },
            "baxis": {
             "endlinecolor": "#2a3f5f",
             "gridcolor": "white",
             "linecolor": "white",
             "minorgridcolor": "white",
             "startlinecolor": "#2a3f5f"
            },
            "type": "carpet"
           }
          ],
          "choropleth": [
           {
            "colorbar": {
             "outlinewidth": 0,
             "ticks": ""
            },
            "type": "choropleth"
           }
          ],
          "contour": [
           {
            "colorbar": {
             "outlinewidth": 0,
             "ticks": ""
            },
            "colorscale": [
             [
              0,
              "#0d0887"
             ],
             [
              0.1111111111111111,
              "#46039f"
             ],
             [
              0.2222222222222222,
              "#7201a8"
             ],
             [
              0.3333333333333333,
              "#9c179e"
             ],
             [
              0.4444444444444444,
              "#bd3786"
             ],
             [
              0.5555555555555556,
              "#d8576b"
             ],
             [
              0.6666666666666666,
              "#ed7953"
             ],
             [
              0.7777777777777778,
              "#fb9f3a"
             ],
             [
              0.8888888888888888,
              "#fdca26"
             ],
             [
              1,
              "#f0f921"
             ]
            ],
            "type": "contour"
           }
          ],
          "contourcarpet": [
           {
            "colorbar": {
             "outlinewidth": 0,
             "ticks": ""
            },
            "type": "contourcarpet"
           }
          ],
          "heatmap": [
           {
            "colorbar": {
             "outlinewidth": 0,
             "ticks": ""
            },
            "colorscale": [
             [
              0,
              "#0d0887"
             ],
             [
              0.1111111111111111,
              "#46039f"
             ],
             [
              0.2222222222222222,
              "#7201a8"
             ],
             [
              0.3333333333333333,
              "#9c179e"
             ],
             [
              0.4444444444444444,
              "#bd3786"
             ],
             [
              0.5555555555555556,
              "#d8576b"
             ],
             [
              0.6666666666666666,
              "#ed7953"
             ],
             [
              0.7777777777777778,
              "#fb9f3a"
             ],
             [
              0.8888888888888888,
              "#fdca26"
             ],
             [
              1,
              "#f0f921"
             ]
            ],
            "type": "heatmap"
           }
          ],
          "heatmapgl": [
           {
            "colorbar": {
             "outlinewidth": 0,
             "ticks": ""
            },
            "colorscale": [
             [
              0,
              "#0d0887"
             ],
             [
              0.1111111111111111,
              "#46039f"
             ],
             [
              0.2222222222222222,
              "#7201a8"
             ],
             [
              0.3333333333333333,
              "#9c179e"
             ],
             [
              0.4444444444444444,
              "#bd3786"
             ],
             [
              0.5555555555555556,
              "#d8576b"
             ],
             [
              0.6666666666666666,
              "#ed7953"
             ],
             [
              0.7777777777777778,
              "#fb9f3a"
             ],
             [
              0.8888888888888888,
              "#fdca26"
             ],
             [
              1,
              "#f0f921"
             ]
            ],
            "type": "heatmapgl"
           }
          ],
          "histogram": [
           {
            "marker": {
             "pattern": {
              "fillmode": "overlay",
              "size": 10,
              "solidity": 0.2
             }
            },
            "type": "histogram"
           }
          ],
          "histogram2d": [
           {
            "colorbar": {
             "outlinewidth": 0,
             "ticks": ""
            },
            "colorscale": [
             [
              0,
              "#0d0887"
             ],
             [
              0.1111111111111111,
              "#46039f"
             ],
             [
              0.2222222222222222,
              "#7201a8"
             ],
             [
              0.3333333333333333,
              "#9c179e"
             ],
             [
              0.4444444444444444,
              "#bd3786"
             ],
             [
              0.5555555555555556,
              "#d8576b"
             ],
             [
              0.6666666666666666,
              "#ed7953"
             ],
             [
              0.7777777777777778,
              "#fb9f3a"
             ],
             [
              0.8888888888888888,
              "#fdca26"
             ],
             [
              1,
              "#f0f921"
             ]
            ],
            "type": "histogram2d"
           }
          ],
          "histogram2dcontour": [
           {
            "colorbar": {
             "outlinewidth": 0,
             "ticks": ""
            },
            "colorscale": [
             [
              0,
              "#0d0887"
             ],
             [
              0.1111111111111111,
              "#46039f"
             ],
             [
              0.2222222222222222,
              "#7201a8"
             ],
             [
              0.3333333333333333,
              "#9c179e"
             ],
             [
              0.4444444444444444,
              "#bd3786"
             ],
             [
              0.5555555555555556,
              "#d8576b"
             ],
             [
              0.6666666666666666,
              "#ed7953"
             ],
             [
              0.7777777777777778,
              "#fb9f3a"
             ],
             [
              0.8888888888888888,
              "#fdca26"
             ],
             [
              1,
              "#f0f921"
             ]
            ],
            "type": "histogram2dcontour"
           }
          ],
          "mesh3d": [
           {
            "colorbar": {
             "outlinewidth": 0,
             "ticks": ""
            },
            "type": "mesh3d"
           }
          ],
          "parcoords": [
           {
            "line": {
             "colorbar": {
              "outlinewidth": 0,
              "ticks": ""
             }
            },
            "type": "parcoords"
           }
          ],
          "pie": [
           {
            "automargin": true,
            "type": "pie"
           }
          ],
          "scatter": [
           {
            "fillpattern": {
             "fillmode": "overlay",
             "size": 10,
             "solidity": 0.2
            },
            "type": "scatter"
           }
          ],
          "scatter3d": [
           {
            "line": {
             "colorbar": {
              "outlinewidth": 0,
              "ticks": ""
             }
            },
            "marker": {
             "colorbar": {
              "outlinewidth": 0,
              "ticks": ""
             }
            },
            "type": "scatter3d"
           }
          ],
          "scattercarpet": [
           {
            "marker": {
             "colorbar": {
              "outlinewidth": 0,
              "ticks": ""
             }
            },
            "type": "scattercarpet"
           }
          ],
          "scattergeo": [
           {
            "marker": {
             "colorbar": {
              "outlinewidth": 0,
              "ticks": ""
             }
            },
            "type": "scattergeo"
           }
          ],
          "scattergl": [
           {
            "marker": {
             "colorbar": {
              "outlinewidth": 0,
              "ticks": ""
             }
            },
            "type": "scattergl"
           }
          ],
          "scattermapbox": [
           {
            "marker": {
             "colorbar": {
              "outlinewidth": 0,
              "ticks": ""
             }
            },
            "type": "scattermapbox"
           }
          ],
          "scatterpolar": [
           {
            "marker": {
             "colorbar": {
              "outlinewidth": 0,
              "ticks": ""
             }
            },
            "type": "scatterpolar"
           }
          ],
          "scatterpolargl": [
           {
            "marker": {
             "colorbar": {
              "outlinewidth": 0,
              "ticks": ""
             }
            },
            "type": "scatterpolargl"
           }
          ],
          "scatterternary": [
           {
            "marker": {
             "colorbar": {
              "outlinewidth": 0,
              "ticks": ""
             }
            },
            "type": "scatterternary"
           }
          ],
          "surface": [
           {
            "colorbar": {
             "outlinewidth": 0,
             "ticks": ""
            },
            "colorscale": [
             [
              0,
              "#0d0887"
             ],
             [
              0.1111111111111111,
              "#46039f"
             ],
             [
              0.2222222222222222,
              "#7201a8"
             ],
             [
              0.3333333333333333,
              "#9c179e"
             ],
             [
              0.4444444444444444,
              "#bd3786"
             ],
             [
              0.5555555555555556,
              "#d8576b"
             ],
             [
              0.6666666666666666,
              "#ed7953"
             ],
             [
              0.7777777777777778,
              "#fb9f3a"
             ],
             [
              0.8888888888888888,
              "#fdca26"
             ],
             [
              1,
              "#f0f921"
             ]
            ],
            "type": "surface"
           }
          ],
          "table": [
           {
            "cells": {
             "fill": {
              "color": "#EBF0F8"
             },
             "line": {
              "color": "white"
             }
            },
            "header": {
             "fill": {
              "color": "#C8D4E3"
             },
             "line": {
              "color": "white"
             }
            },
            "type": "table"
           }
          ]
         },
         "layout": {
          "annotationdefaults": {
           "arrowcolor": "#2a3f5f",
           "arrowhead": 0,
           "arrowwidth": 1
          },
          "autotypenumbers": "strict",
          "coloraxis": {
           "colorbar": {
            "outlinewidth": 0,
            "ticks": ""
           }
          },
          "colorscale": {
           "diverging": [
            [
             0,
             "#8e0152"
            ],
            [
             0.1,
             "#c51b7d"
            ],
            [
             0.2,
             "#de77ae"
            ],
            [
             0.3,
             "#f1b6da"
            ],
            [
             0.4,
             "#fde0ef"
            ],
            [
             0.5,
             "#f7f7f7"
            ],
            [
             0.6,
             "#e6f5d0"
            ],
            [
             0.7,
             "#b8e186"
            ],
            [
             0.8,
             "#7fbc41"
            ],
            [
             0.9,
             "#4d9221"
            ],
            [
             1,
             "#276419"
            ]
           ],
           "sequential": [
            [
             0,
             "#0d0887"
            ],
            [
             0.1111111111111111,
             "#46039f"
            ],
            [
             0.2222222222222222,
             "#7201a8"
            ],
            [
             0.3333333333333333,
             "#9c179e"
            ],
            [
             0.4444444444444444,
             "#bd3786"
            ],
            [
             0.5555555555555556,
             "#d8576b"
            ],
            [
             0.6666666666666666,
             "#ed7953"
            ],
            [
             0.7777777777777778,
             "#fb9f3a"
            ],
            [
             0.8888888888888888,
             "#fdca26"
            ],
            [
             1,
             "#f0f921"
            ]
           ],
           "sequentialminus": [
            [
             0,
             "#0d0887"
            ],
            [
             0.1111111111111111,
             "#46039f"
            ],
            [
             0.2222222222222222,
             "#7201a8"
            ],
            [
             0.3333333333333333,
             "#9c179e"
            ],
            [
             0.4444444444444444,
             "#bd3786"
            ],
            [
             0.5555555555555556,
             "#d8576b"
            ],
            [
             0.6666666666666666,
             "#ed7953"
            ],
            [
             0.7777777777777778,
             "#fb9f3a"
            ],
            [
             0.8888888888888888,
             "#fdca26"
            ],
            [
             1,
             "#f0f921"
            ]
           ]
          },
          "colorway": [
           "#636efa",
           "#EF553B",
           "#00cc96",
           "#ab63fa",
           "#FFA15A",
           "#19d3f3",
           "#FF6692",
           "#B6E880",
           "#FF97FF",
           "#FECB52"
          ],
          "font": {
           "color": "#2a3f5f"
          },
          "geo": {
           "bgcolor": "white",
           "lakecolor": "white",
           "landcolor": "#E5ECF6",
           "showlakes": true,
           "showland": true,
           "subunitcolor": "white"
          },
          "hoverlabel": {
           "align": "left"
          },
          "hovermode": "closest",
          "mapbox": {
           "style": "light"
          },
          "paper_bgcolor": "white",
          "plot_bgcolor": "#E5ECF6",
          "polar": {
           "angularaxis": {
            "gridcolor": "white",
            "linecolor": "white",
            "ticks": ""
           },
           "bgcolor": "#E5ECF6",
           "radialaxis": {
            "gridcolor": "white",
            "linecolor": "white",
            "ticks": ""
           }
          },
          "scene": {
           "xaxis": {
            "backgroundcolor": "#E5ECF6",
            "gridcolor": "white",
            "gridwidth": 2,
            "linecolor": "white",
            "showbackground": true,
            "ticks": "",
            "zerolinecolor": "white"
           },
           "yaxis": {
            "backgroundcolor": "#E5ECF6",
            "gridcolor": "white",
            "gridwidth": 2,
            "linecolor": "white",
            "showbackground": true,
            "ticks": "",
            "zerolinecolor": "white"
           },
           "zaxis": {
            "backgroundcolor": "#E5ECF6",
            "gridcolor": "white",
            "gridwidth": 2,
            "linecolor": "white",
            "showbackground": true,
            "ticks": "",
            "zerolinecolor": "white"
           }
          },
          "shapedefaults": {
           "line": {
            "color": "#2a3f5f"
           }
          },
          "ternary": {
           "aaxis": {
            "gridcolor": "white",
            "linecolor": "white",
            "ticks": ""
           },
           "baxis": {
            "gridcolor": "white",
            "linecolor": "white",
            "ticks": ""
           },
           "bgcolor": "#E5ECF6",
           "caxis": {
            "gridcolor": "white",
            "linecolor": "white",
            "ticks": ""
           }
          },
          "title": {
           "x": 0.05
          },
          "xaxis": {
           "automargin": true,
           "gridcolor": "white",
           "linecolor": "white",
           "ticks": "",
           "title": {
            "standoff": 15
           },
           "zerolinecolor": "white",
           "zerolinewidth": 2
          },
          "yaxis": {
           "automargin": true,
           "gridcolor": "white",
           "linecolor": "white",
           "ticks": "",
           "title": {
            "standoff": 15
           },
           "zerolinecolor": "white",
           "zerolinewidth": 2
          }
         }
        },
        "title": {
         "font": {
          "color": "black",
          "family": "NanumSquare",
          "size": 25
         },
         "text": "1990년 ~ 2019년 Top 10 간암 사망자 수 변화",
         "x": 0.5,
         "xanchor": "center"
        },
        "updatemenus": [
         {
          "buttons": [
           {
            "args": [
             null,
             {
              "frame": {
               "duration": 500,
               "redraw": true
              },
              "fromcurrent": true
             }
            ],
            "label": "Play",
            "method": "animate"
           },
           {
            "args": [
             [
              null
             ],
             {
              "frame": {
               "duration": 0,
               "redraw": false
              },
              "mode": "immediate"
             }
            ],
            "label": "Pause",
            "method": "animate"
           },
           {
            "args": [
             null,
             {
              "frame": {
               "duration": 0,
               "redraw": true
              },
              "fromcurrent": true
             }
            ],
            "label": "Reset",
            "method": "animate"
           }
          ],
          "showactive": false,
          "type": "buttons"
         }
        ],
        "xaxis": {
         "title": {
          "text": "Country"
         }
        },
        "yaxis": {
         "range": [
          0,
          50000
         ],
         "title": {
          "text": "Count(명)"
         }
        }
       }
      }
     },
     "metadata": {},
     "output_type": "display_data"
    }
   ],
   "source": [
    "# Bar Plot 생성\n",
    "fig = go.Figure()\n",
    "\n",
    "colors = ['lightslategray','lightslategray','lightslategray',\n",
    "          'lightslategray','lightslategray','red',\n",
    "          'lightslategray','lightslategray','lightslategray',\n",
    "          'lightslategray']\n",
    "\n",
    "# 초기 프레임 추가\n",
    "fig.add_trace(go.Bar(x=top10_years['Entity'], y=top10_years['Y1990'],\n",
    "                     marker_color=colors,\n",
    "                     name='Y1990'))\n",
    "\n",
    "# 추가 프레임 및 애니메이션 설정\n",
    "for column in top10_years.columns[3:]:\n",
    "    fig.add_trace(go.Bar(x=top10_years['Entity'], y=top10_years[column], visible=False))\n",
    "\n",
    "fig.update_layout(updatemenus=[dict(type='buttons', showactive=False, buttons=[\n",
    "    dict(label='Play',\n",
    "         method='animate',\n",
    "         args=[None, dict(frame=dict(duration=500, redraw=True), fromcurrent=True)]),\n",
    "    dict(label='Pause',\n",
    "         method='animate',\n",
    "         args=[[None], dict(frame=dict(duration=0, redraw=False), mode='immediate')],\n",
    "         ),\n",
    "    dict(label='Reset',\n",
    "         method='animate',\n",
    "         args=[None, dict(frame=dict(duration=0, redraw=True), fromcurrent=True)],\n",
    "         ),\n",
    "])])\n",
    "\n",
    "# 애니메이션 프레임 설정\n",
    "frames = [go.Frame(data=[go.Bar(x=top10_years['Entity'], y=top10_years[column], name=column)])\n",
    "          for column in top10_years.columns[3:]]\n",
    "fig.frames = frames\n",
    "\n",
    "# Y축 범위 고정\n",
    "fig.update_yaxes(range=[0, 50000])  # 원하는 범위로 수정\n",
    "\n",
    "# 그래프 레이아웃 설정\n",
    "fig.update_layout(title_text=\"1990년 ~ 2019년 Top 10 간암 사망자 수 변화\",\n",
    "                  title_x = 0.5,\n",
    "                  title_xanchor = 'center',\n",
    "                  title_font_size = 25,\n",
    "                  title_font_color = 'black',\n",
    "                  title_font_family = 'NanumSquare',\n",
    "                  plot_bgcolor='#ffffff',\n",
    "                  xaxis=dict(title='Country'),\n",
    "                  yaxis=dict(title='Count(명)'),\n",
    "                  showlegend=True)\n",
    "\n",
    "fig.update_traces(#marker_color= 히스토그램 색, \n",
    "                 #marker_line_width=히스토그램 테두리 두깨,                            \n",
    "                 #marker_line_color=히스토그램 테두리 색,\n",
    "                 marker_opacity = 0.4,\n",
    "                 )\n",
    "# 그래프 출력\n",
    "fig.show()\n",
    "\n",
    "# 저장\n",
    "fig.write_image(\"../figure/cancer_death_count_ani.png\")"
   ]
  },
  {
   "cell_type": "markdown",
   "metadata": {},
   "source": [
    "- 미비하지만 경향을 보이는 것 같음."
   ]
  },
  {
   "cell_type": "code",
   "execution_count": 42,
   "metadata": {},
   "outputs": [
    {
     "data": {
      "text/html": [
       "<div>\n",
       "<style scoped>\n",
       "    .dataframe tbody tr th:only-of-type {\n",
       "        vertical-align: middle;\n",
       "    }\n",
       "\n",
       "    .dataframe tbody tr th {\n",
       "        vertical-align: top;\n",
       "    }\n",
       "\n",
       "    .dataframe thead th {\n",
       "        text-align: right;\n",
       "    }\n",
       "</style>\n",
       "<table border=\"1\" class=\"dataframe\">\n",
       "  <thead>\n",
       "    <tr style=\"text-align: right;\">\n",
       "      <th></th>\n",
       "      <th>Entity</th>\n",
       "      <th>Code</th>\n",
       "      <th>Year</th>\n",
       "      <th>Liver cancer</th>\n",
       "      <th>cumsumliver</th>\n",
       "    </tr>\n",
       "  </thead>\n",
       "  <tbody>\n",
       "    <tr>\n",
       "      <th>0</th>\n",
       "      <td>Afghanistan</td>\n",
       "      <td>AFG</td>\n",
       "      <td>1990</td>\n",
       "      <td>851</td>\n",
       "      <td>851</td>\n",
       "    </tr>\n",
       "    <tr>\n",
       "      <th>1</th>\n",
       "      <td>Afghanistan</td>\n",
       "      <td>AFG</td>\n",
       "      <td>1991</td>\n",
       "      <td>866</td>\n",
       "      <td>1717</td>\n",
       "    </tr>\n",
       "    <tr>\n",
       "      <th>2</th>\n",
       "      <td>Afghanistan</td>\n",
       "      <td>AFG</td>\n",
       "      <td>1992</td>\n",
       "      <td>890</td>\n",
       "      <td>2607</td>\n",
       "    </tr>\n",
       "    <tr>\n",
       "      <th>3</th>\n",
       "      <td>Afghanistan</td>\n",
       "      <td>AFG</td>\n",
       "      <td>1993</td>\n",
       "      <td>914</td>\n",
       "      <td>3521</td>\n",
       "    </tr>\n",
       "    <tr>\n",
       "      <th>4</th>\n",
       "      <td>Afghanistan</td>\n",
       "      <td>AFG</td>\n",
       "      <td>1994</td>\n",
       "      <td>933</td>\n",
       "      <td>4454</td>\n",
       "    </tr>\n",
       "    <tr>\n",
       "      <th>...</th>\n",
       "      <td>...</td>\n",
       "      <td>...</td>\n",
       "      <td>...</td>\n",
       "      <td>...</td>\n",
       "      <td>...</td>\n",
       "    </tr>\n",
       "    <tr>\n",
       "      <th>6835</th>\n",
       "      <td>Zimbabwe</td>\n",
       "      <td>ZWE</td>\n",
       "      <td>2015</td>\n",
       "      <td>948</td>\n",
       "      <td>23425</td>\n",
       "    </tr>\n",
       "    <tr>\n",
       "      <th>6836</th>\n",
       "      <td>Zimbabwe</td>\n",
       "      <td>ZWE</td>\n",
       "      <td>2016</td>\n",
       "      <td>966</td>\n",
       "      <td>24391</td>\n",
       "    </tr>\n",
       "    <tr>\n",
       "      <th>6837</th>\n",
       "      <td>Zimbabwe</td>\n",
       "      <td>ZWE</td>\n",
       "      <td>2017</td>\n",
       "      <td>982</td>\n",
       "      <td>25373</td>\n",
       "    </tr>\n",
       "    <tr>\n",
       "      <th>6838</th>\n",
       "      <td>Zimbabwe</td>\n",
       "      <td>ZWE</td>\n",
       "      <td>2018</td>\n",
       "      <td>998</td>\n",
       "      <td>26371</td>\n",
       "    </tr>\n",
       "    <tr>\n",
       "      <th>6839</th>\n",
       "      <td>Zimbabwe</td>\n",
       "      <td>ZWE</td>\n",
       "      <td>2019</td>\n",
       "      <td>1016</td>\n",
       "      <td>27387</td>\n",
       "    </tr>\n",
       "  </tbody>\n",
       "</table>\n",
       "<p>6120 rows × 5 columns</p>\n",
       "</div>"
      ],
      "text/plain": [
       "           Entity Code  Year  Liver cancer  cumsumliver\n",
       "0     Afghanistan  AFG  1990           851          851\n",
       "1     Afghanistan  AFG  1991           866         1717\n",
       "2     Afghanistan  AFG  1992           890         2607\n",
       "3     Afghanistan  AFG  1993           914         3521\n",
       "4     Afghanistan  AFG  1994           933         4454\n",
       "...           ...  ...   ...           ...          ...\n",
       "6835     Zimbabwe  ZWE  2015           948        23425\n",
       "6836     Zimbabwe  ZWE  2016           966        24391\n",
       "6837     Zimbabwe  ZWE  2017           982        25373\n",
       "6838     Zimbabwe  ZWE  2018           998        26371\n",
       "6839     Zimbabwe  ZWE  2019          1016        27387\n",
       "\n",
       "[6120 rows x 5 columns]"
      ]
     },
     "execution_count": 42,
     "metadata": {},
     "output_type": "execute_result"
    }
   ],
   "source": [
    "# 누적 데이터 만들기\n",
    "country['cumsumliver'] = country.groupby(['Entity', 'Code'])['Liver cancer'].cumsum()\n",
    "country"
   ]
  },
  {
   "cell_type": "code",
   "execution_count": 43,
   "metadata": {},
   "outputs": [
    {
     "data": {
      "text/html": [
       "<div>\n",
       "<style scoped>\n",
       "    .dataframe tbody tr th:only-of-type {\n",
       "        vertical-align: middle;\n",
       "    }\n",
       "\n",
       "    .dataframe tbody tr th {\n",
       "        vertical-align: top;\n",
       "    }\n",
       "\n",
       "    .dataframe thead th {\n",
       "        text-align: right;\n",
       "    }\n",
       "</style>\n",
       "<table border=\"1\" class=\"dataframe\">\n",
       "  <thead>\n",
       "    <tr style=\"text-align: right;\">\n",
       "      <th></th>\n",
       "      <th>Entity</th>\n",
       "      <th>Code</th>\n",
       "      <th>Year</th>\n",
       "      <th>cumsumliver</th>\n",
       "      <th>Population</th>\n",
       "    </tr>\n",
       "  </thead>\n",
       "  <tbody>\n",
       "    <tr>\n",
       "      <th>0</th>\n",
       "      <td>Afghanistan</td>\n",
       "      <td>AFG</td>\n",
       "      <td>1990</td>\n",
       "      <td>851</td>\n",
       "      <td>10845924</td>\n",
       "    </tr>\n",
       "    <tr>\n",
       "      <th>1</th>\n",
       "      <td>Afghanistan</td>\n",
       "      <td>AFG</td>\n",
       "      <td>1991</td>\n",
       "      <td>1717</td>\n",
       "      <td>10543668</td>\n",
       "    </tr>\n",
       "    <tr>\n",
       "      <th>2</th>\n",
       "      <td>Afghanistan</td>\n",
       "      <td>AFG</td>\n",
       "      <td>1992</td>\n",
       "      <td>2607</td>\n",
       "      <td>10946666</td>\n",
       "    </tr>\n",
       "    <tr>\n",
       "      <th>3</th>\n",
       "      <td>Afghanistan</td>\n",
       "      <td>AFG</td>\n",
       "      <td>1993</td>\n",
       "      <td>3521</td>\n",
       "      <td>13168200</td>\n",
       "    </tr>\n",
       "    <tr>\n",
       "      <th>4</th>\n",
       "      <td>Afghanistan</td>\n",
       "      <td>AFG</td>\n",
       "      <td>1994</td>\n",
       "      <td>4454</td>\n",
       "      <td>14839320</td>\n",
       "    </tr>\n",
       "    <tr>\n",
       "      <th>5</th>\n",
       "      <td>Afghanistan</td>\n",
       "      <td>AFG</td>\n",
       "      <td>1995</td>\n",
       "      <td>5400</td>\n",
       "      <td>16071789</td>\n",
       "    </tr>\n",
       "    <tr>\n",
       "      <th>6</th>\n",
       "      <td>Afghanistan</td>\n",
       "      <td>AFG</td>\n",
       "      <td>1996</td>\n",
       "      <td>6362</td>\n",
       "      <td>16766035</td>\n",
       "    </tr>\n",
       "    <tr>\n",
       "      <th>7</th>\n",
       "      <td>Afghanistan</td>\n",
       "      <td>AFG</td>\n",
       "      <td>1997</td>\n",
       "      <td>7338</td>\n",
       "      <td>17447156</td>\n",
       "    </tr>\n",
       "    <tr>\n",
       "      <th>8</th>\n",
       "      <td>Afghanistan</td>\n",
       "      <td>AFG</td>\n",
       "      <td>1998</td>\n",
       "      <td>8323</td>\n",
       "      <td>18130482</td>\n",
       "    </tr>\n",
       "    <tr>\n",
       "      <th>9</th>\n",
       "      <td>Afghanistan</td>\n",
       "      <td>AFG</td>\n",
       "      <td>1999</td>\n",
       "      <td>9317</td>\n",
       "      <td>18855782</td>\n",
       "    </tr>\n",
       "  </tbody>\n",
       "</table>\n",
       "</div>"
      ],
      "text/plain": [
       "        Entity Code  Year  cumsumliver  Population\n",
       "0  Afghanistan  AFG  1990          851    10845924\n",
       "1  Afghanistan  AFG  1991         1717    10543668\n",
       "2  Afghanistan  AFG  1992         2607    10946666\n",
       "3  Afghanistan  AFG  1993         3521    13168200\n",
       "4  Afghanistan  AFG  1994         4454    14839320\n",
       "5  Afghanistan  AFG  1995         5400    16071789\n",
       "6  Afghanistan  AFG  1996         6362    16766035\n",
       "7  Afghanistan  AFG  1997         7338    17447156\n",
       "8  Afghanistan  AFG  1998         8323    18130482\n",
       "9  Afghanistan  AFG  1999         9317    18855782"
      ]
     },
     "execution_count": 43,
     "metadata": {},
     "output_type": "execute_result"
    }
   ],
   "source": [
    "# data merge\n",
    "mergedata3 = pd.merge(country, population.iloc[:, 2:], left_on=['Code', 'Year'], right_on=['Code', 'Year'], how='left')\n",
    "mergedata4 = mergedata3.drop(['Location code', 'Code-2', 'Liver cancer'], axis=1)\n",
    "mergedata4.head(10)"
   ]
  },
  {
   "cell_type": "code",
   "execution_count": 44,
   "metadata": {},
   "outputs": [
    {
     "data": {
      "text/plain": [
       "117        Mongolia\n",
       "89            Japan\n",
       "180        Thailand\n",
       "168     South Korea\n",
       "184           Tonga\n",
       "116          Monaco\n",
       "37            China\n",
       "41     Cook Islands\n",
       "74           Guinea\n",
       "177          Taiwan\n",
       "Name: Entity, dtype: object"
      ]
     },
     "execution_count": 44,
     "metadata": {},
     "output_type": "execute_result"
    }
   ],
   "source": [
    "# top10 국가 이름 뽑기\n",
    "top10_country2 = top_10_perc['Entity_x']\n",
    "top10_country2.name = 'Entity'\n",
    "top10_country2\n"
   ]
  },
  {
   "cell_type": "code",
   "execution_count": 45,
   "metadata": {},
   "outputs": [
    {
     "name": "stderr",
     "output_type": "stream",
     "text": [
      "C:\\Users\\abc\\AppData\\Local\\Temp\\ipykernel_12688\\3435563571.py:3: SettingWithCopyWarning:\n",
      "\n",
      "\n",
      "A value is trying to be set on a copy of a slice from a DataFrame.\n",
      "Try using .loc[row_indexer,col_indexer] = value instead\n",
      "\n",
      "See the caveats in the documentation: https://pandas.pydata.org/pandas-docs/stable/user_guide/indexing.html#returning-a-view-versus-a-copy\n",
      "\n"
     ]
    }
   ],
   "source": [
    "# top10 데이터 가져오기\n",
    "top10_liverp = mergedata4[mergedata4['Entity'].apply(lambda x: x in list(top10_country2))]\n",
    "top10_liverp['death_per_population'] = round(top10_liverp['cumsumliver']/(top10_liverp['Population'])*10000, 2)\n",
    "top10_liverp\n",
    "tp = top10_liverp[['Entity', 'Year', 'death_per_population']]"
   ]
  },
  {
   "cell_type": "code",
   "execution_count": 46,
   "metadata": {},
   "outputs": [
    {
     "data": {
      "text/html": [
       "<div>\n",
       "<style scoped>\n",
       "    .dataframe tbody tr th:only-of-type {\n",
       "        vertical-align: middle;\n",
       "    }\n",
       "\n",
       "    .dataframe tbody tr th {\n",
       "        vertical-align: top;\n",
       "    }\n",
       "\n",
       "    .dataframe thead th {\n",
       "        text-align: right;\n",
       "    }\n",
       "</style>\n",
       "<table border=\"1\" class=\"dataframe\">\n",
       "  <thead>\n",
       "    <tr style=\"text-align: right;\">\n",
       "      <th></th>\n",
       "      <th>Entity</th>\n",
       "      <th>Y1990</th>\n",
       "      <th>Y1991</th>\n",
       "      <th>Y1992</th>\n",
       "      <th>Y1993</th>\n",
       "      <th>Y1994</th>\n",
       "      <th>Y1995</th>\n",
       "      <th>Y1996</th>\n",
       "      <th>Y1997</th>\n",
       "      <th>Y1998</th>\n",
       "      <th>...</th>\n",
       "      <th>Y2010</th>\n",
       "      <th>Y2011</th>\n",
       "      <th>Y2012</th>\n",
       "      <th>Y2013</th>\n",
       "      <th>Y2014</th>\n",
       "      <th>Y2015</th>\n",
       "      <th>Y2016</th>\n",
       "      <th>Y2017</th>\n",
       "      <th>Y2018</th>\n",
       "      <th>Y2019</th>\n",
       "    </tr>\n",
       "  </thead>\n",
       "  <tbody>\n",
       "    <tr>\n",
       "      <th>5</th>\n",
       "      <td>Mongolia</td>\n",
       "      <td>3.24</td>\n",
       "      <td>6.45</td>\n",
       "      <td>9.58</td>\n",
       "      <td>12.67</td>\n",
       "      <td>15.73</td>\n",
       "      <td>18.81</td>\n",
       "      <td>21.92</td>\n",
       "      <td>25.03</td>\n",
       "      <td>28.20</td>\n",
       "      <td>...</td>\n",
       "      <td>83.69</td>\n",
       "      <td>89.39</td>\n",
       "      <td>94.73</td>\n",
       "      <td>99.93</td>\n",
       "      <td>104.92</td>\n",
       "      <td>109.75</td>\n",
       "      <td>114.56</td>\n",
       "      <td>119.31</td>\n",
       "      <td>124.05</td>\n",
       "      <td>128.77</td>\n",
       "    </tr>\n",
       "    <tr>\n",
       "      <th>3</th>\n",
       "      <td>Japan</td>\n",
       "      <td>1.62</td>\n",
       "      <td>3.33</td>\n",
       "      <td>5.15</td>\n",
       "      <td>7.10</td>\n",
       "      <td>9.20</td>\n",
       "      <td>11.54</td>\n",
       "      <td>14.03</td>\n",
       "      <td>16.64</td>\n",
       "      <td>19.40</td>\n",
       "      <td>...</td>\n",
       "      <td>52.96</td>\n",
       "      <td>55.66</td>\n",
       "      <td>58.37</td>\n",
       "      <td>61.05</td>\n",
       "      <td>63.72</td>\n",
       "      <td>66.38</td>\n",
       "      <td>69.05</td>\n",
       "      <td>71.78</td>\n",
       "      <td>74.66</td>\n",
       "      <td>77.65</td>\n",
       "    </tr>\n",
       "    <tr>\n",
       "      <th>8</th>\n",
       "      <td>Thailand</td>\n",
       "      <td>1.44</td>\n",
       "      <td>2.92</td>\n",
       "      <td>4.43</td>\n",
       "      <td>5.94</td>\n",
       "      <td>7.48</td>\n",
       "      <td>9.03</td>\n",
       "      <td>10.60</td>\n",
       "      <td>12.11</td>\n",
       "      <td>13.66</td>\n",
       "      <td>...</td>\n",
       "      <td>37.40</td>\n",
       "      <td>40.00</td>\n",
       "      <td>42.65</td>\n",
       "      <td>45.31</td>\n",
       "      <td>48.03</td>\n",
       "      <td>50.82</td>\n",
       "      <td>53.76</td>\n",
       "      <td>56.76</td>\n",
       "      <td>59.90</td>\n",
       "      <td>63.18</td>\n",
       "    </tr>\n",
       "    <tr>\n",
       "      <th>6</th>\n",
       "      <td>South Korea</td>\n",
       "      <td>0.78</td>\n",
       "      <td>1.51</td>\n",
       "      <td>2.21</td>\n",
       "      <td>2.89</td>\n",
       "      <td>3.57</td>\n",
       "      <td>4.23</td>\n",
       "      <td>5.02</td>\n",
       "      <td>6.08</td>\n",
       "      <td>7.53</td>\n",
       "      <td>...</td>\n",
       "      <td>35.34</td>\n",
       "      <td>37.67</td>\n",
       "      <td>39.83</td>\n",
       "      <td>41.96</td>\n",
       "      <td>44.08</td>\n",
       "      <td>46.19</td>\n",
       "      <td>48.34</td>\n",
       "      <td>50.76</td>\n",
       "      <td>53.28</td>\n",
       "      <td>55.92</td>\n",
       "    </tr>\n",
       "    <tr>\n",
       "      <th>9</th>\n",
       "      <td>Tonga</td>\n",
       "      <td>1.42</td>\n",
       "      <td>2.83</td>\n",
       "      <td>4.24</td>\n",
       "      <td>5.63</td>\n",
       "      <td>7.13</td>\n",
       "      <td>8.61</td>\n",
       "      <td>10.09</td>\n",
       "      <td>11.67</td>\n",
       "      <td>13.17</td>\n",
       "      <td>...</td>\n",
       "      <td>32.73</td>\n",
       "      <td>34.41</td>\n",
       "      <td>36.12</td>\n",
       "      <td>38.02</td>\n",
       "      <td>39.96</td>\n",
       "      <td>41.92</td>\n",
       "      <td>43.93</td>\n",
       "      <td>45.95</td>\n",
       "      <td>47.97</td>\n",
       "      <td>49.99</td>\n",
       "    </tr>\n",
       "    <tr>\n",
       "      <th>4</th>\n",
       "      <td>Monaco</td>\n",
       "      <td>0.66</td>\n",
       "      <td>1.31</td>\n",
       "      <td>1.96</td>\n",
       "      <td>2.59</td>\n",
       "      <td>3.21</td>\n",
       "      <td>4.14</td>\n",
       "      <td>5.06</td>\n",
       "      <td>5.97</td>\n",
       "      <td>7.17</td>\n",
       "      <td>...</td>\n",
       "      <td>29.89</td>\n",
       "      <td>31.28</td>\n",
       "      <td>32.63</td>\n",
       "      <td>33.93</td>\n",
       "      <td>35.22</td>\n",
       "      <td>36.49</td>\n",
       "      <td>37.76</td>\n",
       "      <td>39.66</td>\n",
       "      <td>41.60</td>\n",
       "      <td>43.47</td>\n",
       "    </tr>\n",
       "    <tr>\n",
       "      <th>0</th>\n",
       "      <td>China</td>\n",
       "      <td>2.03</td>\n",
       "      <td>4.10</td>\n",
       "      <td>6.23</td>\n",
       "      <td>8.42</td>\n",
       "      <td>10.67</td>\n",
       "      <td>12.95</td>\n",
       "      <td>15.25</td>\n",
       "      <td>17.54</td>\n",
       "      <td>19.79</td>\n",
       "      <td>...</td>\n",
       "      <td>34.73</td>\n",
       "      <td>35.54</td>\n",
       "      <td>36.36</td>\n",
       "      <td>37.17</td>\n",
       "      <td>38.06</td>\n",
       "      <td>39.00</td>\n",
       "      <td>40.02</td>\n",
       "      <td>41.04</td>\n",
       "      <td>42.09</td>\n",
       "      <td>43.25</td>\n",
       "    </tr>\n",
       "    <tr>\n",
       "      <th>1</th>\n",
       "      <td>Cook Islands</td>\n",
       "      <td>1.17</td>\n",
       "      <td>2.32</td>\n",
       "      <td>3.45</td>\n",
       "      <td>4.57</td>\n",
       "      <td>5.68</td>\n",
       "      <td>6.78</td>\n",
       "      <td>7.88</td>\n",
       "      <td>8.98</td>\n",
       "      <td>10.38</td>\n",
       "      <td>...</td>\n",
       "      <td>24.82</td>\n",
       "      <td>25.14</td>\n",
       "      <td>25.50</td>\n",
       "      <td>26.72</td>\n",
       "      <td>27.98</td>\n",
       "      <td>29.27</td>\n",
       "      <td>31.20</td>\n",
       "      <td>33.21</td>\n",
       "      <td>35.21</td>\n",
       "      <td>37.25</td>\n",
       "    </tr>\n",
       "    <tr>\n",
       "      <th>2</th>\n",
       "      <td>Guinea</td>\n",
       "      <td>1.73</td>\n",
       "      <td>3.37</td>\n",
       "      <td>4.97</td>\n",
       "      <td>6.57</td>\n",
       "      <td>8.08</td>\n",
       "      <td>9.62</td>\n",
       "      <td>11.09</td>\n",
       "      <td>12.57</td>\n",
       "      <td>14.18</td>\n",
       "      <td>...</td>\n",
       "      <td>29.94</td>\n",
       "      <td>30.90</td>\n",
       "      <td>31.83</td>\n",
       "      <td>32.74</td>\n",
       "      <td>33.60</td>\n",
       "      <td>34.41</td>\n",
       "      <td>35.14</td>\n",
       "      <td>35.82</td>\n",
       "      <td>36.48</td>\n",
       "      <td>37.09</td>\n",
       "    </tr>\n",
       "    <tr>\n",
       "      <th>7</th>\n",
       "      <td>Taiwan</td>\n",
       "      <td>0.99</td>\n",
       "      <td>2.03</td>\n",
       "      <td>3.13</td>\n",
       "      <td>4.26</td>\n",
       "      <td>5.42</td>\n",
       "      <td>6.60</td>\n",
       "      <td>7.81</td>\n",
       "      <td>8.94</td>\n",
       "      <td>10.23</td>\n",
       "      <td>...</td>\n",
       "      <td>27.69</td>\n",
       "      <td>28.75</td>\n",
       "      <td>29.68</td>\n",
       "      <td>30.56</td>\n",
       "      <td>31.45</td>\n",
       "      <td>32.34</td>\n",
       "      <td>33.29</td>\n",
       "      <td>34.29</td>\n",
       "      <td>35.35</td>\n",
       "      <td>36.47</td>\n",
       "    </tr>\n",
       "  </tbody>\n",
       "</table>\n",
       "<p>10 rows × 31 columns</p>\n",
       "</div>"
      ],
      "text/plain": [
       "         Entity  Y1990  Y1991  Y1992  Y1993  Y1994  Y1995  Y1996  Y1997  \\\n",
       "5      Mongolia   3.24   6.45   9.58  12.67  15.73  18.81  21.92  25.03   \n",
       "3         Japan   1.62   3.33   5.15   7.10   9.20  11.54  14.03  16.64   \n",
       "8      Thailand   1.44   2.92   4.43   5.94   7.48   9.03  10.60  12.11   \n",
       "6   South Korea   0.78   1.51   2.21   2.89   3.57   4.23   5.02   6.08   \n",
       "9         Tonga   1.42   2.83   4.24   5.63   7.13   8.61  10.09  11.67   \n",
       "4        Monaco   0.66   1.31   1.96   2.59   3.21   4.14   5.06   5.97   \n",
       "0         China   2.03   4.10   6.23   8.42  10.67  12.95  15.25  17.54   \n",
       "1  Cook Islands   1.17   2.32   3.45   4.57   5.68   6.78   7.88   8.98   \n",
       "2        Guinea   1.73   3.37   4.97   6.57   8.08   9.62  11.09  12.57   \n",
       "7        Taiwan   0.99   2.03   3.13   4.26   5.42   6.60   7.81   8.94   \n",
       "\n",
       "   Y1998  ...  Y2010  Y2011  Y2012  Y2013   Y2014   Y2015   Y2016   Y2017  \\\n",
       "5  28.20  ...  83.69  89.39  94.73  99.93  104.92  109.75  114.56  119.31   \n",
       "3  19.40  ...  52.96  55.66  58.37  61.05   63.72   66.38   69.05   71.78   \n",
       "8  13.66  ...  37.40  40.00  42.65  45.31   48.03   50.82   53.76   56.76   \n",
       "6   7.53  ...  35.34  37.67  39.83  41.96   44.08   46.19   48.34   50.76   \n",
       "9  13.17  ...  32.73  34.41  36.12  38.02   39.96   41.92   43.93   45.95   \n",
       "4   7.17  ...  29.89  31.28  32.63  33.93   35.22   36.49   37.76   39.66   \n",
       "0  19.79  ...  34.73  35.54  36.36  37.17   38.06   39.00   40.02   41.04   \n",
       "1  10.38  ...  24.82  25.14  25.50  26.72   27.98   29.27   31.20   33.21   \n",
       "2  14.18  ...  29.94  30.90  31.83  32.74   33.60   34.41   35.14   35.82   \n",
       "7  10.23  ...  27.69  28.75  29.68  30.56   31.45   32.34   33.29   34.29   \n",
       "\n",
       "    Y2018   Y2019  \n",
       "5  124.05  128.77  \n",
       "3   74.66   77.65  \n",
       "8   59.90   63.18  \n",
       "6   53.28   55.92  \n",
       "9   47.97   49.99  \n",
       "4   41.60   43.47  \n",
       "0   42.09   43.25  \n",
       "1   35.21   37.25  \n",
       "2   36.48   37.09  \n",
       "7   35.35   36.47  \n",
       "\n",
       "[10 rows x 31 columns]"
      ]
     },
     "execution_count": 46,
     "metadata": {},
     "output_type": "execute_result"
    }
   ],
   "source": [
    "# pivot table\n",
    "top10_yearsp = pd.pivot_table(tp, values='death_per_population',\n",
    "                index = ['Entity'],\n",
    "                columns = ['Year'],\n",
    "                    aggfunc=np.sum,\n",
    "                    fill_value = 0).reset_index()\n",
    "top10_yearsp.columns = list(top10_yearsp.columns[:1]) + ['Y' + str(value) for value in top10_yearsp.columns[1:]]\n",
    "top10_yearsp = top10_yearsp.sort_values(by='Y2019', ascending=False)\n",
    "top10_yearsp"
   ]
  },
  {
   "cell_type": "code",
   "execution_count": 47,
   "metadata": {},
   "outputs": [
    {
     "data": {
      "application/vnd.plotly.v1+json": {
       "config": {
        "plotlyServerURL": "https://plot.ly"
       },
       "data": [
        {
         "marker": {
          "color": [
           "lightslategray",
           "lightslategray",
           "lightslategray",
           "red",
           "lightslategray",
           "lightslategray",
           "lightslategray",
           "lightslategray",
           "lightslategray",
           "lightslategray"
          ],
          "opacity": 0.4
         },
         "name": "Y1990",
         "type": "bar",
         "x": [
          "Mongolia",
          "Japan",
          "Thailand",
          "South Korea",
          "Tonga",
          "Monaco",
          "China",
          "Cook Islands",
          "Guinea",
          "Taiwan"
         ],
         "y": [
          3.24,
          1.62,
          1.44,
          0.78,
          1.42,
          0.66,
          2.03,
          1.17,
          1.73,
          0.99
         ]
        },
        {
         "marker": {
          "opacity": 0.4
         },
         "type": "bar",
         "visible": false,
         "x": [
          "Mongolia",
          "Japan",
          "Thailand",
          "South Korea",
          "Tonga",
          "Monaco",
          "China",
          "Cook Islands",
          "Guinea",
          "Taiwan"
         ],
         "y": [
          6.45,
          3.33,
          2.92,
          1.51,
          2.83,
          1.31,
          4.1,
          2.32,
          3.37,
          2.03
         ]
        },
        {
         "marker": {
          "opacity": 0.4
         },
         "type": "bar",
         "visible": false,
         "x": [
          "Mongolia",
          "Japan",
          "Thailand",
          "South Korea",
          "Tonga",
          "Monaco",
          "China",
          "Cook Islands",
          "Guinea",
          "Taiwan"
         ],
         "y": [
          9.58,
          5.15,
          4.43,
          2.21,
          4.24,
          1.96,
          6.23,
          3.45,
          4.97,
          3.13
         ]
        },
        {
         "marker": {
          "opacity": 0.4
         },
         "type": "bar",
         "visible": false,
         "x": [
          "Mongolia",
          "Japan",
          "Thailand",
          "South Korea",
          "Tonga",
          "Monaco",
          "China",
          "Cook Islands",
          "Guinea",
          "Taiwan"
         ],
         "y": [
          12.67,
          7.1,
          5.94,
          2.89,
          5.63,
          2.59,
          8.42,
          4.57,
          6.57,
          4.26
         ]
        },
        {
         "marker": {
          "opacity": 0.4
         },
         "type": "bar",
         "visible": false,
         "x": [
          "Mongolia",
          "Japan",
          "Thailand",
          "South Korea",
          "Tonga",
          "Monaco",
          "China",
          "Cook Islands",
          "Guinea",
          "Taiwan"
         ],
         "y": [
          15.73,
          9.2,
          7.48,
          3.57,
          7.13,
          3.21,
          10.67,
          5.68,
          8.08,
          5.42
         ]
        },
        {
         "marker": {
          "opacity": 0.4
         },
         "type": "bar",
         "visible": false,
         "x": [
          "Mongolia",
          "Japan",
          "Thailand",
          "South Korea",
          "Tonga",
          "Monaco",
          "China",
          "Cook Islands",
          "Guinea",
          "Taiwan"
         ],
         "y": [
          18.81,
          11.54,
          9.03,
          4.23,
          8.61,
          4.14,
          12.95,
          6.78,
          9.62,
          6.6
         ]
        },
        {
         "marker": {
          "opacity": 0.4
         },
         "type": "bar",
         "visible": false,
         "x": [
          "Mongolia",
          "Japan",
          "Thailand",
          "South Korea",
          "Tonga",
          "Monaco",
          "China",
          "Cook Islands",
          "Guinea",
          "Taiwan"
         ],
         "y": [
          21.92,
          14.03,
          10.6,
          5.02,
          10.09,
          5.06,
          15.25,
          7.88,
          11.09,
          7.81
         ]
        },
        {
         "marker": {
          "opacity": 0.4
         },
         "type": "bar",
         "visible": false,
         "x": [
          "Mongolia",
          "Japan",
          "Thailand",
          "South Korea",
          "Tonga",
          "Monaco",
          "China",
          "Cook Islands",
          "Guinea",
          "Taiwan"
         ],
         "y": [
          25.03,
          16.64,
          12.11,
          6.08,
          11.67,
          5.97,
          17.54,
          8.98,
          12.57,
          8.94
         ]
        },
        {
         "marker": {
          "opacity": 0.4
         },
         "type": "bar",
         "visible": false,
         "x": [
          "Mongolia",
          "Japan",
          "Thailand",
          "South Korea",
          "Tonga",
          "Monaco",
          "China",
          "Cook Islands",
          "Guinea",
          "Taiwan"
         ],
         "y": [
          28.2,
          19.4,
          13.66,
          7.53,
          13.17,
          7.17,
          19.79,
          10.38,
          14.18,
          10.23
         ]
        },
        {
         "marker": {
          "opacity": 0.4
         },
         "type": "bar",
         "visible": false,
         "x": [
          "Mongolia",
          "Japan",
          "Thailand",
          "South Korea",
          "Tonga",
          "Monaco",
          "China",
          "Cook Islands",
          "Guinea",
          "Taiwan"
         ],
         "y": [
          31.47,
          22.23,
          15.32,
          9.36,
          14.75,
          8.35,
          22,
          11.91,
          15.65,
          11.6
         ]
        },
        {
         "marker": {
          "opacity": 0.4
         },
         "type": "bar",
         "visible": false,
         "x": [
          "Mongolia",
          "Japan",
          "Thailand",
          "South Korea",
          "Tonga",
          "Monaco",
          "China",
          "Cook Islands",
          "Guinea",
          "Taiwan"
         ],
         "y": [
          34.91,
          25.08,
          17.01,
          11.5,
          16.42,
          9.86,
          24.06,
          13.58,
          17.09,
          13.05
         ]
        },
        {
         "marker": {
          "opacity": 0.4
         },
         "type": "bar",
         "visible": false,
         "x": [
          "Mongolia",
          "Japan",
          "Thailand",
          "South Korea",
          "Tonga",
          "Monaco",
          "China",
          "Cook Islands",
          "Guinea",
          "Taiwan"
         ],
         "y": [
          38.69,
          27.9,
          18.66,
          13.8,
          18.07,
          11.7,
          25.85,
          15.4,
          18.57,
          14.51
         ]
        },
        {
         "marker": {
          "opacity": 0.4
         },
         "type": "bar",
         "visible": false,
         "x": [
          "Mongolia",
          "Japan",
          "Thailand",
          "South Korea",
          "Tonga",
          "Monaco",
          "China",
          "Cook Islands",
          "Guinea",
          "Taiwan"
         ],
         "y": [
          42.73,
          30.71,
          20.38,
          16.18,
          19.71,
          13.57,
          27.32,
          17.33,
          20.23,
          15.78
         ]
        },
        {
         "marker": {
          "opacity": 0.4
         },
         "type": "bar",
         "visible": false,
         "x": [
          "Mongolia",
          "Japan",
          "Thailand",
          "South Korea",
          "Tonga",
          "Monaco",
          "China",
          "Cook Islands",
          "Guinea",
          "Taiwan"
         ],
         "y": [
          47.05,
          33.53,
          22.15,
          18.61,
          21.33,
          15.45,
          28.52,
          18.59,
          21.58,
          17.33
         ]
        },
        {
         "marker": {
          "opacity": 0.4
         },
         "type": "bar",
         "visible": false,
         "x": [
          "Mongolia",
          "Japan",
          "Thailand",
          "South Korea",
          "Tonga",
          "Monaco",
          "China",
          "Cook Islands",
          "Guinea",
          "Taiwan"
         ],
         "y": [
          51.64,
          36.36,
          24.04,
          21.02,
          23.01,
          17.35,
          29.53,
          19.87,
          22.91,
          19.01
         ]
        },
        {
         "marker": {
          "opacity": 0.4
         },
         "type": "bar",
         "visible": false,
         "x": [
          "Mongolia",
          "Japan",
          "Thailand",
          "South Korea",
          "Tonga",
          "Monaco",
          "China",
          "Cook Islands",
          "Guinea",
          "Taiwan"
         ],
         "y": [
          56.49,
          39.18,
          26.02,
          23.4,
          24.58,
          19.57,
          30.45,
          21.15,
          24.25,
          20.75
         ]
        },
        {
         "marker": {
          "opacity": 0.4
         },
         "type": "bar",
         "visible": false,
         "x": [
          "Mongolia",
          "Japan",
          "Thailand",
          "South Korea",
          "Tonga",
          "Monaco",
          "China",
          "Cook Islands",
          "Guinea",
          "Taiwan"
         ],
         "y": [
          61.63,
          41.99,
          28.12,
          25.78,
          26.15,
          21.81,
          31.33,
          22.42,
          25.56,
          22.44
         ]
        },
        {
         "marker": {
          "opacity": 0.4
         },
         "type": "bar",
         "visible": false,
         "x": [
          "Mongolia",
          "Japan",
          "Thailand",
          "South Korea",
          "Tonga",
          "Monaco",
          "China",
          "Cook Islands",
          "Guinea",
          "Taiwan"
         ],
         "y": [
          66.96,
          44.78,
          30.31,
          28.17,
          27.71,
          24.11,
          32.18,
          23.63,
          26.76,
          24
         ]
        },
        {
         "marker": {
          "opacity": 0.4
         },
         "type": "bar",
         "visible": false,
         "x": [
          "Mongolia",
          "Japan",
          "Thailand",
          "South Korea",
          "Tonga",
          "Monaco",
          "China",
          "Cook Islands",
          "Guinea",
          "Taiwan"
         ],
         "y": [
          72.42,
          47.54,
          32.57,
          30.56,
          29.3,
          26.49,
          33.06,
          24.08,
          27.88,
          25.36
         ]
        },
        {
         "marker": {
          "opacity": 0.4
         },
         "type": "bar",
         "visible": false,
         "x": [
          "Mongolia",
          "Japan",
          "Thailand",
          "South Korea",
          "Tonga",
          "Monaco",
          "China",
          "Cook Islands",
          "Guinea",
          "Taiwan"
         ],
         "y": [
          78.02,
          50.26,
          34.92,
          32.95,
          31.01,
          28.43,
          33.91,
          24.47,
          28.93,
          26.58
         ]
        },
        {
         "marker": {
          "opacity": 0.4
         },
         "type": "bar",
         "visible": false,
         "x": [
          "Mongolia",
          "Japan",
          "Thailand",
          "South Korea",
          "Tonga",
          "Monaco",
          "China",
          "Cook Islands",
          "Guinea",
          "Taiwan"
         ],
         "y": [
          83.69,
          52.96,
          37.4,
          35.34,
          32.73,
          29.89,
          34.73,
          24.82,
          29.94,
          27.69
         ]
        },
        {
         "marker": {
          "opacity": 0.4
         },
         "type": "bar",
         "visible": false,
         "x": [
          "Mongolia",
          "Japan",
          "Thailand",
          "South Korea",
          "Tonga",
          "Monaco",
          "China",
          "Cook Islands",
          "Guinea",
          "Taiwan"
         ],
         "y": [
          89.39,
          55.66,
          40,
          37.67,
          34.41,
          31.28,
          35.54,
          25.14,
          30.9,
          28.75
         ]
        },
        {
         "marker": {
          "opacity": 0.4
         },
         "type": "bar",
         "visible": false,
         "x": [
          "Mongolia",
          "Japan",
          "Thailand",
          "South Korea",
          "Tonga",
          "Monaco",
          "China",
          "Cook Islands",
          "Guinea",
          "Taiwan"
         ],
         "y": [
          94.73,
          58.37,
          42.65,
          39.83,
          36.12,
          32.63,
          36.36,
          25.5,
          31.83,
          29.68
         ]
        },
        {
         "marker": {
          "opacity": 0.4
         },
         "type": "bar",
         "visible": false,
         "x": [
          "Mongolia",
          "Japan",
          "Thailand",
          "South Korea",
          "Tonga",
          "Monaco",
          "China",
          "Cook Islands",
          "Guinea",
          "Taiwan"
         ],
         "y": [
          99.93,
          61.05,
          45.31,
          41.96,
          38.02,
          33.93,
          37.17,
          26.72,
          32.74,
          30.56
         ]
        },
        {
         "marker": {
          "opacity": 0.4
         },
         "type": "bar",
         "visible": false,
         "x": [
          "Mongolia",
          "Japan",
          "Thailand",
          "South Korea",
          "Tonga",
          "Monaco",
          "China",
          "Cook Islands",
          "Guinea",
          "Taiwan"
         ],
         "y": [
          104.92,
          63.72,
          48.03,
          44.08,
          39.96,
          35.22,
          38.06,
          27.98,
          33.6,
          31.45
         ]
        },
        {
         "marker": {
          "opacity": 0.4
         },
         "type": "bar",
         "visible": false,
         "x": [
          "Mongolia",
          "Japan",
          "Thailand",
          "South Korea",
          "Tonga",
          "Monaco",
          "China",
          "Cook Islands",
          "Guinea",
          "Taiwan"
         ],
         "y": [
          109.75,
          66.38,
          50.82,
          46.19,
          41.92,
          36.49,
          39,
          29.27,
          34.41,
          32.34
         ]
        },
        {
         "marker": {
          "opacity": 0.4
         },
         "type": "bar",
         "visible": false,
         "x": [
          "Mongolia",
          "Japan",
          "Thailand",
          "South Korea",
          "Tonga",
          "Monaco",
          "China",
          "Cook Islands",
          "Guinea",
          "Taiwan"
         ],
         "y": [
          114.56,
          69.05,
          53.76,
          48.34,
          43.93,
          37.76,
          40.02,
          31.2,
          35.14,
          33.29
         ]
        },
        {
         "marker": {
          "opacity": 0.4
         },
         "type": "bar",
         "visible": false,
         "x": [
          "Mongolia",
          "Japan",
          "Thailand",
          "South Korea",
          "Tonga",
          "Monaco",
          "China",
          "Cook Islands",
          "Guinea",
          "Taiwan"
         ],
         "y": [
          119.31,
          71.78,
          56.76,
          50.76,
          45.95,
          39.66,
          41.04,
          33.21,
          35.82,
          34.29
         ]
        },
        {
         "marker": {
          "opacity": 0.4
         },
         "type": "bar",
         "visible": false,
         "x": [
          "Mongolia",
          "Japan",
          "Thailand",
          "South Korea",
          "Tonga",
          "Monaco",
          "China",
          "Cook Islands",
          "Guinea",
          "Taiwan"
         ],
         "y": [
          124.05,
          74.66,
          59.9,
          53.28,
          47.97,
          41.6,
          42.09,
          35.21,
          36.48,
          35.35
         ]
        },
        {
         "marker": {
          "opacity": 0.4
         },
         "type": "bar",
         "visible": false,
         "x": [
          "Mongolia",
          "Japan",
          "Thailand",
          "South Korea",
          "Tonga",
          "Monaco",
          "China",
          "Cook Islands",
          "Guinea",
          "Taiwan"
         ],
         "y": [
          128.77,
          77.65,
          63.18,
          55.92,
          49.99,
          43.47,
          43.25,
          37.25,
          37.09,
          36.47
         ]
        }
       ],
       "frames": [
        {
         "data": [
          {
           "name": "Y1992",
           "type": "bar",
           "x": [
            "Mongolia",
            "Japan",
            "Thailand",
            "South Korea",
            "Tonga",
            "Monaco",
            "China",
            "Cook Islands",
            "Guinea",
            "Taiwan"
           ],
           "y": [
            9.58,
            5.15,
            4.43,
            2.21,
            4.24,
            1.96,
            6.23,
            3.45,
            4.97,
            3.13
           ]
          }
         ]
        },
        {
         "data": [
          {
           "name": "Y1993",
           "type": "bar",
           "x": [
            "Mongolia",
            "Japan",
            "Thailand",
            "South Korea",
            "Tonga",
            "Monaco",
            "China",
            "Cook Islands",
            "Guinea",
            "Taiwan"
           ],
           "y": [
            12.67,
            7.1,
            5.94,
            2.89,
            5.63,
            2.59,
            8.42,
            4.57,
            6.57,
            4.26
           ]
          }
         ]
        },
        {
         "data": [
          {
           "name": "Y1994",
           "type": "bar",
           "x": [
            "Mongolia",
            "Japan",
            "Thailand",
            "South Korea",
            "Tonga",
            "Monaco",
            "China",
            "Cook Islands",
            "Guinea",
            "Taiwan"
           ],
           "y": [
            15.73,
            9.2,
            7.48,
            3.57,
            7.13,
            3.21,
            10.67,
            5.68,
            8.08,
            5.42
           ]
          }
         ]
        },
        {
         "data": [
          {
           "name": "Y1995",
           "type": "bar",
           "x": [
            "Mongolia",
            "Japan",
            "Thailand",
            "South Korea",
            "Tonga",
            "Monaco",
            "China",
            "Cook Islands",
            "Guinea",
            "Taiwan"
           ],
           "y": [
            18.81,
            11.54,
            9.03,
            4.23,
            8.61,
            4.14,
            12.95,
            6.78,
            9.62,
            6.6
           ]
          }
         ]
        },
        {
         "data": [
          {
           "name": "Y1996",
           "type": "bar",
           "x": [
            "Mongolia",
            "Japan",
            "Thailand",
            "South Korea",
            "Tonga",
            "Monaco",
            "China",
            "Cook Islands",
            "Guinea",
            "Taiwan"
           ],
           "y": [
            21.92,
            14.03,
            10.6,
            5.02,
            10.09,
            5.06,
            15.25,
            7.88,
            11.09,
            7.81
           ]
          }
         ]
        },
        {
         "data": [
          {
           "name": "Y1997",
           "type": "bar",
           "x": [
            "Mongolia",
            "Japan",
            "Thailand",
            "South Korea",
            "Tonga",
            "Monaco",
            "China",
            "Cook Islands",
            "Guinea",
            "Taiwan"
           ],
           "y": [
            25.03,
            16.64,
            12.11,
            6.08,
            11.67,
            5.97,
            17.54,
            8.98,
            12.57,
            8.94
           ]
          }
         ]
        },
        {
         "data": [
          {
           "name": "Y1998",
           "type": "bar",
           "x": [
            "Mongolia",
            "Japan",
            "Thailand",
            "South Korea",
            "Tonga",
            "Monaco",
            "China",
            "Cook Islands",
            "Guinea",
            "Taiwan"
           ],
           "y": [
            28.2,
            19.4,
            13.66,
            7.53,
            13.17,
            7.17,
            19.79,
            10.38,
            14.18,
            10.23
           ]
          }
         ]
        },
        {
         "data": [
          {
           "name": "Y1999",
           "type": "bar",
           "x": [
            "Mongolia",
            "Japan",
            "Thailand",
            "South Korea",
            "Tonga",
            "Monaco",
            "China",
            "Cook Islands",
            "Guinea",
            "Taiwan"
           ],
           "y": [
            31.47,
            22.23,
            15.32,
            9.36,
            14.75,
            8.35,
            22,
            11.91,
            15.65,
            11.6
           ]
          }
         ]
        },
        {
         "data": [
          {
           "name": "Y2000",
           "type": "bar",
           "x": [
            "Mongolia",
            "Japan",
            "Thailand",
            "South Korea",
            "Tonga",
            "Monaco",
            "China",
            "Cook Islands",
            "Guinea",
            "Taiwan"
           ],
           "y": [
            34.91,
            25.08,
            17.01,
            11.5,
            16.42,
            9.86,
            24.06,
            13.58,
            17.09,
            13.05
           ]
          }
         ]
        },
        {
         "data": [
          {
           "name": "Y2001",
           "type": "bar",
           "x": [
            "Mongolia",
            "Japan",
            "Thailand",
            "South Korea",
            "Tonga",
            "Monaco",
            "China",
            "Cook Islands",
            "Guinea",
            "Taiwan"
           ],
           "y": [
            38.69,
            27.9,
            18.66,
            13.8,
            18.07,
            11.7,
            25.85,
            15.4,
            18.57,
            14.51
           ]
          }
         ]
        },
        {
         "data": [
          {
           "name": "Y2002",
           "type": "bar",
           "x": [
            "Mongolia",
            "Japan",
            "Thailand",
            "South Korea",
            "Tonga",
            "Monaco",
            "China",
            "Cook Islands",
            "Guinea",
            "Taiwan"
           ],
           "y": [
            42.73,
            30.71,
            20.38,
            16.18,
            19.71,
            13.57,
            27.32,
            17.33,
            20.23,
            15.78
           ]
          }
         ]
        },
        {
         "data": [
          {
           "name": "Y2003",
           "type": "bar",
           "x": [
            "Mongolia",
            "Japan",
            "Thailand",
            "South Korea",
            "Tonga",
            "Monaco",
            "China",
            "Cook Islands",
            "Guinea",
            "Taiwan"
           ],
           "y": [
            47.05,
            33.53,
            22.15,
            18.61,
            21.33,
            15.45,
            28.52,
            18.59,
            21.58,
            17.33
           ]
          }
         ]
        },
        {
         "data": [
          {
           "name": "Y2004",
           "type": "bar",
           "x": [
            "Mongolia",
            "Japan",
            "Thailand",
            "South Korea",
            "Tonga",
            "Monaco",
            "China",
            "Cook Islands",
            "Guinea",
            "Taiwan"
           ],
           "y": [
            51.64,
            36.36,
            24.04,
            21.02,
            23.01,
            17.35,
            29.53,
            19.87,
            22.91,
            19.01
           ]
          }
         ]
        },
        {
         "data": [
          {
           "name": "Y2005",
           "type": "bar",
           "x": [
            "Mongolia",
            "Japan",
            "Thailand",
            "South Korea",
            "Tonga",
            "Monaco",
            "China",
            "Cook Islands",
            "Guinea",
            "Taiwan"
           ],
           "y": [
            56.49,
            39.18,
            26.02,
            23.4,
            24.58,
            19.57,
            30.45,
            21.15,
            24.25,
            20.75
           ]
          }
         ]
        },
        {
         "data": [
          {
           "name": "Y2006",
           "type": "bar",
           "x": [
            "Mongolia",
            "Japan",
            "Thailand",
            "South Korea",
            "Tonga",
            "Monaco",
            "China",
            "Cook Islands",
            "Guinea",
            "Taiwan"
           ],
           "y": [
            61.63,
            41.99,
            28.12,
            25.78,
            26.15,
            21.81,
            31.33,
            22.42,
            25.56,
            22.44
           ]
          }
         ]
        },
        {
         "data": [
          {
           "name": "Y2007",
           "type": "bar",
           "x": [
            "Mongolia",
            "Japan",
            "Thailand",
            "South Korea",
            "Tonga",
            "Monaco",
            "China",
            "Cook Islands",
            "Guinea",
            "Taiwan"
           ],
           "y": [
            66.96,
            44.78,
            30.31,
            28.17,
            27.71,
            24.11,
            32.18,
            23.63,
            26.76,
            24
           ]
          }
         ]
        },
        {
         "data": [
          {
           "name": "Y2008",
           "type": "bar",
           "x": [
            "Mongolia",
            "Japan",
            "Thailand",
            "South Korea",
            "Tonga",
            "Monaco",
            "China",
            "Cook Islands",
            "Guinea",
            "Taiwan"
           ],
           "y": [
            72.42,
            47.54,
            32.57,
            30.56,
            29.3,
            26.49,
            33.06,
            24.08,
            27.88,
            25.36
           ]
          }
         ]
        },
        {
         "data": [
          {
           "name": "Y2009",
           "type": "bar",
           "x": [
            "Mongolia",
            "Japan",
            "Thailand",
            "South Korea",
            "Tonga",
            "Monaco",
            "China",
            "Cook Islands",
            "Guinea",
            "Taiwan"
           ],
           "y": [
            78.02,
            50.26,
            34.92,
            32.95,
            31.01,
            28.43,
            33.91,
            24.47,
            28.93,
            26.58
           ]
          }
         ]
        },
        {
         "data": [
          {
           "name": "Y2010",
           "type": "bar",
           "x": [
            "Mongolia",
            "Japan",
            "Thailand",
            "South Korea",
            "Tonga",
            "Monaco",
            "China",
            "Cook Islands",
            "Guinea",
            "Taiwan"
           ],
           "y": [
            83.69,
            52.96,
            37.4,
            35.34,
            32.73,
            29.89,
            34.73,
            24.82,
            29.94,
            27.69
           ]
          }
         ]
        },
        {
         "data": [
          {
           "name": "Y2011",
           "type": "bar",
           "x": [
            "Mongolia",
            "Japan",
            "Thailand",
            "South Korea",
            "Tonga",
            "Monaco",
            "China",
            "Cook Islands",
            "Guinea",
            "Taiwan"
           ],
           "y": [
            89.39,
            55.66,
            40,
            37.67,
            34.41,
            31.28,
            35.54,
            25.14,
            30.9,
            28.75
           ]
          }
         ]
        },
        {
         "data": [
          {
           "name": "Y2012",
           "type": "bar",
           "x": [
            "Mongolia",
            "Japan",
            "Thailand",
            "South Korea",
            "Tonga",
            "Monaco",
            "China",
            "Cook Islands",
            "Guinea",
            "Taiwan"
           ],
           "y": [
            94.73,
            58.37,
            42.65,
            39.83,
            36.12,
            32.63,
            36.36,
            25.5,
            31.83,
            29.68
           ]
          }
         ]
        },
        {
         "data": [
          {
           "name": "Y2013",
           "type": "bar",
           "x": [
            "Mongolia",
            "Japan",
            "Thailand",
            "South Korea",
            "Tonga",
            "Monaco",
            "China",
            "Cook Islands",
            "Guinea",
            "Taiwan"
           ],
           "y": [
            99.93,
            61.05,
            45.31,
            41.96,
            38.02,
            33.93,
            37.17,
            26.72,
            32.74,
            30.56
           ]
          }
         ]
        },
        {
         "data": [
          {
           "name": "Y2014",
           "type": "bar",
           "x": [
            "Mongolia",
            "Japan",
            "Thailand",
            "South Korea",
            "Tonga",
            "Monaco",
            "China",
            "Cook Islands",
            "Guinea",
            "Taiwan"
           ],
           "y": [
            104.92,
            63.72,
            48.03,
            44.08,
            39.96,
            35.22,
            38.06,
            27.98,
            33.6,
            31.45
           ]
          }
         ]
        },
        {
         "data": [
          {
           "name": "Y2015",
           "type": "bar",
           "x": [
            "Mongolia",
            "Japan",
            "Thailand",
            "South Korea",
            "Tonga",
            "Monaco",
            "China",
            "Cook Islands",
            "Guinea",
            "Taiwan"
           ],
           "y": [
            109.75,
            66.38,
            50.82,
            46.19,
            41.92,
            36.49,
            39,
            29.27,
            34.41,
            32.34
           ]
          }
         ]
        },
        {
         "data": [
          {
           "name": "Y2016",
           "type": "bar",
           "x": [
            "Mongolia",
            "Japan",
            "Thailand",
            "South Korea",
            "Tonga",
            "Monaco",
            "China",
            "Cook Islands",
            "Guinea",
            "Taiwan"
           ],
           "y": [
            114.56,
            69.05,
            53.76,
            48.34,
            43.93,
            37.76,
            40.02,
            31.2,
            35.14,
            33.29
           ]
          }
         ]
        },
        {
         "data": [
          {
           "name": "Y2017",
           "type": "bar",
           "x": [
            "Mongolia",
            "Japan",
            "Thailand",
            "South Korea",
            "Tonga",
            "Monaco",
            "China",
            "Cook Islands",
            "Guinea",
            "Taiwan"
           ],
           "y": [
            119.31,
            71.78,
            56.76,
            50.76,
            45.95,
            39.66,
            41.04,
            33.21,
            35.82,
            34.29
           ]
          }
         ]
        },
        {
         "data": [
          {
           "name": "Y2018",
           "type": "bar",
           "x": [
            "Mongolia",
            "Japan",
            "Thailand",
            "South Korea",
            "Tonga",
            "Monaco",
            "China",
            "Cook Islands",
            "Guinea",
            "Taiwan"
           ],
           "y": [
            124.05,
            74.66,
            59.9,
            53.28,
            47.97,
            41.6,
            42.09,
            35.21,
            36.48,
            35.35
           ]
          }
         ]
        },
        {
         "data": [
          {
           "name": "Y2019",
           "type": "bar",
           "x": [
            "Mongolia",
            "Japan",
            "Thailand",
            "South Korea",
            "Tonga",
            "Monaco",
            "China",
            "Cook Islands",
            "Guinea",
            "Taiwan"
           ],
           "y": [
            128.77,
            77.65,
            63.18,
            55.92,
            49.99,
            43.47,
            43.25,
            37.25,
            37.09,
            36.47
           ]
          }
         ]
        }
       ],
       "layout": {
        "plot_bgcolor": "#ffffff",
        "showlegend": true,
        "template": {
         "data": {
          "bar": [
           {
            "error_x": {
             "color": "#2a3f5f"
            },
            "error_y": {
             "color": "#2a3f5f"
            },
            "marker": {
             "line": {
              "color": "#E5ECF6",
              "width": 0.5
             },
             "pattern": {
              "fillmode": "overlay",
              "size": 10,
              "solidity": 0.2
             }
            },
            "type": "bar"
           }
          ],
          "barpolar": [
           {
            "marker": {
             "line": {
              "color": "#E5ECF6",
              "width": 0.5
             },
             "pattern": {
              "fillmode": "overlay",
              "size": 10,
              "solidity": 0.2
             }
            },
            "type": "barpolar"
           }
          ],
          "carpet": [
           {
            "aaxis": {
             "endlinecolor": "#2a3f5f",
             "gridcolor": "white",
             "linecolor": "white",
             "minorgridcolor": "white",
             "startlinecolor": "#2a3f5f"
            },
            "baxis": {
             "endlinecolor": "#2a3f5f",
             "gridcolor": "white",
             "linecolor": "white",
             "minorgridcolor": "white",
             "startlinecolor": "#2a3f5f"
            },
            "type": "carpet"
           }
          ],
          "choropleth": [
           {
            "colorbar": {
             "outlinewidth": 0,
             "ticks": ""
            },
            "type": "choropleth"
           }
          ],
          "contour": [
           {
            "colorbar": {
             "outlinewidth": 0,
             "ticks": ""
            },
            "colorscale": [
             [
              0,
              "#0d0887"
             ],
             [
              0.1111111111111111,
              "#46039f"
             ],
             [
              0.2222222222222222,
              "#7201a8"
             ],
             [
              0.3333333333333333,
              "#9c179e"
             ],
             [
              0.4444444444444444,
              "#bd3786"
             ],
             [
              0.5555555555555556,
              "#d8576b"
             ],
             [
              0.6666666666666666,
              "#ed7953"
             ],
             [
              0.7777777777777778,
              "#fb9f3a"
             ],
             [
              0.8888888888888888,
              "#fdca26"
             ],
             [
              1,
              "#f0f921"
             ]
            ],
            "type": "contour"
           }
          ],
          "contourcarpet": [
           {
            "colorbar": {
             "outlinewidth": 0,
             "ticks": ""
            },
            "type": "contourcarpet"
           }
          ],
          "heatmap": [
           {
            "colorbar": {
             "outlinewidth": 0,
             "ticks": ""
            },
            "colorscale": [
             [
              0,
              "#0d0887"
             ],
             [
              0.1111111111111111,
              "#46039f"
             ],
             [
              0.2222222222222222,
              "#7201a8"
             ],
             [
              0.3333333333333333,
              "#9c179e"
             ],
             [
              0.4444444444444444,
              "#bd3786"
             ],
             [
              0.5555555555555556,
              "#d8576b"
             ],
             [
              0.6666666666666666,
              "#ed7953"
             ],
             [
              0.7777777777777778,
              "#fb9f3a"
             ],
             [
              0.8888888888888888,
              "#fdca26"
             ],
             [
              1,
              "#f0f921"
             ]
            ],
            "type": "heatmap"
           }
          ],
          "heatmapgl": [
           {
            "colorbar": {
             "outlinewidth": 0,
             "ticks": ""
            },
            "colorscale": [
             [
              0,
              "#0d0887"
             ],
             [
              0.1111111111111111,
              "#46039f"
             ],
             [
              0.2222222222222222,
              "#7201a8"
             ],
             [
              0.3333333333333333,
              "#9c179e"
             ],
             [
              0.4444444444444444,
              "#bd3786"
             ],
             [
              0.5555555555555556,
              "#d8576b"
             ],
             [
              0.6666666666666666,
              "#ed7953"
             ],
             [
              0.7777777777777778,
              "#fb9f3a"
             ],
             [
              0.8888888888888888,
              "#fdca26"
             ],
             [
              1,
              "#f0f921"
             ]
            ],
            "type": "heatmapgl"
           }
          ],
          "histogram": [
           {
            "marker": {
             "pattern": {
              "fillmode": "overlay",
              "size": 10,
              "solidity": 0.2
             }
            },
            "type": "histogram"
           }
          ],
          "histogram2d": [
           {
            "colorbar": {
             "outlinewidth": 0,
             "ticks": ""
            },
            "colorscale": [
             [
              0,
              "#0d0887"
             ],
             [
              0.1111111111111111,
              "#46039f"
             ],
             [
              0.2222222222222222,
              "#7201a8"
             ],
             [
              0.3333333333333333,
              "#9c179e"
             ],
             [
              0.4444444444444444,
              "#bd3786"
             ],
             [
              0.5555555555555556,
              "#d8576b"
             ],
             [
              0.6666666666666666,
              "#ed7953"
             ],
             [
              0.7777777777777778,
              "#fb9f3a"
             ],
             [
              0.8888888888888888,
              "#fdca26"
             ],
             [
              1,
              "#f0f921"
             ]
            ],
            "type": "histogram2d"
           }
          ],
          "histogram2dcontour": [
           {
            "colorbar": {
             "outlinewidth": 0,
             "ticks": ""
            },
            "colorscale": [
             [
              0,
              "#0d0887"
             ],
             [
              0.1111111111111111,
              "#46039f"
             ],
             [
              0.2222222222222222,
              "#7201a8"
             ],
             [
              0.3333333333333333,
              "#9c179e"
             ],
             [
              0.4444444444444444,
              "#bd3786"
             ],
             [
              0.5555555555555556,
              "#d8576b"
             ],
             [
              0.6666666666666666,
              "#ed7953"
             ],
             [
              0.7777777777777778,
              "#fb9f3a"
             ],
             [
              0.8888888888888888,
              "#fdca26"
             ],
             [
              1,
              "#f0f921"
             ]
            ],
            "type": "histogram2dcontour"
           }
          ],
          "mesh3d": [
           {
            "colorbar": {
             "outlinewidth": 0,
             "ticks": ""
            },
            "type": "mesh3d"
           }
          ],
          "parcoords": [
           {
            "line": {
             "colorbar": {
              "outlinewidth": 0,
              "ticks": ""
             }
            },
            "type": "parcoords"
           }
          ],
          "pie": [
           {
            "automargin": true,
            "type": "pie"
           }
          ],
          "scatter": [
           {
            "fillpattern": {
             "fillmode": "overlay",
             "size": 10,
             "solidity": 0.2
            },
            "type": "scatter"
           }
          ],
          "scatter3d": [
           {
            "line": {
             "colorbar": {
              "outlinewidth": 0,
              "ticks": ""
             }
            },
            "marker": {
             "colorbar": {
              "outlinewidth": 0,
              "ticks": ""
             }
            },
            "type": "scatter3d"
           }
          ],
          "scattercarpet": [
           {
            "marker": {
             "colorbar": {
              "outlinewidth": 0,
              "ticks": ""
             }
            },
            "type": "scattercarpet"
           }
          ],
          "scattergeo": [
           {
            "marker": {
             "colorbar": {
              "outlinewidth": 0,
              "ticks": ""
             }
            },
            "type": "scattergeo"
           }
          ],
          "scattergl": [
           {
            "marker": {
             "colorbar": {
              "outlinewidth": 0,
              "ticks": ""
             }
            },
            "type": "scattergl"
           }
          ],
          "scattermapbox": [
           {
            "marker": {
             "colorbar": {
              "outlinewidth": 0,
              "ticks": ""
             }
            },
            "type": "scattermapbox"
           }
          ],
          "scatterpolar": [
           {
            "marker": {
             "colorbar": {
              "outlinewidth": 0,
              "ticks": ""
             }
            },
            "type": "scatterpolar"
           }
          ],
          "scatterpolargl": [
           {
            "marker": {
             "colorbar": {
              "outlinewidth": 0,
              "ticks": ""
             }
            },
            "type": "scatterpolargl"
           }
          ],
          "scatterternary": [
           {
            "marker": {
             "colorbar": {
              "outlinewidth": 0,
              "ticks": ""
             }
            },
            "type": "scatterternary"
           }
          ],
          "surface": [
           {
            "colorbar": {
             "outlinewidth": 0,
             "ticks": ""
            },
            "colorscale": [
             [
              0,
              "#0d0887"
             ],
             [
              0.1111111111111111,
              "#46039f"
             ],
             [
              0.2222222222222222,
              "#7201a8"
             ],
             [
              0.3333333333333333,
              "#9c179e"
             ],
             [
              0.4444444444444444,
              "#bd3786"
             ],
             [
              0.5555555555555556,
              "#d8576b"
             ],
             [
              0.6666666666666666,
              "#ed7953"
             ],
             [
              0.7777777777777778,
              "#fb9f3a"
             ],
             [
              0.8888888888888888,
              "#fdca26"
             ],
             [
              1,
              "#f0f921"
             ]
            ],
            "type": "surface"
           }
          ],
          "table": [
           {
            "cells": {
             "fill": {
              "color": "#EBF0F8"
             },
             "line": {
              "color": "white"
             }
            },
            "header": {
             "fill": {
              "color": "#C8D4E3"
             },
             "line": {
              "color": "white"
             }
            },
            "type": "table"
           }
          ]
         },
         "layout": {
          "annotationdefaults": {
           "arrowcolor": "#2a3f5f",
           "arrowhead": 0,
           "arrowwidth": 1
          },
          "autotypenumbers": "strict",
          "coloraxis": {
           "colorbar": {
            "outlinewidth": 0,
            "ticks": ""
           }
          },
          "colorscale": {
           "diverging": [
            [
             0,
             "#8e0152"
            ],
            [
             0.1,
             "#c51b7d"
            ],
            [
             0.2,
             "#de77ae"
            ],
            [
             0.3,
             "#f1b6da"
            ],
            [
             0.4,
             "#fde0ef"
            ],
            [
             0.5,
             "#f7f7f7"
            ],
            [
             0.6,
             "#e6f5d0"
            ],
            [
             0.7,
             "#b8e186"
            ],
            [
             0.8,
             "#7fbc41"
            ],
            [
             0.9,
             "#4d9221"
            ],
            [
             1,
             "#276419"
            ]
           ],
           "sequential": [
            [
             0,
             "#0d0887"
            ],
            [
             0.1111111111111111,
             "#46039f"
            ],
            [
             0.2222222222222222,
             "#7201a8"
            ],
            [
             0.3333333333333333,
             "#9c179e"
            ],
            [
             0.4444444444444444,
             "#bd3786"
            ],
            [
             0.5555555555555556,
             "#d8576b"
            ],
            [
             0.6666666666666666,
             "#ed7953"
            ],
            [
             0.7777777777777778,
             "#fb9f3a"
            ],
            [
             0.8888888888888888,
             "#fdca26"
            ],
            [
             1,
             "#f0f921"
            ]
           ],
           "sequentialminus": [
            [
             0,
             "#0d0887"
            ],
            [
             0.1111111111111111,
             "#46039f"
            ],
            [
             0.2222222222222222,
             "#7201a8"
            ],
            [
             0.3333333333333333,
             "#9c179e"
            ],
            [
             0.4444444444444444,
             "#bd3786"
            ],
            [
             0.5555555555555556,
             "#d8576b"
            ],
            [
             0.6666666666666666,
             "#ed7953"
            ],
            [
             0.7777777777777778,
             "#fb9f3a"
            ],
            [
             0.8888888888888888,
             "#fdca26"
            ],
            [
             1,
             "#f0f921"
            ]
           ]
          },
          "colorway": [
           "#636efa",
           "#EF553B",
           "#00cc96",
           "#ab63fa",
           "#FFA15A",
           "#19d3f3",
           "#FF6692",
           "#B6E880",
           "#FF97FF",
           "#FECB52"
          ],
          "font": {
           "color": "#2a3f5f"
          },
          "geo": {
           "bgcolor": "white",
           "lakecolor": "white",
           "landcolor": "#E5ECF6",
           "showlakes": true,
           "showland": true,
           "subunitcolor": "white"
          },
          "hoverlabel": {
           "align": "left"
          },
          "hovermode": "closest",
          "mapbox": {
           "style": "light"
          },
          "paper_bgcolor": "white",
          "plot_bgcolor": "#E5ECF6",
          "polar": {
           "angularaxis": {
            "gridcolor": "white",
            "linecolor": "white",
            "ticks": ""
           },
           "bgcolor": "#E5ECF6",
           "radialaxis": {
            "gridcolor": "white",
            "linecolor": "white",
            "ticks": ""
           }
          },
          "scene": {
           "xaxis": {
            "backgroundcolor": "#E5ECF6",
            "gridcolor": "white",
            "gridwidth": 2,
            "linecolor": "white",
            "showbackground": true,
            "ticks": "",
            "zerolinecolor": "white"
           },
           "yaxis": {
            "backgroundcolor": "#E5ECF6",
            "gridcolor": "white",
            "gridwidth": 2,
            "linecolor": "white",
            "showbackground": true,
            "ticks": "",
            "zerolinecolor": "white"
           },
           "zaxis": {
            "backgroundcolor": "#E5ECF6",
            "gridcolor": "white",
            "gridwidth": 2,
            "linecolor": "white",
            "showbackground": true,
            "ticks": "",
            "zerolinecolor": "white"
           }
          },
          "shapedefaults": {
           "line": {
            "color": "#2a3f5f"
           }
          },
          "ternary": {
           "aaxis": {
            "gridcolor": "white",
            "linecolor": "white",
            "ticks": ""
           },
           "baxis": {
            "gridcolor": "white",
            "linecolor": "white",
            "ticks": ""
           },
           "bgcolor": "#E5ECF6",
           "caxis": {
            "gridcolor": "white",
            "linecolor": "white",
            "ticks": ""
           }
          },
          "title": {
           "x": 0.05
          },
          "xaxis": {
           "automargin": true,
           "gridcolor": "white",
           "linecolor": "white",
           "ticks": "",
           "title": {
            "standoff": 15
           },
           "zerolinecolor": "white",
           "zerolinewidth": 2
          },
          "yaxis": {
           "automargin": true,
           "gridcolor": "white",
           "linecolor": "white",
           "ticks": "",
           "title": {
            "standoff": 15
           },
           "zerolinecolor": "white",
           "zerolinewidth": 2
          }
         }
        },
        "title": {
         "font": {
          "color": "black",
          "family": "NanumSquare",
          "size": 25
         },
         "text": "1990년 ~ 2019년 Top 10 간암 사망자 비율 변화",
         "x": 0.5,
         "xanchor": "center"
        },
        "updatemenus": [
         {
          "buttons": [
           {
            "args": [
             null,
             {
              "frame": {
               "duration": 500,
               "redraw": true
              },
              "fromcurrent": true
             }
            ],
            "label": "Play",
            "method": "animate"
           },
           {
            "args": [
             [
              null
             ],
             {
              "frame": {
               "duration": 0,
               "redraw": false
              },
              "mode": "immediate"
             }
            ],
            "label": "Pause",
            "method": "animate"
           },
           {
            "args": [
             null,
             {
              "frame": {
               "duration": 0,
               "redraw": true
              },
              "fromcurrent": true
             }
            ],
            "label": "Reset",
            "method": "animate"
           }
          ],
          "showactive": false,
          "type": "buttons"
         }
        ],
        "xaxis": {
         "title": {
          "text": "Country"
         }
        },
        "yaxis": {
         "range": [
          0,
          100
         ],
         "title": {
          "text": "Count(10000명당 명수)"
         }
        }
       }
      }
     },
     "metadata": {},
     "output_type": "display_data"
    }
   ],
   "source": [
    "# Bar Plot 생성\n",
    "fig = go.Figure()\n",
    "\n",
    "colors = ['lightslategray','lightslategray','lightslategray',\n",
    "          'red', 'lightslategray','lightslategray',\n",
    "          'lightslategray','lightslategray','lightslategray',\n",
    "          'lightslategray']\n",
    "\n",
    "# 초기 프레임 추가\n",
    "fig.add_trace(go.Bar(x=top10_yearsp['Entity'], y=top10_yearsp['Y1990'],\n",
    "                     marker_color=colors,\n",
    "                     name='Y1990'))\n",
    "\n",
    "# 추가 프레임 및 애니메이션 설정\n",
    "for column in top10_yearsp.columns[2:]:\n",
    "    fig.add_trace(go.Bar(x=top10_yearsp['Entity'], y=top10_yearsp[column], visible=False))\n",
    "\n",
    "fig.update_layout(updatemenus=[dict(type='buttons', showactive=False, buttons=[\n",
    "    dict(label='Play',\n",
    "         method='animate',\n",
    "         args=[None, dict(frame=dict(duration=500, redraw=True), fromcurrent=True)]),\n",
    "    dict(label='Pause',\n",
    "         method='animate',\n",
    "         args=[[None], dict(frame=dict(duration=0, redraw=False), mode='immediate')],\n",
    "         ),\n",
    "    dict(label='Reset',\n",
    "         method='animate',\n",
    "         args=[None, dict(frame=dict(duration=0, redraw=True), fromcurrent=True)],\n",
    "         ),\n",
    "])])\n",
    "\n",
    "# 애니메이션 프레임 설정\n",
    "frames = [go.Frame(data=[go.Bar(x=top10_yearsp['Entity'], y=top10_yearsp[column], name=column)])\n",
    "          for column in top10_yearsp.columns[3:]]\n",
    "fig.frames = frames\n",
    "\n",
    "# Y축 범위 고정\n",
    "fig.update_yaxes(range=[0, 100])  # 원하는 범위로 수정\n",
    "\n",
    "# 그래프 레이아웃 설정\n",
    "fig.update_layout(title_text=\"1990년 ~ 2019년 Top 10 간암 사망자 비율 변화\",\n",
    "                  title_x = 0.5,\n",
    "                  title_xanchor = 'center',\n",
    "                  title_font_size = 25,\n",
    "                  title_font_color = 'black',\n",
    "                  title_font_family = 'NanumSquare',\n",
    "                  plot_bgcolor='#ffffff',\n",
    "                  xaxis=dict(title='Country'),\n",
    "                  yaxis=dict(title='Count(10000명당 명수)'),\n",
    "                  showlegend=True)\n",
    "\n",
    "fig.update_traces(#marker_color= 히스토그램 색, \n",
    "                 #marker_line_width=히스토그램 테두리 두깨,                            \n",
    "                 #marker_line_color=히스토그램 테두리 색,\n",
    "                 marker_opacity = 0.4,\n",
    "                 )\n",
    "# 그래프 출력\n",
    "fig.show()\n",
    "\n",
    "# 저장\n",
    "fig.write_image(\"../figure/cancer_death_count_perc_ani.png\")"
   ]
  },
  {
   "cell_type": "code",
   "execution_count": null,
   "metadata": {},
   "outputs": [],
   "source": []
  }
 ],
 "metadata": {
  "kernelspec": {
   "display_name": "ss",
   "language": "python",
   "name": "python3"
  },
  "language_info": {
   "codemirror_mode": {
    "name": "ipython",
    "version": 3
   },
   "file_extension": ".py",
   "mimetype": "text/x-python",
   "name": "python",
   "nbconvert_exporter": "python",
   "pygments_lexer": "ipython3",
   "version": "3.8.17"
  }
 },
 "nbformat": 4,
 "nbformat_minor": 2
}
