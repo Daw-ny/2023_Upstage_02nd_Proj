{
 "cells": [
  {
   "cell_type": "code",
   "execution_count": 1,
   "metadata": {},
   "outputs": [],
   "source": [
    "import numpy as np\n",
    "import pandas as pd"
   ]
  },
  {
   "cell_type": "code",
   "execution_count": 14,
   "metadata": {},
   "outputs": [],
   "source": [
    "code = pd.read_csv(\"../data/codebook.csv\", encoding='euc-kr')"
   ]
  },
  {
   "cell_type": "code",
   "execution_count": 17,
   "metadata": {},
   "outputs": [
    {
     "data": {
      "text/plain": [
       "0                                   [Albumin ,  LBXSAL]\n",
       "1                               [Platelets ,  LBXPLTSI]\n",
       "2                       [Cholesterol (mg/dL) ,  LBXSCH]\n",
       "3                   [Total bilirubin (mg/dL) ,  LBXSTB]\n",
       "4                       [Triglyceride (mg/dL) ,  LBXTR]\n",
       "5             [Alkaline phosphatase (IU/L) ,  LBXSAPSI]\n",
       "6     [Aspartate aminotransferase AST (U/L) [SGOT] ,...\n",
       "7                  [Respondent sequence number ,  SEQN]\n",
       "8     [Serum Copper(ug/dL) ,  LBXSCU (*dL / 24 해야함)=...\n",
       "9              [Hepatitis B Surface Antibody ,  LBXHBS]\n",
       "10              [Hepatitis B surface antigen ,  LBDHBG]\n",
       "11                [Hepatitis B core antibody ,  LBXHBC]\n",
       "12                  [Fasting Glucose (mg/dL) ,  LBXGLU]\n",
       "13                       [Creatinine (mg/dL) ,  LBXSCR]\n",
       "14    [Insulin (uU/mL) ,  LBXINIMQ020 ,  B형 간염 백신 3회...\n",
       "15    [HEQ010 ,  의사나 기타 의료 전문가가 {귀하}에게 B형 간염이 있다고 {귀...\n",
       "16             [HEQ020 ,  B형 간염 치료를 위해 약을 처방한 적이 있습니까?]\n",
       "17    [HEQ030 ,  의사나 기타 의료 전문가가 {귀하}에게 C형 간염이 있다고 {귀...\n",
       "18             [HEQ040 ,  C형 간염 치료를 위해 약을 처방한 적이 있습니까?]\n",
       "19                    [MCQ170l ,  아직도 . . . 간 질환이 있나요?]\n",
       "20                [MCQ180l ,  몇 살이었습니까? . .간 질환이 있었나요?]\n",
       "21    [MCQ240m ,  How old (were you/was SP) when liv...\n",
       "22                            [MCQ160l ,  .간 질환이 있었나요?]\n",
       "23    [MCQ240m ,  간암이 처음 진단되었을 때 몇 살(당신은 SP였습니까?)이었습...\n",
       "24    [DR2TALCO(DR2TOT_H) Alcohol (gm) DR2TOT_H Diet...\n",
       "25    [DR1IALCO(DR1IFF_H) Alcohol (gm) DR1IFF_H Diet...\n",
       "26    [DR2IALCO(DR2IFF_H) Alcohol (gm) DR2IFF_H Diet...\n",
       "27                                     [DMDHRAGE ,  연령]\n",
       "28                                     [DMDHRGND ,  성별]\n",
       "29    [ALQ101 다음 질문은 음주에 관한 것입니다. 주류(예,  위스키 또는 진), ...\n",
       "30    [ALQ110 ,  {귀하의/SP의} 평생 동안 {당신은/그가/ 그녀가} 어떤 종류...\n",
       "31    [ALQ120Q ,  조사,  {귀하/SP}는 일주일에, 한 달에, 또는 일년에 며...\n",
       "32                              [ALQ120U ,  alchol 측정량]\n",
       "33    [ALQ130 ,  지난 12개월 동안 {귀하/SP}가 술을 마신 날에 {귀/그/그...\n",
       "34    [ALQ141Q ,  지난 12개월 동안 {귀하/SP}가 알코올 음료를 {DISPL...\n",
       "35                              [ALQ141U ,  alchol 측정량]\n",
       "36    [ALQ151 ,  {귀하/SP의} 인생에서 {귀하/그/그녀}가 거의 매일 {DIS...\n",
       "37    [ALQ160 ,  지난 30일 동안 {귀하/SP}는 약 2시간 동안 어떤 종류의 ...\n",
       "38         [ALD020 ,  귀하는 평생 동안 술을 한 잔 이상 마신 날이 며칠입니까?]\n",
       "39        [ALD030 ,  지난 30일 동안, 술을 한 잔 이상 마신 날은 며칠입니까?]\n",
       "40    [ALD040 ,  지난 30일 동안 연속으로, 즉 몇 시간 내에 {DISPLAY ...\n",
       "Name: name, dtype: object"
      ]
     },
     "execution_count": 17,
     "metadata": {},
     "output_type": "execute_result"
    }
   ],
   "source": [
    "code['name'].str.split(':')"
   ]
  },
  {
   "cell_type": "code",
   "execution_count": null,
   "metadata": {},
   "outputs": [],
   "source": []
  }
 ],
 "metadata": {
  "kernelspec": {
   "display_name": "ss",
   "language": "python",
   "name": "python3"
  },
  "language_info": {
   "codemirror_mode": {
    "name": "ipython",
    "version": 3
   },
   "file_extension": ".py",
   "mimetype": "text/x-python",
   "name": "python",
   "nbconvert_exporter": "python",
   "pygments_lexer": "ipython3",
   "version": "3.8.17"
  }
 },
 "nbformat": 4,
 "nbformat_minor": 2
}
